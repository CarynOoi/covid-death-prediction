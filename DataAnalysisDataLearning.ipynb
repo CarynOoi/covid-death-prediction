{
 "cells": [
  {
   "attachments": {},
   "cell_type": "markdown",
   "id": "117b6390",
   "metadata": {},
   "source": [
    "\n",
    "**Due to having 1000+ features alltogether when creating dummies features (due to the different state fips code that represents different location), rerunning this notebook will take over 30 minutes. thus it is not recommended to re-run the notebook.**"
   ]
  },
  {
   "attachments": {},
   "cell_type": "markdown",
   "id": "8768cdde",
   "metadata": {},
   "source": [
    "## Exercises\n",
    "\n",
    "**This homework focuses on training and evaluating prediction models for a particular problem and dataset.**\n",
    "The data comes from the Centers for Disease Control and Prevention (CDC: https://covid.cdc.gov/covid-data-tracker/). CDC is a USA health protection agency and is in charge of collecting data about the COVID-19 pandemic, and in particular, tracking cases, deaths, and trends of COVID-19 in the United States. CDC collects and makes public deidentified individual-case data on a daily basis, submitted using standardized case reporting forms. In this analysis, we focus on using the data collected by CDC to build a data analytics solution for death risk prediction. \n",
    "\n",
    "The dataset we work with is a sample of the public data released by CDC, where the outcome for the target feature **death_yn** is known (i.e., either 'yes' or 'no'):\n",
    "https://data.cdc.gov/Case-Surveillance/COVID-19-Case-Surveillance-Public-Use-Data/vbim-akqf\n",
    "\n",
    "The goal in this homework is to work with the data to build and evaluate prediction models that capture the relationship between the descriptive features and the target feature **death_yn**. "
   ]
  },
  {
   "cell_type": "code",
   "execution_count": 1,
   "id": "1d90e444",
   "metadata": {},
   "outputs": [],
   "source": [
    "import pandas as pd\n",
    "from sklearn.model_selection import train_test_split\n",
    "import numpy as np\n",
    "import matplotlib.pyplot as plt\n",
    "import matplotlib.patches as mpatches\n",
    "\n",
    "from sklearn.linear_model import LinearRegression\n",
    "from sklearn.linear_model import LogisticRegression\n",
    "from sklearn.ensemble import RandomForestClassifier\n",
    "from sklearn.tree import DecisionTreeClassifier\n",
    "from sklearn.tree import export_graphviz\n",
    "from sklearn import metrics\n",
    "from sklearn.model_selection import cross_validate\n",
    "from sklearn.model_selection import cross_val_score\n",
    "from sklearn.metrics import confusion_matrix, ConfusionMatrixDisplay\n",
    "\n",
    "import graphviz\n",
    "from graphviz import Source\n",
    "\n",
    "# ignore warnings\n",
    "import warnings\n",
    "warnings.filterwarnings('ignore')\n"
   ]
  },
  {
   "attachments": {},
   "cell_type": "markdown",
   "id": "77788af7",
   "metadata": {},
   "source": [
    "# Part 1: Data Understanding and Preparation\n",
    "\n",
    "The original dataset form CDC is been cleaned in another Jupyter notebook file named \"DataPreparation.ipynb\". <br>The accompanying Data Quality Report is attached as \"Data_Quality_Report_Initial_Findings.pdf\". Below also shows a summary of the data quality plan:\n",
    "<br>\n",
    "\n",
    "### Summary of data quality plan:\n",
    "\n",
    "| Feature                                |    Data   Quality Issue              | Data Quality Plan                                      |\n",
    "|----------------------------------------|--------------------------------------|--------------------------------------------------------|\n",
    "|     case_month                         |     -                                |     -                                                  |\n",
    "|     case_onset_interval                |     large   amount null values       |     drop   feature                                     |\n",
    "|     case_positive_specimen_interval    |     large   amount null values       |     drop   feature                                     |\n",
    "|     state_fips_code                    |     -                                |     -                                                  |\n",
    "|     res_state                          |     duplicate   feature              |     drop   feature                                     |\n",
    "|     country_fips_code                  |     duplicate   feature                   |     drop feature                          |\n",
    "|     res_county                         |     duplicate   feature              |     drop   feature                                     |\n",
    "|     age_group                          |     null/missing/unknown   values    |     combine   “unknown”and null to “missing” column    |\n",
    "|     sex                                |     null/missing/unknown   values    |     combine   “unknown”and null to“missing” column     |\n",
    "|     race                               |     null/missing/unknown   values    |     combine   “unknown”and null to“missing” column     |\n",
    "|     ethnicity                          |     null/missing/unknown   values    |     combine   “unknown”and null to“missing” column     |\n",
    "|     process                            |     large   amount null values       |     drop   feature                                     |\n",
    "|     exposure_yn                        |     large   amount null values       |     drop   feature                                     |\n",
    "|     current_status                     |     -                                |     -                                                  |\n",
    "|     symptom_status                     |     large   amount null values       |     drop   feature                                     |\n",
    "|     hosp_yn                            |     null/missing/unknown   values    |     combine   “unknown”and null to“missing” column     |\n",
    "|     icu_yn                             |     null/missing/unknown   values    |     combine   “unknown”and null to“missing” column     |\n",
    "|     underlying_conditions_yn           |     null/missing/unknown   values    |     combine   “unknown”and null to“missing” column     |\n",
    "|     death_yn                           |     -                                |     -                                                  |"
   ]
  },
  {
   "attachments": {},
   "cell_type": "markdown",
   "id": "acb7ce70",
   "metadata": {},
   "source": [
    "##  1.1 Split the dataset into two datasets: 70% training and 30% test"
   ]
  },
  {
   "cell_type": "code",
   "execution_count": 2,
   "id": "8ba7755a",
   "metadata": {},
   "outputs": [
    {
     "data": {
      "text/html": [
       "<div>\n",
       "<style scoped>\n",
       "    .dataframe tbody tr th:only-of-type {\n",
       "        vertical-align: middle;\n",
       "    }\n",
       "\n",
       "    .dataframe tbody tr th {\n",
       "        vertical-align: top;\n",
       "    }\n",
       "\n",
       "    .dataframe thead th {\n",
       "        text-align: right;\n",
       "    }\n",
       "</style>\n",
       "<table border=\"1\" class=\"dataframe\">\n",
       "  <thead>\n",
       "    <tr style=\"text-align: right;\">\n",
       "      <th></th>\n",
       "      <th>case_month</th>\n",
       "      <th>county_fips_code</th>\n",
       "      <th>age_group</th>\n",
       "      <th>sex</th>\n",
       "      <th>race</th>\n",
       "      <th>ethnicity</th>\n",
       "      <th>current_status</th>\n",
       "      <th>hosp_yn</th>\n",
       "      <th>icu_yn</th>\n",
       "      <th>death_yn</th>\n",
       "      <th>underlying_conditions_yn</th>\n",
       "    </tr>\n",
       "  </thead>\n",
       "  <tbody>\n",
       "    <tr>\n",
       "      <th>0</th>\n",
       "      <td>2020-12-01</td>\n",
       "      <td>4019.0</td>\n",
       "      <td>65+ years</td>\n",
       "      <td>Female</td>\n",
       "      <td>Multiple/Other</td>\n",
       "      <td>Non-Hispanic/Latino</td>\n",
       "      <td>Laboratory-confirmed case</td>\n",
       "      <td>Yes</td>\n",
       "      <td>Missing</td>\n",
       "      <td>Yes</td>\n",
       "      <td>Missing</td>\n",
       "    </tr>\n",
       "    <tr>\n",
       "      <th>1</th>\n",
       "      <td>2020-03-01</td>\n",
       "      <td>36081.0</td>\n",
       "      <td>18 to 49 years</td>\n",
       "      <td>Male</td>\n",
       "      <td>Asian</td>\n",
       "      <td>Non-Hispanic/Latino</td>\n",
       "      <td>Laboratory-confirmed case</td>\n",
       "      <td>Yes</td>\n",
       "      <td>Yes</td>\n",
       "      <td>Yes</td>\n",
       "      <td>Yes</td>\n",
       "    </tr>\n",
       "    <tr>\n",
       "      <th>2</th>\n",
       "      <td>2021-09-01</td>\n",
       "      <td>36047.0</td>\n",
       "      <td>65+ years</td>\n",
       "      <td>Female</td>\n",
       "      <td>White</td>\n",
       "      <td>Non-Hispanic/Latino</td>\n",
       "      <td>Laboratory-confirmed case</td>\n",
       "      <td>Missing</td>\n",
       "      <td>Missing</td>\n",
       "      <td>Yes</td>\n",
       "      <td>Missing</td>\n",
       "    </tr>\n",
       "    <tr>\n",
       "      <th>3</th>\n",
       "      <td>2021-01-01</td>\n",
       "      <td>51087.0</td>\n",
       "      <td>65+ years</td>\n",
       "      <td>Male</td>\n",
       "      <td>White</td>\n",
       "      <td>Non-Hispanic/Latino</td>\n",
       "      <td>Probable Case</td>\n",
       "      <td>Missing</td>\n",
       "      <td>Missing</td>\n",
       "      <td>Yes</td>\n",
       "      <td>Missing</td>\n",
       "    </tr>\n",
       "    <tr>\n",
       "      <th>4</th>\n",
       "      <td>2021-11-01</td>\n",
       "      <td>42019.0</td>\n",
       "      <td>65+ years</td>\n",
       "      <td>Male</td>\n",
       "      <td>White</td>\n",
       "      <td>Non-Hispanic/Latino</td>\n",
       "      <td>Laboratory-confirmed case</td>\n",
       "      <td>No</td>\n",
       "      <td>Missing</td>\n",
       "      <td>Yes</td>\n",
       "      <td>Yes</td>\n",
       "    </tr>\n",
       "  </tbody>\n",
       "</table>\n",
       "</div>"
      ],
      "text/plain": [
       "   case_month  county_fips_code       age_group     sex            race  \\\n",
       "0  2020-12-01            4019.0       65+ years  Female  Multiple/Other   \n",
       "1  2020-03-01           36081.0  18 to 49 years    Male           Asian   \n",
       "2  2021-09-01           36047.0       65+ years  Female           White   \n",
       "3  2021-01-01           51087.0       65+ years    Male           White   \n",
       "4  2021-11-01           42019.0       65+ years    Male           White   \n",
       "\n",
       "             ethnicity             current_status  hosp_yn   icu_yn death_yn  \\\n",
       "0  Non-Hispanic/Latino  Laboratory-confirmed case      Yes  Missing      Yes   \n",
       "1  Non-Hispanic/Latino  Laboratory-confirmed case      Yes      Yes      Yes   \n",
       "2  Non-Hispanic/Latino  Laboratory-confirmed case  Missing  Missing      Yes   \n",
       "3  Non-Hispanic/Latino              Probable Case  Missing  Missing      Yes   \n",
       "4  Non-Hispanic/Latino  Laboratory-confirmed case       No  Missing      Yes   \n",
       "\n",
       "  underlying_conditions_yn  \n",
       "0                  Missing  \n",
       "1                      Yes  \n",
       "2                  Missing  \n",
       "3                  Missing  \n",
       "4                      Yes  "
      ]
     },
     "execution_count": 2,
     "metadata": {},
     "output_type": "execute_result"
    }
   ],
   "source": [
    "#read the cleanes csv file\n",
    "df = pd.read_csv(\"dataSource/CLEANED-UPDATED-covid19-cdc.csv\")\n",
    "df.head(5)"
   ]
  },
  {
   "attachments": {},
   "cell_type": "markdown",
   "id": "a528f106",
   "metadata": {},
   "source": [
    "Checking the shape, datatypes and missing values of the columns:"
   ]
  },
  {
   "cell_type": "code",
   "execution_count": 3,
   "id": "b80576e5",
   "metadata": {},
   "outputs": [
    {
     "data": {
      "text/plain": [
       "(36421, 11)"
      ]
     },
     "execution_count": 3,
     "metadata": {},
     "output_type": "execute_result"
    }
   ],
   "source": [
    "df.shape"
   ]
  },
  {
   "cell_type": "code",
   "execution_count": 4,
   "id": "ec7ee66c",
   "metadata": {},
   "outputs": [
    {
     "data": {
      "text/plain": [
       "case_month                   object\n",
       "county_fips_code            float64\n",
       "age_group                    object\n",
       "sex                          object\n",
       "race                         object\n",
       "ethnicity                    object\n",
       "current_status               object\n",
       "hosp_yn                      object\n",
       "icu_yn                       object\n",
       "death_yn                     object\n",
       "underlying_conditions_yn     object\n",
       "dtype: object"
      ]
     },
     "execution_count": 4,
     "metadata": {},
     "output_type": "execute_result"
    }
   ],
   "source": [
    "df.dtypes"
   ]
  },
  {
   "cell_type": "code",
   "execution_count": 5,
   "id": "a3607c02",
   "metadata": {},
   "outputs": [
    {
     "data": {
      "text/plain": [
       "case_month                     0\n",
       "county_fips_code            2207\n",
       "age_group                      0\n",
       "sex                            0\n",
       "race                           0\n",
       "ethnicity                      0\n",
       "current_status                 0\n",
       "hosp_yn                        0\n",
       "icu_yn                         0\n",
       "death_yn                       0\n",
       "underlying_conditions_yn       0\n",
       "dtype: int64"
      ]
     },
     "execution_count": 5,
     "metadata": {},
     "output_type": "execute_result"
    }
   ],
   "source": [
    "df.isna().sum()"
   ]
  },
  {
   "attachments": {},
   "cell_type": "markdown",
   "id": "61c9e37e",
   "metadata": {},
   "source": [
    "#### Converting columns into suitable data types<br>\n",
    "\n",
    "After examining the features:<br><br>\n",
    "i. 'case_month' should be changed to datetime format<br><br>\n",
    "ii. 'county_fips_code' have no numeric meaning (just a representation of location), thus turn them from 'int64' to 'category' type. <br><br>\n",
    "iii. The targeted feature \"death_yn\" should be converted into numeric feature which is mapped 'Yes': 1, \"No\": 0 and stored as \"int64\"<br><br>\n",
    "iv. 'hosp_yn', icu_yn', and 'underlying_conditions_yn' should be converted into dummy numeric feature which is mapped 'Yes': 1, \"No\": 0, 'Missing: 999 and stored. As there are missing values in the data, we replace it with a strange value 999 for the moment for dealing with NaN values. <br><br>\n",
    "v. 'age_group', ‘ethicity','race' should be converted into dummy numeric features and mapped to uniqie data for the featuers.\n",
    "vii. All other columns of type 'object' should be changed into 'category' for future modelling use into dummy features."
   ]
  },
  {
   "cell_type": "code",
   "execution_count": 6,
   "id": "97198d96",
   "metadata": {},
   "outputs": [],
   "source": [
    "#i. changing 'case_month' to datetime datatype\n",
    "df['case_month'] = pd.to_datetime(df['case_month'])\n",
    "\n",
    "#ii. changing 'county_fips_code' to type 'object' (will be converted into category later)\n",
    "df['county_fips_code'] = df['county_fips_code'].astype('object')\n",
    "\n",
    "#iii. convert death_yn to 0,1, and int64 type for future modelling work\n",
    "df['death_yn'] = df['death_yn'].map({'Yes': 1, \"No\": 0})\n",
    "df['death_yn'] = df['death_yn'].astype('int64')\n",
    "\n",
    "#iv. convert 'hosp_yn', icu_yn', and 'underlying_conditions_yn'\n",
    "df['hosp_yn'] = df['hosp_yn'].map({'Yes': 1, \"No\": 0, \"Missing\": 999})\n",
    "df['hosp_yn'] = df['hosp_yn'].astype('object')\n",
    "\n",
    "df['icu_yn'] = df['icu_yn'].map({'Yes': 1, \"No\": 0, \"Missing\": 999})\n",
    "df['icu_yn'] = df['icu_yn'].astype('object')\n",
    "\n",
    "df['underlying_conditions_yn'] = df['underlying_conditions_yn'].map({'Yes': 1, \"No\": 0, \"Missing\": 999})\n",
    "df['underlying_conditions_yn'] = df['underlying_conditions_yn'].astype('object')\n"
   ]
  },
  {
   "cell_type": "code",
   "execution_count": 7,
   "id": "f9a683bc",
   "metadata": {},
   "outputs": [
    {
     "data": {
      "text/plain": [
       "array(['65+ years', '18 to 49 years', '50 to 64 years', 'Missing',\n",
       "       '0 - 17 years'], dtype=object)"
      ]
     },
     "execution_count": 7,
     "metadata": {},
     "output_type": "execute_result"
    }
   ],
   "source": [
    "#v. 'age_group' should be converted into dummy numeric features.\n",
    "df['age_group'].unique()"
   ]
  },
  {
   "cell_type": "code",
   "execution_count": 8,
   "id": "2aceb8fe",
   "metadata": {},
   "outputs": [],
   "source": [
    "df['age_group'] = df['age_group'].map({'0 - 17 years': 1, \"18 to 49 years\": 2, \"50 to 64 years\" : 3, \"65+ years\": 4,  \"Missing\": 999})\n",
    "df['age_group'] = df['age_group'].astype('object')"
   ]
  },
  {
   "cell_type": "code",
   "execution_count": 9,
   "id": "a962fb80",
   "metadata": {},
   "outputs": [
    {
     "data": {
      "text/plain": [
       "array(['Multiple/Other', 'Asian', 'White', 'Missing', 'Black',\n",
       "       'American Indian/Alaska Native',\n",
       "       'Native Hawaiian/Other Pacific Islander'], dtype=object)"
      ]
     },
     "execution_count": 9,
     "metadata": {},
     "output_type": "execute_result"
    }
   ],
   "source": [
    "#v. 'race' should be converted into dummy numeric features.\n",
    "df['race'].unique()"
   ]
  },
  {
   "cell_type": "code",
   "execution_count": 10,
   "id": "88e458da",
   "metadata": {},
   "outputs": [],
   "source": [
    "df['race'] = df['race'].map({'Multiple/Other': 1, \"Asian\": 2, \"White\" : 3, \"Black\": 4, \"American Indian/Alaska Native\": 5, \"Native Hawaiian/Other Pacific Islander\": 6, \"Missing\": 999})\n",
    "df['race'] = df['race'].astype('object')"
   ]
  },
  {
   "cell_type": "code",
   "execution_count": 11,
   "id": "5ac7c62d",
   "metadata": {},
   "outputs": [
    {
     "data": {
      "text/plain": [
       "array(['Non-Hispanic/Latino', 'Hispanic/Latino', 'Missing'], dtype=object)"
      ]
     },
     "execution_count": 11,
     "metadata": {},
     "output_type": "execute_result"
    }
   ],
   "source": [
    "#v. 'ethnicity' should be converted into dummy numeric features.\n",
    "df['ethnicity'].unique()"
   ]
  },
  {
   "cell_type": "code",
   "execution_count": 12,
   "id": "18cd5a2c",
   "metadata": {},
   "outputs": [],
   "source": [
    "df['ethnicity'] = df['ethnicity'].map({'Non-Hispanic/Latino': 1, \"Hispanic/Latino\": 2, \"Missing\": 999})\n",
    "df['ethnicity'] = df['ethnicity'].astype('object')"
   ]
  },
  {
   "cell_type": "code",
   "execution_count": 13,
   "id": "0f829166",
   "metadata": {},
   "outputs": [],
   "source": [
    "#vi. Select the remaining columns of type 'object' and change their data type into 'category'\n",
    "object_columns = df.select_dtypes(['object']).columns\n",
    "\n",
    "for column in object_columns:\n",
    "    df[column] = df[column].astype('category')"
   ]
  },
  {
   "attachments": {},
   "cell_type": "markdown",
   "id": "b29c37ea",
   "metadata": {},
   "source": [
    "check updated datatypes:"
   ]
  },
  {
   "attachments": {},
   "cell_type": "markdown",
   "id": "091bb0d6",
   "metadata": {},
   "source": [
    "#### Setup Column types\n",
    "setup the categorical, datetime, continuous and target features"
   ]
  },
  {
   "cell_type": "code",
   "execution_count": 14,
   "id": "c6a90c64",
   "metadata": {},
   "outputs": [],
   "source": [
    "#categorical columns\n",
    "categorical_columns = object_columns\n",
    "\n",
    "#datetime_column\n",
    "datetime_columns = df.select_dtypes(['datetime64']).columns\n",
    "\n",
    "#numeric columns\n",
    "continuous_columns = df.select_dtypes(['int64']).columns"
   ]
  },
  {
   "cell_type": "code",
   "execution_count": 15,
   "id": "ef80ec4b",
   "metadata": {},
   "outputs": [
    {
     "data": {
      "text/plain": [
       "case_month                  datetime64[ns]\n",
       "county_fips_code                  category\n",
       "age_group                         category\n",
       "sex                               category\n",
       "race                              category\n",
       "ethnicity                         category\n",
       "current_status                    category\n",
       "hosp_yn                           category\n",
       "icu_yn                            category\n",
       "death_yn                             int64\n",
       "underlying_conditions_yn          category\n",
       "dtype: object"
      ]
     },
     "execution_count": 15,
     "metadata": {},
     "output_type": "execute_result"
    }
   ],
   "source": [
    "df.dtypes"
   ]
  },
  {
   "attachments": {},
   "cell_type": "markdown",
   "id": "80152e92",
   "metadata": {},
   "source": [
    "There are no continuous features apart from the targeted feature."
   ]
  },
  {
   "attachments": {},
   "cell_type": "markdown",
   "id": "ce66e202",
   "metadata": {},
   "source": [
    "##### Split the dataset into two datasets: 70% training and 30% test\n",
    "- First we will set the target feature \"y\" to be death_yn\n",
    "- Then we will set \"X\" to be the remaining features in the dataframe i.e. we drop \"death_yn\" from the dataframe"
   ]
  },
  {
   "cell_type": "code",
   "execution_count": 16,
   "id": "cd90e65b",
   "metadata": {},
   "outputs": [],
   "source": [
    "y = pd.DataFrame(df[\"death_yn\"])\n",
    "X = df.drop([\"death_yn\"],axis=1)\n",
    "continuous_columns = continuous_columns.drop(\"death_yn\")"
   ]
  },
  {
   "attachments": {},
   "cell_type": "markdown",
   "id": "91a357e1",
   "metadata": {},
   "source": [
    "- The train test split will randomly split the dataset with the given test size\n",
    "- Setting random state=1 will allow the <b>random shuffle</b> to be repeated within this notebook only"
   ]
  },
  {
   "cell_type": "code",
   "execution_count": 17,
   "id": "ce2c4c5a",
   "metadata": {},
   "outputs": [
    {
     "name": "stdout",
     "output_type": "stream",
     "text": [
      "Original Dataset Range:  36421\n",
      "Training Set(70%):\t rows 0 to 25494\n",
      "Test Set (30%): \t rows 25494 to 36421\n"
     ]
    }
   ],
   "source": [
    "# Split the dataset into two datasets randomly: 70% training and 30% test\n",
    "X_train, X_test, y_train, y_test = train_test_split(X, y, test_size=0.3,random_state=1)\n",
    "\n",
    "print(\"Original Dataset Range: \",df.shape[0])\n",
    "print(\"Training Set(70%):\\t rows 0 to\", round(X_train.shape[0]))\n",
    "print(\"Test Set (30%): \\t rows\", round(X_train.shape[0]), \"to\", round(X_train.shape[0]) + X_test.shape[0])"
   ]
  },
  {
   "attachments": {},
   "cell_type": "markdown",
   "id": "3bb66656",
   "metadata": {},
   "source": [
    "## 1.2 Exploring Plots on Training Set for Features Selection for the Models\n",
    "\n",
    "We will only be using the training set for plotting the relationships. Apart from the target feature 'death_yn', there are no continuous feature in this analysis, thus we will skip the correlatiom between comtinuous features and jump into correlation between time series and categorical feature.\n",
    "\n",
    "### 1.2.1 Datetime Series and the Target Feature\n",
    "we will plot a stack barchart to see whether the relationship between datetime series and death"
   ]
  },
  {
   "cell_type": "code",
   "execution_count": 18,
   "id": "eaa36292",
   "metadata": {},
   "outputs": [
    {
     "data": {
      "image/png": "[encoded data removed]",
      "text/plain": [
       "<Figure size 640x480 with 1 Axes>"
      ]
     },
     "metadata": {},
     "output_type": "display_data"
    }
   ],
   "source": [
    "#seeing the ratio/percentage of each unique data category\n",
    "percentagecrossx1 = pd.crosstab(df['case_month'], df['death_yn']).apply(lambda r: r/r.sum(), axis=1)\n",
    "ax = percentagecrossx1.plot.bar(stacked=True, title = \"Date vs Death\")"
   ]
  },
  {
   "cell_type": "code",
   "execution_count": 19,
   "id": "c3f925ad",
   "metadata": {},
   "outputs": [
    {
     "data": {
      "image/png": "[encoded data removed]",
      "text/plain": [
       "<Figure size 2500x1000 with 1 Axes>"
      ]
     },
     "metadata": {},
     "output_type": "display_data"
    }
   ],
   "source": [
    "df[\"case_month\"].value_counts().plot(kind='bar', figsize=(25,10))\n",
    "plt.title(\"case_month\")\n",
    "plt.show()"
   ]
  },
  {
   "attachments": {},
   "cell_type": "markdown",
   "id": "2b171b56",
   "metadata": {},
   "source": [
    "#### Observation and Discussion:\n",
    "From the stacked bar plot above, we can see a trend of when the year increases, the death percentage decreases. The case month from our selected features as there are only three years worth of data, and for each month there are no visible seasonal effect. The decrease in case recorded is due to the case recorded reduces over time, as shown in the case_month bar plot. Thus, we decide to drop this feature for the modelling.\n"
   ]
  },
  {
   "cell_type": "code",
   "execution_count": 20,
   "id": "10702858",
   "metadata": {},
   "outputs": [],
   "source": [
    "to_be_dropped = ['case_month']"
   ]
  },
  {
   "attachments": {},
   "cell_type": "markdown",
   "id": "4917780f",
   "metadata": {},
   "source": [
    "### 1.2.3 Categorical Features and the Target Feature\n",
    "We will plot pairwise interaction between each categorical feature against the target 'death_yn'. We will find features that are better at predicting the target feature and choose a subset of continuous features we find promising (if any) and justify our choice.<br><br> The categorical features are: <br>state_fips_code, age_group, sex, race, ethnicity, current_status, hosp_yn, icu_yn and underlying_conditions_yn.<br><br>From a logical point of view, state_fips_code represents location of the case and they are too disperse and large amount of different unique states and country, and is a factor regarding to location rather than the patient's personal health problem, thus is not suitable to be fed into our model for predicting death for our project. We will remove this feature from consideration for features into the mode. "
   ]
  },
  {
   "cell_type": "code",
   "execution_count": 21,
   "id": "acedc601",
   "metadata": {},
   "outputs": [],
   "source": [
    "categorical_columns = categorical_columns.drop(['county_fips_code'])\n",
    "to_be_dropped.append('county_fips_code')"
   ]
  },
  {
   "attachments": {},
   "cell_type": "markdown",
   "id": "093e730c",
   "metadata": {},
   "source": [
    "##### Create stacked bar plots for all categorical features"
   ]
  },
  {
   "cell_type": "code",
   "execution_count": 22,
   "id": "2fed4469",
   "metadata": {},
   "outputs": [
    {
     "name": "stdout",
     "output_type": "stream",
     "text": [
      "age_group\n",
      "Bar Plot: \n"
     ]
    },
    {
     "data": {
      "image/png": "[encoded data removed]",
      "text/plain": [
       "<Figure size 640x480 with 1 Axes>"
      ]
     },
     "metadata": {},
     "output_type": "display_data"
    },
    {
     "name": "stdout",
     "output_type": "stream",
     "text": [
      "Stacked bar plot: \n"
     ]
    },
    {
     "data": {
      "image/png": "[encoded data removed]",
      "text/plain": [
       "<Figure size 640x480 with 1 Axes>"
      ]
     },
     "metadata": {},
     "output_type": "display_data"
    },
    {
     "name": "stdout",
     "output_type": "stream",
     "text": [
      "sex\n",
      "Bar Plot: \n"
     ]
    },
    {
     "data": {
      "image/png": "[encoded data removed]",
      "text/plain": [
       "<Figure size 640x480 with 1 Axes>"
      ]
     },
     "metadata": {},
     "output_type": "display_data"
    },
    {
     "name": "stdout",
     "output_type": "stream",
     "text": [
      "Stacked bar plot: \n"
     ]
    },
    {
     "data": {
      "image/png": "[encoded data removed]",
      "text/plain": [
       "<Figure size 640x480 with 1 Axes>"
      ]
     },
     "metadata": {},
     "output_type": "display_data"
    },
    {
     "name": "stdout",
     "output_type": "stream",
     "text": [
      "race\n",
      "Bar Plot: \n"
     ]
    },
    {
     "data": {
      "image/png": "[encoded data removed]",
      "text/plain": [
       "<Figure size 640x480 with 1 Axes>"
      ]
     },
     "metadata": {},
     "output_type": "display_data"
    },
    {
     "name": "stdout",
     "output_type": "stream",
     "text": [
      "Stacked bar plot: \n"
     ]
    },
    {
     "data": {
      "image/png": "[encoded data removed]",
      "text/plain": [
       "<Figure size 640x480 with 1 Axes>"
      ]
     },
     "metadata": {},
     "output_type": "display_data"
    },
    {
     "name": "stdout",
     "output_type": "stream",
     "text": [
      "ethnicity\n",
      "Bar Plot: \n"
     ]
    },
    {
     "data": {
      "image/png": "[encoded data removed]",
      "text/plain": [
       "<Figure size 640x480 with 1 Axes>"
      ]
     },
     "metadata": {},
     "output_type": "display_data"
    },
    {
     "name": "stdout",
     "output_type": "stream",
     "text": [
      "Stacked bar plot: \n"
     ]
    },
    {
     "data": {
      "image/png": "[encoded data removed]",
      "text/plain": [
       "<Figure size 640x480 with 1 Axes>"
      ]
     },
     "metadata": {},
     "output_type": "display_data"
    },
    {
     "name": "stdout",
     "output_type": "stream",
     "text": [
      "current_status\n",
      "Bar Plot: \n"
     ]
    },
    {
     "data": {
      "image/png": "[encoded data removed]",
      "text/plain": [
       "<Figure size 640x480 with 1 Axes>"
      ]
     },
     "metadata": {},
     "output_type": "display_data"
    },
    {
     "name": "stdout",
     "output_type": "stream",
     "text": [
      "Stacked bar plot: \n"
     ]
    },
    {
     "data": {
      "image/png": "[encoded data removed]",
      "text/plain": [
       "<Figure size 640x480 with 1 Axes>"
      ]
     },
     "metadata": {},
     "output_type": "display_data"
    },
    {
     "name": "stdout",
     "output_type": "stream",
     "text": [
      "hosp_yn\n",
      "Bar Plot: \n"
     ]
    },
    {
     "data": {
      "image/png": "[encoded data removed]",
      "text/plain": [
       "<Figure size 640x480 with 1 Axes>"
      ]
     },
     "metadata": {},
     "output_type": "display_data"
    },
    {
     "name": "stdout",
     "output_type": "stream",
     "text": [
      "Stacked bar plot: \n"
     ]
    },
    {
     "data": {
      "image/png": "[encoded data removed]",
      "text/plain": [
       "<Figure size 640x480 with 1 Axes>"
      ]
     },
     "metadata": {},
     "output_type": "display_data"
    },
    {
     "name": "stdout",
     "output_type": "stream",
     "text": [
      "icu_yn\n",
      "Bar Plot: \n"
     ]
    },
    {
     "data": {
      "image/png": "[encoded data removed]",
      "text/plain": [
       "<Figure size 640x480 with 1 Axes>"
      ]
     },
     "metadata": {},
     "output_type": "display_data"
    },
    {
     "name": "stdout",
     "output_type": "stream",
     "text": [
      "Stacked bar plot: \n"
     ]
    },
    {
     "data": {
      "image/png": "[encoded data removed]",
      "text/plain": [
       "<Figure size 640x480 with 1 Axes>"
      ]
     },
     "metadata": {},
     "output_type": "display_data"
    },
    {
     "name": "stdout",
     "output_type": "stream",
     "text": [
      "underlying_conditions_yn\n",
      "Bar Plot: \n"
     ]
    },
    {
     "data": {
      "image/png": "[encoded data removed]",
      "text/plain": [
       "<Figure size 640x480 with 1 Axes>"
      ]
     },
     "metadata": {},
     "output_type": "display_data"
    },
    {
     "name": "stdout",
     "output_type": "stream",
     "text": [
      "Stacked bar plot: \n"
     ]
    },
    {
     "data": {
      "image/png": "[encoded data removed]",
      "text/plain": [
       "<Figure size 640x480 with 1 Axes>"
      ]
     },
     "metadata": {},
     "output_type": "display_data"
    }
   ],
   "source": [
    "# for the comparison we will convert the target back to categorical\n",
    "y_train = y_train.astype(\"category\")\n",
    "\n",
    "# we will create temp dataframe for these plots, mergeing X_train and y_train\n",
    "df_temp= pd.concat([X_train, y_train], axis=1)\n",
    "\n",
    "# for each categorical feature create a stacked bar plot\n",
    "for categorical_feature in categorical_columns:\n",
    "\n",
    "    print(categorical_feature)\n",
    "\n",
    "    pd.crosstab(index=df_temp[categorical_feature],columns=df_temp['death_yn']).plot.bar()\n",
    "    print(\"Bar Plot: \")\n",
    "    plt.title(categorical_feature)\n",
    "    plt.show()\n",
    "\n",
    "    #seeing the ratio/perfcentage of each unique data category\n",
    "    percentagecrossx2 = pd.crosstab(df_temp[categorical_feature], df_temp['death_yn']).apply(lambda r: r/r.sum(), axis=1)\n",
    "    percentagecrossx2.plot.bar(stacked=True, title = \"xxx\")\n",
    "    print(\"Stacked bar plot: \")\n",
    "    plt.title(categorical_feature)\n",
    "    plt.show()"
   ]
  },
  {
   "attachments": {},
   "cell_type": "markdown",
   "id": "3e094641",
   "metadata": {},
   "source": [
    "#### Interpretation of the results\n",
    "\n",
    "##### 1. Death vs Age Group\n",
    "- The missing data category is less significant in this data.\n",
    "- There is an obvious trends for people with higher age group that has higher death risk, where age 65+ years old has over 50% death.\n",
    "- We can say that age group has a significant effect on death.\n",
    "\n",
    "##### 2. Death vs Sex\n",
    "- The missing data category is less significant in this data.\n",
    "- There is no obvious death discovered in any of the category of male or female.\n",
    "- Thus, we can say that sex has less significant effect on death.\n",
    "\n",
    "##### 3. Death vs Race\n",
    "- recall that the numeric data are {'Multiple/Other': 1, \"Asian\": 2, \"White\" : 3, \"Black\": 4, \"American Indian/Alaska Native\": 5, \"Native Hawaiian/Other Pacific Islander\": 6, \"Missing\": 999})\n",
    "- There is no obvious death discovered in any of the category of the races.\n",
    "- Thus, we can say that race has less significant effect on death.\n",
    "\n",
    "##### 4. Death vs Ethnicity\n",
    "- recall that the numeric data are: Non-Hispanic/Latino': 1, \"Hispanic/Latino\": 2, \"Missing\": 999\n",
    "- There is no obvious death discovered in any of the category of the ethnicity.\n",
    "- Thus, we can say that ethnicity has less significant effect on death.\n",
    "\n",
    "##### 5. Death vs Current Status\n",
    "- There is no obvious death discovered in any of the category of current status.\n",
    "- Thus, we can say that current status has less significant effect on death.\n",
    "\n",
    "##### 6. Death vs Hospitalisation\n",
    "- recall that the numeric features are 'Yes': 1, \"No\": 0, 'Missing: 999.\n",
    "- There a portion of missing data in this feature, but not too significant thus we will not say that the missing data will affect the result.\n",
    "- There is an obvious death rate observed for yes in hospitalisation (over 80%).\n",
    "- We can say that hosp_yn has a significant effect on death.\n",
    "\n",
    "##### 7. Death vs ICU\n",
    "- recall that the numeric features are 'Yes': 1, \"No\": 0, 'Missing: 999.\n",
    "- There is a significant portion of missing data in this feature,\n",
    "- There is an obvious death rate observed for yes in icu (over 90%).\n",
    "- We can say that icu_yn has a significant effect on death.\n",
    "\n",
    "##### 8. Death vs Underlying Conditions\n",
    "- recall that the numeric features are 'Yes': 1, \"No\": 0, 'Missing: 999.\n",
    "- There is a significant portion of missing data in this feature,\n",
    "- There is an obvious death pattern observed for yes in underlying conditions, and no death in cases with no underlying conditions.\n",
    "- We can say that underlying_conditions_yn has an effect on death.\n",
    "\n",
    "**The categorical features that has less effect are sex, race, ethnicity and current_status**, but for now we will keep all of the categorical features."
   ]
  },
  {
   "attachments": {},
   "cell_type": "markdown",
   "id": "1a27be07",
   "metadata": {},
   "source": [
    "### 1.2.4 Summary & Drop Features\n",
    "\n",
    "1. From Categorical vs Target plots (1.2.3) we identified the following to be dropped:"
   ]
  },
  {
   "cell_type": "code",
   "execution_count": 23,
   "id": "52bcc47f",
   "metadata": {},
   "outputs": [
    {
     "data": {
      "text/plain": [
       "['case_month', 'county_fips_code']"
      ]
     },
     "execution_count": 23,
     "metadata": {},
     "output_type": "execute_result"
    }
   ],
   "source": [
    "# drop selected low relevant features\n",
    "to_be_dropped"
   ]
  },
  {
   "attachments": {},
   "cell_type": "markdown",
   "id": "14a89b29",
   "metadata": {},
   "source": [
    "Dropping the features:<br> We will drop from a copy of the original dataframe (df_cop1), as this will allow us to revert to the original dataset to compare the performance of the reduced dataset and the original dataset."
   ]
  },
  {
   "cell_type": "code",
   "execution_count": 24,
   "id": "b079c885",
   "metadata": {},
   "outputs": [
    {
     "name": "stdout",
     "output_type": "stream",
     "text": [
      "\n",
      "Remaining columns: Index(['age_group', 'sex', 'race', 'ethnicity', 'current_status', 'hosp_yn',\n",
      "       'icu_yn', 'death_yn', 'underlying_conditions_yn'],\n",
      "      dtype='object')\n",
      "\n",
      "New shape: (36421, 9)\n"
     ]
    }
   ],
   "source": [
    "# before dropping make copy of original\n",
    "df_cop1 = df.copy()\n",
    "# drop low value features\n",
    "df_cop1.drop(to_be_dropped, axis=1, inplace=True)\n",
    "print('\\nRemaining columns:', df_cop1.columns)\n",
    "print('\\nNew shape:', df_cop1.shape)"
   ]
  },
  {
   "attachments": {},
   "cell_type": "markdown",
   "id": "1704f81b",
   "metadata": {},
   "source": [
    "## 1.3 Preparing Dataset for Modelling\n",
    "Converting the categorical features into dummies variables, then set up a train and test set. The continuous columns are:"
   ]
  },
  {
   "attachments": {},
   "cell_type": "markdown",
   "id": "d2a232d8",
   "metadata": {},
   "source": [
    "We will use the df_cop1 dataset."
   ]
  },
  {
   "cell_type": "code",
   "execution_count": 25,
   "id": "6f71594e",
   "metadata": {},
   "outputs": [
    {
     "data": {
      "text/html": [
       "<div>\n",
       "<style scoped>\n",
       "    .dataframe tbody tr th:only-of-type {\n",
       "        vertical-align: middle;\n",
       "    }\n",
       "\n",
       "    .dataframe tbody tr th {\n",
       "        vertical-align: top;\n",
       "    }\n",
       "\n",
       "    .dataframe thead th {\n",
       "        text-align: right;\n",
       "    }\n",
       "</style>\n",
       "<table border=\"1\" class=\"dataframe\">\n",
       "  <thead>\n",
       "    <tr style=\"text-align: right;\">\n",
       "      <th></th>\n",
       "      <th>age_group</th>\n",
       "      <th>sex</th>\n",
       "      <th>race</th>\n",
       "      <th>ethnicity</th>\n",
       "      <th>current_status</th>\n",
       "      <th>hosp_yn</th>\n",
       "      <th>icu_yn</th>\n",
       "      <th>death_yn</th>\n",
       "      <th>underlying_conditions_yn</th>\n",
       "    </tr>\n",
       "  </thead>\n",
       "  <tbody>\n",
       "    <tr>\n",
       "      <th>0</th>\n",
       "      <td>4</td>\n",
       "      <td>Female</td>\n",
       "      <td>1</td>\n",
       "      <td>1</td>\n",
       "      <td>Laboratory-confirmed case</td>\n",
       "      <td>1</td>\n",
       "      <td>999</td>\n",
       "      <td>1</td>\n",
       "      <td>999</td>\n",
       "    </tr>\n",
       "    <tr>\n",
       "      <th>1</th>\n",
       "      <td>2</td>\n",
       "      <td>Male</td>\n",
       "      <td>2</td>\n",
       "      <td>1</td>\n",
       "      <td>Laboratory-confirmed case</td>\n",
       "      <td>1</td>\n",
       "      <td>1</td>\n",
       "      <td>1</td>\n",
       "      <td>1</td>\n",
       "    </tr>\n",
       "    <tr>\n",
       "      <th>2</th>\n",
       "      <td>4</td>\n",
       "      <td>Female</td>\n",
       "      <td>3</td>\n",
       "      <td>1</td>\n",
       "      <td>Laboratory-confirmed case</td>\n",
       "      <td>999</td>\n",
       "      <td>999</td>\n",
       "      <td>1</td>\n",
       "      <td>999</td>\n",
       "    </tr>\n",
       "    <tr>\n",
       "      <th>3</th>\n",
       "      <td>4</td>\n",
       "      <td>Male</td>\n",
       "      <td>3</td>\n",
       "      <td>1</td>\n",
       "      <td>Probable Case</td>\n",
       "      <td>999</td>\n",
       "      <td>999</td>\n",
       "      <td>1</td>\n",
       "      <td>999</td>\n",
       "    </tr>\n",
       "    <tr>\n",
       "      <th>4</th>\n",
       "      <td>4</td>\n",
       "      <td>Male</td>\n",
       "      <td>3</td>\n",
       "      <td>1</td>\n",
       "      <td>Laboratory-confirmed case</td>\n",
       "      <td>0</td>\n",
       "      <td>999</td>\n",
       "      <td>1</td>\n",
       "      <td>1</td>\n",
       "    </tr>\n",
       "    <tr>\n",
       "      <th>...</th>\n",
       "      <td>...</td>\n",
       "      <td>...</td>\n",
       "      <td>...</td>\n",
       "      <td>...</td>\n",
       "      <td>...</td>\n",
       "      <td>...</td>\n",
       "      <td>...</td>\n",
       "      <td>...</td>\n",
       "      <td>...</td>\n",
       "    </tr>\n",
       "    <tr>\n",
       "      <th>36416</th>\n",
       "      <td>4</td>\n",
       "      <td>Male</td>\n",
       "      <td>3</td>\n",
       "      <td>1</td>\n",
       "      <td>Laboratory-confirmed case</td>\n",
       "      <td>999</td>\n",
       "      <td>999</td>\n",
       "      <td>0</td>\n",
       "      <td>999</td>\n",
       "    </tr>\n",
       "    <tr>\n",
       "      <th>36417</th>\n",
       "      <td>2</td>\n",
       "      <td>Male</td>\n",
       "      <td>4</td>\n",
       "      <td>999</td>\n",
       "      <td>Laboratory-confirmed case</td>\n",
       "      <td>999</td>\n",
       "      <td>999</td>\n",
       "      <td>0</td>\n",
       "      <td>999</td>\n",
       "    </tr>\n",
       "    <tr>\n",
       "      <th>36418</th>\n",
       "      <td>2</td>\n",
       "      <td>Male</td>\n",
       "      <td>3</td>\n",
       "      <td>1</td>\n",
       "      <td>Laboratory-confirmed case</td>\n",
       "      <td>0</td>\n",
       "      <td>999</td>\n",
       "      <td>0</td>\n",
       "      <td>999</td>\n",
       "    </tr>\n",
       "    <tr>\n",
       "      <th>36419</th>\n",
       "      <td>2</td>\n",
       "      <td>Male</td>\n",
       "      <td>3</td>\n",
       "      <td>1</td>\n",
       "      <td>Laboratory-confirmed case</td>\n",
       "      <td>0</td>\n",
       "      <td>999</td>\n",
       "      <td>0</td>\n",
       "      <td>999</td>\n",
       "    </tr>\n",
       "    <tr>\n",
       "      <th>36420</th>\n",
       "      <td>2</td>\n",
       "      <td>Female</td>\n",
       "      <td>999</td>\n",
       "      <td>999</td>\n",
       "      <td>Laboratory-confirmed case</td>\n",
       "      <td>0</td>\n",
       "      <td>999</td>\n",
       "      <td>0</td>\n",
       "      <td>999</td>\n",
       "    </tr>\n",
       "  </tbody>\n",
       "</table>\n",
       "<p>36421 rows × 9 columns</p>\n",
       "</div>"
      ],
      "text/plain": [
       "      age_group     sex race ethnicity             current_status hosp_yn  \\\n",
       "0             4  Female    1         1  Laboratory-confirmed case       1   \n",
       "1             2    Male    2         1  Laboratory-confirmed case       1   \n",
       "2             4  Female    3         1  Laboratory-confirmed case     999   \n",
       "3             4    Male    3         1              Probable Case     999   \n",
       "4             4    Male    3         1  Laboratory-confirmed case       0   \n",
       "...         ...     ...  ...       ...                        ...     ...   \n",
       "36416         4    Male    3         1  Laboratory-confirmed case     999   \n",
       "36417         2    Male    4       999  Laboratory-confirmed case     999   \n",
       "36418         2    Male    3         1  Laboratory-confirmed case       0   \n",
       "36419         2    Male    3         1  Laboratory-confirmed case       0   \n",
       "36420         2  Female  999       999  Laboratory-confirmed case       0   \n",
       "\n",
       "      icu_yn  death_yn underlying_conditions_yn  \n",
       "0        999         1                      999  \n",
       "1          1         1                        1  \n",
       "2        999         1                      999  \n",
       "3        999         1                      999  \n",
       "4        999         1                        1  \n",
       "...      ...       ...                      ...  \n",
       "36416    999         0                      999  \n",
       "36417    999         0                      999  \n",
       "36418    999         0                      999  \n",
       "36419    999         0                      999  \n",
       "36420    999         0                      999  \n",
       "\n",
       "[36421 rows x 9 columns]"
      ]
     },
     "execution_count": 25,
     "metadata": {},
     "output_type": "execute_result"
    }
   ],
   "source": [
    "df_cop1"
   ]
  },
  {
   "cell_type": "code",
   "execution_count": 26,
   "id": "7aeb7ce2",
   "metadata": {},
   "outputs": [
    {
     "data": {
      "text/plain": [
       "age_group                   category\n",
       "sex                         category\n",
       "race                        category\n",
       "ethnicity                   category\n",
       "current_status              category\n",
       "hosp_yn                     category\n",
       "icu_yn                      category\n",
       "death_yn                       int64\n",
       "underlying_conditions_yn    category\n",
       "dtype: object"
      ]
     },
     "execution_count": 26,
     "metadata": {},
     "output_type": "execute_result"
    }
   ],
   "source": [
    "df_cop1.dtypes"
   ]
  },
  {
   "attachments": {},
   "cell_type": "markdown",
   "id": "76124277",
   "metadata": {},
   "source": [
    "All selected features are categorical"
   ]
  },
  {
   "cell_type": "code",
   "execution_count": 27,
   "id": "e62def15",
   "metadata": {},
   "outputs": [
    {
     "data": {
      "text/plain": [
       "death_yn                                    int64\n",
       "age_group_1                                 uint8\n",
       "age_group_2                                 uint8\n",
       "age_group_3                                 uint8\n",
       "age_group_4                                 uint8\n",
       "age_group_999                               uint8\n",
       "sex_Female                                  uint8\n",
       "sex_Male                                    uint8\n",
       "sex_Missing                                 uint8\n",
       "race_1                                      uint8\n",
       "race_2                                      uint8\n",
       "race_3                                      uint8\n",
       "race_4                                      uint8\n",
       "race_5                                      uint8\n",
       "race_6                                      uint8\n",
       "race_999                                    uint8\n",
       "ethnicity_1                                 uint8\n",
       "ethnicity_2                                 uint8\n",
       "ethnicity_999                               uint8\n",
       "current_status_Laboratory-confirmed case    uint8\n",
       "current_status_Probable Case                uint8\n",
       "hosp_yn_0                                   uint8\n",
       "hosp_yn_1                                   uint8\n",
       "hosp_yn_999                                 uint8\n",
       "icu_yn_0                                    uint8\n",
       "icu_yn_1                                    uint8\n",
       "icu_yn_999                                  uint8\n",
       "underlying_conditions_yn_0                  uint8\n",
       "underlying_conditions_yn_1                  uint8\n",
       "underlying_conditions_yn_999                uint8\n",
       "dtype: object"
      ]
     },
     "execution_count": 27,
     "metadata": {},
     "output_type": "execute_result"
    }
   ],
   "source": [
    "# set up dummies features\n",
    "df_cop1 = pd.get_dummies(df_cop1)\n",
    "df_cop1.dtypes"
   ]
  },
  {
   "cell_type": "code",
   "execution_count": 28,
   "id": "45bb204f",
   "metadata": {},
   "outputs": [
    {
     "data": {
      "text/plain": [
       "['age_group_1',\n",
       " 'age_group_2',\n",
       " 'age_group_3',\n",
       " 'age_group_4',\n",
       " 'age_group_999',\n",
       " 'sex_Female',\n",
       " 'sex_Male',\n",
       " 'sex_Missing',\n",
       " 'race_1',\n",
       " 'race_2',\n",
       " 'race_3',\n",
       " 'race_4',\n",
       " 'race_5',\n",
       " 'race_6',\n",
       " 'race_999',\n",
       " 'ethnicity_1',\n",
       " 'ethnicity_2',\n",
       " 'ethnicity_999',\n",
       " 'current_status_Laboratory-confirmed case',\n",
       " 'current_status_Probable Case',\n",
       " 'hosp_yn_0',\n",
       " 'hosp_yn_1',\n",
       " 'hosp_yn_999',\n",
       " 'icu_yn_0',\n",
       " 'icu_yn_1',\n",
       " 'icu_yn_999',\n",
       " 'underlying_conditions_yn_0',\n",
       " 'underlying_conditions_yn_1',\n",
       " 'underlying_conditions_yn_999']"
      ]
     },
     "execution_count": 28,
     "metadata": {},
     "output_type": "execute_result"
    }
   ],
   "source": [
    "features = df_cop1.select_dtypes(include=['uint8']).columns.tolist()\n",
    "features"
   ]
  },
  {
   "attachments": {},
   "cell_type": "markdown",
   "id": "52ddde39",
   "metadata": {},
   "source": [
    "### Setting up the train/test split\n",
    "- Setting up data based on the updated dummy values, and stored in dataframe X.\n",
    "- The Target (death_yn) is stored in dataframe \"y\""
   ]
  },
  {
   "cell_type": "code",
   "execution_count": 29,
   "id": "0eb079af",
   "metadata": {},
   "outputs": [
    {
     "name": "stdout",
     "output_type": "stream",
     "text": [
      "original range is:  36421\n",
      "training range (70%):\t rows 0 to 25494\n",
      "test range (30%): \t rows 25494 to 36421\n"
     ]
    }
   ],
   "source": [
    "# y is the target\n",
    "y = df_cop1[\"death_yn\"]\n",
    "\n",
    "# X is everything else\n",
    "X = df_cop1.drop([\"death_yn\"],axis=1)\n",
    "\n",
    "# Split the dataset into two datasets: 70% training and 30% test, randomly\n",
    "X_train, X_test, y_train, y_test = train_test_split(X, y, random_state=1,  test_size=0.3)\n",
    "\n",
    "print(\"original range is: \",df_cop1.shape[0])\n",
    "print(\"training range (70%):\\t rows 0 to\", round(X_train.shape[0]))\n",
    "print(\"test range (30%): \\t rows\", round(X_train.shape[0]), \"to\", round(X_train.shape[0] ) + X_test.shape[0])"
   ]
  },
  {
   "cell_type": "code",
   "execution_count": 30,
   "id": "114058d1",
   "metadata": {},
   "outputs": [
    {
     "name": "stdout",
     "output_type": "stream",
     "text": [
      "\n",
      "Descriptive features in X:\n",
      "        age_group_1  age_group_2  age_group_3  age_group_4  age_group_999  \\\n",
      "34394            1            0            0            0              0   \n",
      "19675            0            0            0            1              0   \n",
      "31126            0            1            0            0              0   \n",
      "34306            0            1            0            0              0   \n",
      "33790            0            1            0            0              0   \n",
      "\n",
      "       sex_Female  sex_Male  sex_Missing  race_1  race_2  ...  \\\n",
      "34394           1         0            0       0       0  ...   \n",
      "19675           0         1            0       0       0  ...   \n",
      "31126           0         0            1       0       0  ...   \n",
      "34306           1         0            0       0       0  ...   \n",
      "33790           1         0            0       0       1  ...   \n",
      "\n",
      "       current_status_Probable Case  hosp_yn_0  hosp_yn_1  hosp_yn_999  \\\n",
      "34394                             0          0          0            1   \n",
      "19675                             0          0          0            1   \n",
      "31126                             1          1          0            0   \n",
      "34306                             0          1          0            0   \n",
      "33790                             0          1          0            0   \n",
      "\n",
      "       icu_yn_0  icu_yn_1  icu_yn_999  underlying_conditions_yn_0  \\\n",
      "34394         0         0           1                           0   \n",
      "19675         0         0           1                           0   \n",
      "31126         0         0           1                           0   \n",
      "34306         0         0           1                           0   \n",
      "33790         0         0           1                           0   \n",
      "\n",
      "       underlying_conditions_yn_1  underlying_conditions_yn_999  \n",
      "34394                           0                             1  \n",
      "19675                           0                             1  \n",
      "31126                           0                             1  \n",
      "34306                           1                             0  \n",
      "33790                           0                             1  \n",
      "\n",
      "[5 rows x 29 columns]\n",
      "\n",
      "Target feature in y:\n",
      " 34394    0\n",
      "19675    1\n",
      "31126    0\n",
      "34306    0\n",
      "33790    0\n",
      "Name: death_yn, dtype: int64\n"
     ]
    }
   ],
   "source": [
    "print(\"\\nDescriptive features in X:\\n\", X_train.head(5))\n",
    "print(\"\\nTarget feature in y:\\n\", y_train.head(5))"
   ]
  },
  {
   "attachments": {},
   "cell_type": "markdown",
   "id": "60234fc8",
   "metadata": {},
   "source": [
    "Resetting the index of all training and test dataframe so that index is consecutive to enable the smooth merging of dataframes in the coming sections"
   ]
  },
  {
   "cell_type": "code",
   "execution_count": 31,
   "id": "5f6fac3e",
   "metadata": {},
   "outputs": [
    {
     "data": {
      "text/html": [
       "<div>\n",
       "<style scoped>\n",
       "    .dataframe tbody tr th:only-of-type {\n",
       "        vertical-align: middle;\n",
       "    }\n",
       "\n",
       "    .dataframe tbody tr th {\n",
       "        vertical-align: top;\n",
       "    }\n",
       "\n",
       "    .dataframe thead th {\n",
       "        text-align: right;\n",
       "    }\n",
       "</style>\n",
       "<table border=\"1\" class=\"dataframe\">\n",
       "  <thead>\n",
       "    <tr style=\"text-align: right;\">\n",
       "      <th></th>\n",
       "      <th>age_group_1</th>\n",
       "      <th>age_group_2</th>\n",
       "      <th>age_group_3</th>\n",
       "      <th>age_group_4</th>\n",
       "      <th>age_group_999</th>\n",
       "      <th>sex_Female</th>\n",
       "      <th>sex_Male</th>\n",
       "      <th>sex_Missing</th>\n",
       "      <th>race_1</th>\n",
       "      <th>race_2</th>\n",
       "      <th>...</th>\n",
       "      <th>current_status_Probable Case</th>\n",
       "      <th>hosp_yn_0</th>\n",
       "      <th>hosp_yn_1</th>\n",
       "      <th>hosp_yn_999</th>\n",
       "      <th>icu_yn_0</th>\n",
       "      <th>icu_yn_1</th>\n",
       "      <th>icu_yn_999</th>\n",
       "      <th>underlying_conditions_yn_0</th>\n",
       "      <th>underlying_conditions_yn_1</th>\n",
       "      <th>underlying_conditions_yn_999</th>\n",
       "    </tr>\n",
       "  </thead>\n",
       "  <tbody>\n",
       "    <tr>\n",
       "      <th>0</th>\n",
       "      <td>1</td>\n",
       "      <td>0</td>\n",
       "      <td>0</td>\n",
       "      <td>0</td>\n",
       "      <td>0</td>\n",
       "      <td>1</td>\n",
       "      <td>0</td>\n",
       "      <td>0</td>\n",
       "      <td>0</td>\n",
       "      <td>0</td>\n",
       "      <td>...</td>\n",
       "      <td>0</td>\n",
       "      <td>0</td>\n",
       "      <td>0</td>\n",
       "      <td>1</td>\n",
       "      <td>0</td>\n",
       "      <td>0</td>\n",
       "      <td>1</td>\n",
       "      <td>0</td>\n",
       "      <td>0</td>\n",
       "      <td>1</td>\n",
       "    </tr>\n",
       "    <tr>\n",
       "      <th>1</th>\n",
       "      <td>0</td>\n",
       "      <td>0</td>\n",
       "      <td>0</td>\n",
       "      <td>1</td>\n",
       "      <td>0</td>\n",
       "      <td>0</td>\n",
       "      <td>1</td>\n",
       "      <td>0</td>\n",
       "      <td>0</td>\n",
       "      <td>0</td>\n",
       "      <td>...</td>\n",
       "      <td>0</td>\n",
       "      <td>0</td>\n",
       "      <td>0</td>\n",
       "      <td>1</td>\n",
       "      <td>0</td>\n",
       "      <td>0</td>\n",
       "      <td>1</td>\n",
       "      <td>0</td>\n",
       "      <td>0</td>\n",
       "      <td>1</td>\n",
       "    </tr>\n",
       "    <tr>\n",
       "      <th>2</th>\n",
       "      <td>0</td>\n",
       "      <td>1</td>\n",
       "      <td>0</td>\n",
       "      <td>0</td>\n",
       "      <td>0</td>\n",
       "      <td>0</td>\n",
       "      <td>0</td>\n",
       "      <td>1</td>\n",
       "      <td>0</td>\n",
       "      <td>0</td>\n",
       "      <td>...</td>\n",
       "      <td>1</td>\n",
       "      <td>1</td>\n",
       "      <td>0</td>\n",
       "      <td>0</td>\n",
       "      <td>0</td>\n",
       "      <td>0</td>\n",
       "      <td>1</td>\n",
       "      <td>0</td>\n",
       "      <td>0</td>\n",
       "      <td>1</td>\n",
       "    </tr>\n",
       "    <tr>\n",
       "      <th>3</th>\n",
       "      <td>0</td>\n",
       "      <td>1</td>\n",
       "      <td>0</td>\n",
       "      <td>0</td>\n",
       "      <td>0</td>\n",
       "      <td>1</td>\n",
       "      <td>0</td>\n",
       "      <td>0</td>\n",
       "      <td>0</td>\n",
       "      <td>0</td>\n",
       "      <td>...</td>\n",
       "      <td>0</td>\n",
       "      <td>1</td>\n",
       "      <td>0</td>\n",
       "      <td>0</td>\n",
       "      <td>0</td>\n",
       "      <td>0</td>\n",
       "      <td>1</td>\n",
       "      <td>0</td>\n",
       "      <td>1</td>\n",
       "      <td>0</td>\n",
       "    </tr>\n",
       "    <tr>\n",
       "      <th>4</th>\n",
       "      <td>0</td>\n",
       "      <td>1</td>\n",
       "      <td>0</td>\n",
       "      <td>0</td>\n",
       "      <td>0</td>\n",
       "      <td>1</td>\n",
       "      <td>0</td>\n",
       "      <td>0</td>\n",
       "      <td>0</td>\n",
       "      <td>1</td>\n",
       "      <td>...</td>\n",
       "      <td>0</td>\n",
       "      <td>1</td>\n",
       "      <td>0</td>\n",
       "      <td>0</td>\n",
       "      <td>0</td>\n",
       "      <td>0</td>\n",
       "      <td>1</td>\n",
       "      <td>0</td>\n",
       "      <td>0</td>\n",
       "      <td>1</td>\n",
       "    </tr>\n",
       "  </tbody>\n",
       "</table>\n",
       "<p>5 rows × 29 columns</p>\n",
       "</div>"
      ],
      "text/plain": [
       "   age_group_1  age_group_2  age_group_3  age_group_4  age_group_999  \\\n",
       "0            1            0            0            0              0   \n",
       "1            0            0            0            1              0   \n",
       "2            0            1            0            0              0   \n",
       "3            0            1            0            0              0   \n",
       "4            0            1            0            0              0   \n",
       "\n",
       "   sex_Female  sex_Male  sex_Missing  race_1  race_2  ...  \\\n",
       "0           1         0            0       0       0  ...   \n",
       "1           0         1            0       0       0  ...   \n",
       "2           0         0            1       0       0  ...   \n",
       "3           1         0            0       0       0  ...   \n",
       "4           1         0            0       0       1  ...   \n",
       "\n",
       "   current_status_Probable Case  hosp_yn_0  hosp_yn_1  hosp_yn_999  icu_yn_0  \\\n",
       "0                             0          0          0            1         0   \n",
       "1                             0          0          0            1         0   \n",
       "2                             1          1          0            0         0   \n",
       "3                             0          1          0            0         0   \n",
       "4                             0          1          0            0         0   \n",
       "\n",
       "   icu_yn_1  icu_yn_999  underlying_conditions_yn_0  \\\n",
       "0         0           1                           0   \n",
       "1         0           1                           0   \n",
       "2         0           1                           0   \n",
       "3         0           1                           0   \n",
       "4         0           1                           0   \n",
       "\n",
       "   underlying_conditions_yn_1  underlying_conditions_yn_999  \n",
       "0                           0                             1  \n",
       "1                           0                             1  \n",
       "2                           0                             1  \n",
       "3                           1                             0  \n",
       "4                           0                             1  \n",
       "\n",
       "[5 rows x 29 columns]"
      ]
     },
     "execution_count": 31,
     "metadata": {},
     "output_type": "execute_result"
    }
   ],
   "source": [
    "X_train.reset_index(drop=True, inplace=True)\n",
    "y_train.reset_index(drop=True, inplace=True)\n",
    "X_test.reset_index(drop=True, inplace=True)\n",
    "y_test.reset_index(drop=True, inplace=True)\n",
    "X_train.head(5)"
   ]
  },
  {
   "attachments": {},
   "cell_type": "markdown",
   "id": "4ed9aad1",
   "metadata": {},
   "source": [
    "The datasets are now ready for modelling."
   ]
  },
  {
   "attachments": {},
   "cell_type": "markdown",
   "id": "a5aa95b2",
   "metadata": {},
   "source": [
    "# Part 2: Linear Regression Model"
   ]
  },
  {
   "attachments": {},
   "cell_type": "markdown",
   "id": "656ce2a9",
   "metadata": {},
   "source": [
    "##  2.1 On the training set, train a linear regression model to predict the target feature"
   ]
  },
  {
   "cell_type": "code",
   "execution_count": 32,
   "id": "1ca74eda",
   "metadata": {},
   "outputs": [],
   "source": [
    "# Train a multiple linear regression model with all features\n",
    "multiple_linreg = LinearRegression().fit(X_train, y_train)"
   ]
  },
  {
   "attachments": {},
   "cell_type": "markdown",
   "id": "2293433e",
   "metadata": {},
   "source": [
    "##  2.2 Coefficients learned by the model\n",
    "\n",
    "### 2.2.1 Printing the coefficients"
   ]
  },
  {
   "cell_type": "code",
   "execution_count": 33,
   "id": "894b445a",
   "metadata": {},
   "outputs": [
    {
     "name": "stdout",
     "output_type": "stream",
     "text": [
      "\n",
      "Features are: \n",
      " Index(['age_group_1', 'age_group_2', 'age_group_3', 'age_group_4',\n",
      "       'age_group_999', 'sex_Female', 'sex_Male', 'sex_Missing', 'race_1',\n",
      "       'race_2', 'race_3', 'race_4', 'race_5', 'race_6', 'race_999',\n",
      "       'ethnicity_1', 'ethnicity_2', 'ethnicity_999',\n",
      "       'current_status_Laboratory-confirmed case',\n",
      "       'current_status_Probable Case', 'hosp_yn_0', 'hosp_yn_1', 'hosp_yn_999',\n",
      "       'icu_yn_0', 'icu_yn_1', 'icu_yn_999', 'underlying_conditions_yn_0',\n",
      "       'underlying_conditions_yn_1', 'underlying_conditions_yn_999'],\n",
      "      dtype='object')\n",
      "\n",
      "Coeficients are: \n",
      " [ 1.77577674e+10  1.77577674e+10  1.77577674e+10  1.77577674e+10\n",
      "  1.77577674e+10  1.36509825e+11  1.36509825e+11  1.36509825e+11\n",
      "  9.70804404e+10  9.70804404e+10  9.70804404e+10  9.70804404e+10\n",
      "  9.70804404e+10  9.70804404e+10  9.70804404e+10 -2.48709808e+11\n",
      " -2.48709808e+11 -2.48709808e+11  5.72657714e+11  5.72657714e+11\n",
      " -1.41822864e+11 -1.41822864e+11 -1.41822864e+11  4.79283706e+10\n",
      "  4.79283706e+10  4.79283706e+10 -4.00653912e+10 -4.00653912e+10\n",
      " -4.00653912e+10]\n",
      "\n",
      "Intercept is: \n",
      " -441336055020.9889\n",
      "\n",
      "Features and coeficients: \n",
      " [('age_group_1', 17757767419.2607), ('age_group_2', 17757767419.263653), ('age_group_3', 17757767419.332077), ('age_group_4', 17757767419.73709), ('age_group_999', 17757767419.32226), ('sex_Female', 136509824731.13696), ('sex_Male', 136509824731.17049), ('sex_Missing', 136509824731.1387), ('race_1', 97080440432.62846), ('race_2', 97080440432.70517), ('race_3', 97080440432.67873), ('race_4', 97080440432.6688), ('race_5', 97080440432.7003), ('race_6', 97080440432.68753), ('race_999', 97080440432.65717), ('ethnicity_1', -248709807673.27954), ('ethnicity_2', -248709807673.22208), ('ethnicity_999', -248709807673.33884), ('current_status_Laboratory-confirmed case', 572657714310.9187), ('current_status_Probable Case', 572657714310.9352), ('hosp_yn_0', -141822863655.71725), ('hosp_yn_1', -141822863655.28702), ('hosp_yn_999', -141822863655.63483), ('icu_yn_0', 47928370618.911095), ('icu_yn_1', 47928370619.112854), ('icu_yn_999', 47928370618.964516), ('underlying_conditions_yn_0', -40065391162.98087), ('underlying_conditions_yn_1', -40065391162.97267), ('underlying_conditions_yn_999', -40065391162.99538)]\n"
     ]
    }
   ],
   "source": [
    "# Print the weights learned for each feature used for the model\n",
    "print(\"\\nFeatures are: \\n\", X_train.columns)\n",
    "print(\"\\nCoeficients are: \\n\", multiple_linreg.coef_)\n",
    "print(\"\\nIntercept is: \\n\", multiple_linreg.intercept_)\n",
    "print(\"\\nFeatures and coeficients: \\n\", list(zip(X_train.columns, multiple_linreg.coef_)))"
   ]
  },
  {
   "attachments": {},
   "cell_type": "markdown",
   "id": "5c21f649",
   "metadata": {},
   "source": [
    "### 2.2.2  Interpreting the Linear Regression Model\n",
    "\n",
    "- Linear Regression (Linear Regression) is a model used to establish a linear relationship between variables, which assumes that there is a linear relationship between the dependent variable (or response variable) and the independent variable (or predictor variable), i.e. a straight line can be fitted to the data.\n",
    "    - A linear regression model seeks a straight line (the best fit line) that best fits the connection between input and output variables. The goodness of fit can be calculated by comparing the expected and actual results.\n",
    "    - The least squares method is commonly used to find the best-fitting straight line by minimizing the sum of squares of residuals between predicted and true values.\n",
    "- The linear regression formula takes the following form:\n",
    "    - $target\\_feature = w_0 + w_1 * feature_1 + w_2*feature_2 + ...+ w_n*feature_n $\n",
    "    - target_feature is the dependent variable we are trying to predict\n",
    "- We can see the calculated intercept is 4270730587103.7144 (w_0).\n",
    "    - This is the starting point. i.e. if all other coefficients are zero (if there is no record present for the case and all category are marked 0) then the model result will be 4270730587103.7144, which is the y-axis of the model.\n",
    "- For the coefficients for each feature, the sum of all the feature*coefficients + intercept will result in the model prediction.\n",
    "- The coefficients of each features cannot be compared directly as it is tied directly to the range of each feature. \n",
    "- A positive correlation means that the feature will impact the target prediction positively. A negative correlation means that the if the feature increases, it will affect the target feature negative, which makes the target feature value decreases.\n",
    "<br><br>\n",
    "\n",
    "#### Observation and Discussion:\n",
    "Linear Regression model is not suitable for the classification problem that we are trying to solve, especially with all categorical features. - The output is not a probability and an additional thresholding step is necessary to convert the output into a binary classification, as all values >= 0.5 will be cast to 1, and any < 0.5 will be cast to 0. <br><br>\n",
    "For our linear model, there is a huge y-intercept value of 4270730587103.7144, perhaps due to the presence the majority of data is missing in the dataset, which is denoted to 999. We will accept missing as a data category in this case.<br><br>\n",
    "reference from example given for homework2\n"
   ]
  },
  {
   "attachments": {},
   "cell_type": "markdown",
   "id": "41929db6",
   "metadata": {},
   "source": [
    "### 2.3  Print the predicted target feature value for the first 10 training examples and evaluate the prediction\n",
    "\n",
    "- Here we will print the predicted target feature value for the first 10 training examples. \n",
    "- We will threshold the predicted target feature value given by the linear regression model at 0.5, to get the predicted class for each example. \n",
    "    - If value is >= 0.5 it is cast to 1, if < 0.5 it is cast to 0"
   ]
  },
  {
   "cell_type": "code",
   "execution_count": 34,
   "id": "8dde7831",
   "metadata": {},
   "outputs": [
    {
     "name": "stdout",
     "output_type": "stream",
     "text": [
      "\n",
      "Predictions with multiple linear regression: \n",
      "\n",
      "   death_yn  Predicted\n",
      "0         0        0.0\n",
      "1         1        1.0\n",
      "2         0        0.0\n",
      "3         0        0.0\n",
      "4         0        0.0\n",
      "5         1        0.0\n",
      "6         1        1.0\n",
      "7         0        0.0\n",
      "8         0        0.0\n",
      "9         0        0.0\n"
     ]
    }
   ],
   "source": [
    "# calculate the prediction and threshold the value. If >= 0.5 its true\n",
    "multiple_linreg_predictions_train = (multiple_linreg.predict(X_train) >= 0.5) * 1.0\n",
    "\n",
    "print(\"\\nPredictions with multiple linear regression: \\n\")\n",
    "actual_vs_predicted_multiplelinreg = pd.concat([y_train, pd.DataFrame(multiple_linreg_predictions_train, columns=['Predicted'])], axis=1)\n",
    "print(actual_vs_predicted_multiplelinreg.head(10))"
   ]
  },
  {
   "attachments": {},
   "cell_type": "markdown",
   "id": "509cf907",
   "metadata": {},
   "source": [
    "- We will print a few classification evaluation measures computed on the full training set\n",
    "- We will discuss our findings base on these measures."
   ]
  },
  {
   "cell_type": "code",
   "execution_count": 35,
   "id": "ea294987",
   "metadata": {},
   "outputs": [
    {
     "name": "stdout",
     "output_type": "stream",
     "text": [
      "==================== Train Data =======================\n",
      "Accuracy:  0.908605946497215\n",
      "Confusion matrix: \n",
      " [[18488  1068]\n",
      " [ 1262  4676]]\n",
      "Classification report:\n",
      "                precision    recall  f1-score   support\n",
      "\n",
      "           0       0.94      0.95      0.94     19556\n",
      "           1       0.81      0.79      0.80      5938\n",
      "\n",
      "    accuracy                           0.91     25494\n",
      "   macro avg       0.88      0.87      0.87     25494\n",
      "weighted avg       0.91      0.91      0.91     25494\n",
      "\n",
      "======================================================\n"
     ]
    }
   ],
   "source": [
    "# Some more evaluation metrics.\n",
    "print(\"==================== Train Data =======================\")\n",
    "print(\"Accuracy: \", metrics.accuracy_score(y_train, multiple_linreg_predictions_train))\n",
    "print(\"Confusion matrix: \\n\", metrics.confusion_matrix(y_train, multiple_linreg_predictions_train))\n",
    "print(\"Classification report:\\n \", metrics.classification_report(y_train, multiple_linreg_predictions_train))\n",
    "print(\"======================================================\")"
   ]
  },
  {
   "attachments": {},
   "cell_type": "markdown",
   "id": "35221425",
   "metadata": {},
   "source": [
    "### Interpretation of Results ( 1 = death, 0 = non-death)\n",
    "- Accuracy\n",
    "    - Accuracy is the percentage of samples properly classified by the classification model to the total number of samples. We have an accuracy of 90.8%.\n",
    "- Confusion Matrix\n",
    "    - [0][0] - TN (True Negative) indicates the number of samples that are genuinely non-death and correctly identifiedby the model. - The number that is predicted 0 that is actually 0.\n",
    "    - [0][1] - FP (False Positive) indicates the number of samples that are truly non-death but are wrongly labeled as death by the model. - The number that is predicted 1 that is actually 0. \n",
    "    - [1][0] - FN (False Negative) indicates the number of samples that are truly death but are wrongly labeled as non-death by the model. - The number that is predicted 0 that is actually 1\n",
    "    - [1][1] - TP (True Positive) indicates the number of samples that are genuinely death and correctly identifiedby the model. - The number that is predicted 1 that was actually 1\n",
    "    \n",
    "- Precision - Precision is the percentage of samples for which the model actually predicts positive cases.\n",
    "    - Precision Positive is 0.81 - The percentage of predicted death values that actually has death.\n",
    "    - Precision Negative is 0.94 - The percentage of predicted non-death values that actually has non-death\n",
    "\n",
    "- Recall - Is the number correctly predicted positive over the total number actual positive\n",
    "    - Recall Positive is 0.78 - How many of the death cases were correctly predicted.\n",
    "    - Recall Negative is 0.95 - How many of the non-death cases were predicted correctly.\n",
    "\n",
    "- F1 Score - Is an a weighted average of Precision and recall\n",
    "    - F1 Score Positive is 0.80\n",
    "    - F1 Score Negative is 0.94\n",
    "  \n",
    "Summary\n",
    "- These values seem reasonable. \n",
    "- The model is a better at predicting the negative class(non-death).\n",
    "- This makes sense as the model has more negative data to learn from - it is the majority class(non-death).\n",
    "- This is ideal because it can flag potentially cured (surviving) patients more accurately.\n",
    "- The down side of this is more people who will not actually dead will be flagged"
   ]
  },
  {
   "attachments": {},
   "cell_type": "markdown",
   "id": "4e441c2a",
   "metadata": {},
   "source": [
    "### 2.4  Evaluation metrics based on training data\n",
    "- We will using classification evaluation measures on the hold-out (30% examples) test set\n",
    "- Compare these results with the evaluation results obtained on the training (70%) dataset. Also compare these results with a cross-validated model.\n",
    "- We will discuss findings based on these measures"
   ]
  },
  {
   "attachments": {},
   "cell_type": "markdown",
   "id": "3504effb",
   "metadata": {},
   "source": [
    "Printing Actual death_yn vs predicted based on test data"
   ]
  },
  {
   "cell_type": "code",
   "execution_count": 36,
   "id": "b9bc9d12",
   "metadata": {},
   "outputs": [
    {
     "name": "stdout",
     "output_type": "stream",
     "text": [
      "\n",
      "Predictions with multiple linear regression: \n",
      "\n",
      "   death_yn  Predicted\n",
      "0         0        0.0\n",
      "1         0        0.0\n",
      "2         0        0.0\n",
      "3         1        0.0\n",
      "4         0        0.0\n",
      "5         0        0.0\n",
      "6         0        0.0\n",
      "7         0        0.0\n",
      "8         0        0.0\n",
      "9         0        0.0\n"
     ]
    }
   ],
   "source": [
    "# calculate the prediction and threshold the value. If >= 0.5 its true\n",
    "multiple_linreg_predictions_test = (multiple_linreg.predict(X_test) >= 0.5) * 1.0\n",
    "\n",
    "print(\"\\nPredictions with multiple linear regression: \\n\")\n",
    "actual_vs_predicted_multiplelinreg = pd.concat([y_test, pd.DataFrame(multiple_linreg_predictions_test, columns=['Predicted'])], axis=1)\n",
    "print(actual_vs_predicted_multiplelinreg.head(10))"
   ]
  },
  {
   "attachments": {},
   "cell_type": "markdown",
   "id": "33572bfe",
   "metadata": {},
   "source": [
    "##### Evaluation metrics based on test data"
   ]
  },
  {
   "cell_type": "code",
   "execution_count": 37,
   "id": "48763868",
   "metadata": {},
   "outputs": [
    {
     "name": "stdout",
     "output_type": "stream",
     "text": [
      "==================== Test Data =======================\n",
      "Accuracy:  0.9092157042189073\n",
      "Confusion matrix: \n",
      " [[7884  456]\n",
      " [ 536 2051]]\n",
      "Classification report - Test data:\n",
      "                precision    recall  f1-score   support\n",
      "\n",
      "           0       0.94      0.95      0.94      8340\n",
      "           1       0.82      0.79      0.81      2587\n",
      "\n",
      "    accuracy                           0.91     10927\n",
      "   macro avg       0.88      0.87      0.87     10927\n",
      "weighted avg       0.91      0.91      0.91     10927\n",
      "\n",
      "\n",
      "==================== Train Data ======================\n",
      "Accuracy:  0.908605946497215\n",
      "Confusion matrix: \n",
      " [[18488  1068]\n",
      " [ 1262  4676]]\n",
      "\n",
      "Classification report: - Training data\n",
      "                precision    recall  f1-score   support\n",
      "\n",
      "           0       0.94      0.95      0.94     19556\n",
      "           1       0.81      0.79      0.80      5938\n",
      "\n",
      "    accuracy                           0.91     25494\n",
      "   macro avg       0.88      0.87      0.87     25494\n",
      "weighted avg       0.91      0.91      0.91     25494\n",
      "\n"
     ]
    }
   ],
   "source": [
    "# Some more evaluation metrics.\n",
    "print(\"==================== Test Data =======================\")\n",
    "print(\"Accuracy: \", metrics.accuracy_score(y_test, multiple_linreg_predictions_test))\n",
    "print(\"Confusion matrix: \\n\", metrics.confusion_matrix(y_test, multiple_linreg_predictions_test))\n",
    "print(\"Classification report - Test data:\\n \", metrics.classification_report(y_test, multiple_linreg_predictions_test))\n",
    "print(\"\\n==================== Train Data ======================\")\n",
    "print(\"Accuracy: \", metrics.accuracy_score(y_train, multiple_linreg_predictions_train))\n",
    "print(\"Confusion matrix: \\n\", metrics.confusion_matrix(y_train, multiple_linreg_predictions_train))\n",
    "print(\"\\nClassification report: - Training data\\n \", metrics.classification_report(y_train, multiple_linreg_predictions_train))"
   ]
  },
  {
   "attachments": {},
   "cell_type": "markdown",
   "id": "76e516c8",
   "metadata": {},
   "source": [
    "**Interpretation of test results and comparison with training results**\n",
    "- Accuracy\n",
    "    - The accuracy of the test data is marginally higher than the train data, 90.92% vs 90.86%. \n",
    "- Precision\n",
    "    - The precision score for predicting the positive case has increased from 81% to 82%.\n",
    "    - The precision score for predicting the negative case has reduced from 94% to 93%.\n",
    "- Recall\n",
    "    - The recall score for predicting the positive case has increased from 78% to 79%.\n",
    "    - The recall score for predicting the negative case has remains unchanged at 95%.\n",
    "- F1 Score\n",
    "    - The f1 score for predicting the positive case has remains unchanged at 80%.\n",
    "    - The f1 score for predicting the negative case has remains unchanged at 94%.\n",
    "    \n",
    "**Summary**\n",
    "- On the test data, the model's accuracy improved slightly, while the precision and recall varied slightly but not significantly in the positive and negative categories, respectively, and the f1 score remained unchanged.\n",
    "- This suggests that the model predicts the test results well overall, but has slightly varied prediction ability for both positive and negative categories, which requires additional investigation and adjustment.\n",
    "- It should be emphasized that this is merely an evaluation of the results of a single training and testing session, and that model evaluation and comparison utilizing techniques such as cross-validation are required to obtain more trustworthy model evaluation findings."
   ]
  },
  {
   "attachments": {},
   "cell_type": "markdown",
   "id": "60a319a1",
   "metadata": {},
   "source": [
    "### 2.5 Cross Validation\n",
    "First we need to create a function to perform this cross validation. "
   ]
  },
  {
   "cell_type": "code",
   "execution_count": 38,
   "id": "c3eb9588",
   "metadata": {},
   "outputs": [],
   "source": [
    "def cross_val_LinReg(X, y, cv=3, scoring='accuracy'):\n",
    "    \"\"\"Functions to carry out cross validation on the linear regression model\n",
    "    Default number of validations is 3. The randon state will be updated \n",
    "    at each iteration to allow our results to be repeated\"\"\"\n",
    "    \n",
    "    # store results\n",
    "    results = []\n",
    "    # evaluate cv times and append to results\n",
    "    for i in range(cv):\n",
    "        # set up train test split\n",
    "        X_train, X_test, y_train, y_test = train_test_split(X, y, random_state=i , test_size=0.3)\n",
    "        # generate model\n",
    "        multiple_linreg = LinearRegression().fit(X_train, y_train)\n",
    "        # threshold\n",
    "        multiple_linreg_predictions = (multiple_linreg.predict(X_test) >= 0.5) * 1.0\n",
    "        # calc score\n",
    "        if scoring=='accuracy':\n",
    "            score = metrics.accuracy_score(y_test, multiple_linreg_predictions)\n",
    "        elif scoring=='precision':\n",
    "            score = metrics.precision_score(y_test, multiple_linreg_predictions)\n",
    "        elif scoring=='f1':\n",
    "            score = metrics.f1_score(y_test, multiple_linreg_predictions)\n",
    "        elif scoring=='recall':\n",
    "            score = metrics.recall_score(y_test, multiple_linreg_predictions)\n",
    "        # append to results\n",
    "        results.append(score)\n",
    "    return results"
   ]
  },
  {
   "cell_type": "code",
   "execution_count": 39,
   "id": "00984024",
   "metadata": {},
   "outputs": [],
   "source": [
    "def cross_val_LinReg_DF(X,y):\n",
    "    \"\"\"Function to perform cross validation and store results \n",
    "    in dataframe. Cross validation looks at accuracy, precision, \n",
    "    recall, f1. Returns a dataframe with results\"\"\"\n",
    "\n",
    "    linRegResults = {}\n",
    "    # metrics to test against\n",
    "    test_metrics = ['accuracy','precision','recall', 'f1']\n",
    "    \n",
    "    for metric in test_metrics:\n",
    "        # generate test results\n",
    "        result = cross_val_LinReg(X, y, cv=10, scoring=metric)\n",
    "        length = len(result)\n",
    "        # store result in dict\n",
    "        linRegResults[metric] = sum(result)/length\n",
    "\n",
    "    # create dataframe with results\n",
    "    LinRegDF = pd.DataFrame.from_dict(linRegResults, orient='index', columns=['Linear_Regression'])\n",
    "    \n",
    "    return LinRegDF"
   ]
  },
  {
   "attachments": {},
   "cell_type": "markdown",
   "id": "42290f91",
   "metadata": {},
   "source": [
    "Preform 10 fold cross validation using cross_val_LinReg_DF function\n",
    "- Results summarised below"
   ]
  },
  {
   "cell_type": "code",
   "execution_count": 40,
   "id": "8dbec647",
   "metadata": {},
   "outputs": [
    {
     "name": "stdout",
     "output_type": "stream",
     "text": [
      "Mean results from 10 fold cross validation are:\n"
     ]
    },
    {
     "data": {
      "text/html": [
       "<div>\n",
       "<style scoped>\n",
       "    .dataframe tbody tr th:only-of-type {\n",
       "        vertical-align: middle;\n",
       "    }\n",
       "\n",
       "    .dataframe tbody tr th {\n",
       "        vertical-align: top;\n",
       "    }\n",
       "\n",
       "    .dataframe thead th {\n",
       "        text-align: right;\n",
       "    }\n",
       "</style>\n",
       "<table border=\"1\" class=\"dataframe\">\n",
       "  <thead>\n",
       "    <tr style=\"text-align: right;\">\n",
       "      <th></th>\n",
       "      <th>Linear_Regression</th>\n",
       "    </tr>\n",
       "  </thead>\n",
       "  <tbody>\n",
       "    <tr>\n",
       "      <th>accuracy</th>\n",
       "      <td>0.906964</td>\n",
       "    </tr>\n",
       "    <tr>\n",
       "      <th>precision</th>\n",
       "      <td>0.808917</td>\n",
       "    </tr>\n",
       "    <tr>\n",
       "      <th>recall</th>\n",
       "      <td>0.787534</td>\n",
       "    </tr>\n",
       "    <tr>\n",
       "      <th>f1</th>\n",
       "      <td>0.797883</td>\n",
       "    </tr>\n",
       "  </tbody>\n",
       "</table>\n",
       "</div>"
      ],
      "text/plain": [
       "           Linear_Regression\n",
       "accuracy            0.906964\n",
       "precision           0.808917\n",
       "recall              0.787534\n",
       "f1                  0.797883"
      ]
     },
     "execution_count": 40,
     "metadata": {},
     "output_type": "execute_result"
    }
   ],
   "source": [
    "linRegDF = cross_val_LinReg_DF(X,y)\n",
    "print(f\"Mean results from 10 fold cross validation are:\")\n",
    "linRegDF"
   ]
  },
  {
   "attachments": {},
   "cell_type": "markdown",
   "id": "d0d3821c",
   "metadata": {},
   "source": [
    "These results are marginally lower than previous results, which is not surprising given that they are the average of 10 sets of results. Because there may be some randomness in the division of the data set, initialization parameters, etc., the results obtained from multiple training sessions may also vary."
   ]
  },
  {
   "attachments": {},
   "cell_type": "markdown",
   "id": "2b3ac758",
   "metadata": {},
   "source": [
    "## Part 3: Logistic Regression Model"
   ]
  },
  {
   "attachments": {},
   "cell_type": "markdown",
   "id": "3c7d9261",
   "metadata": {},
   "source": [
    "### 3.1  Train a logistic regression model"
   ]
  },
  {
   "cell_type": "code",
   "execution_count": 41,
   "id": "92e8558f",
   "metadata": {},
   "outputs": [],
   "source": [
    "# Train aka fit, a model using all continuous and categorical features.\n",
    "multiple_logisticreg = LogisticRegression().fit(X_train, y_train)"
   ]
  },
  {
   "attachments": {},
   "cell_type": "markdown",
   "id": "af765dcf",
   "metadata": {},
   "source": [
    "##  3.2 Coefficients learned by the model\n",
    "\n",
    "### 3.2.1 Printing the coefficients"
   ]
  },
  {
   "cell_type": "code",
   "execution_count": 42,
   "id": "e400e88f",
   "metadata": {},
   "outputs": [
    {
     "name": "stdout",
     "output_type": "stream",
     "text": [
      "\n",
      "Features are: \n",
      " Index(['age_group_1', 'age_group_2', 'age_group_3', 'age_group_4',\n",
      "       'age_group_999', 'sex_Female', 'sex_Male', 'sex_Missing', 'race_1',\n",
      "       'race_2', 'race_3', 'race_4', 'race_5', 'race_6', 'race_999',\n",
      "       'ethnicity_1', 'ethnicity_2', 'ethnicity_999',\n",
      "       'current_status_Laboratory-confirmed case',\n",
      "       'current_status_Probable Case', 'hosp_yn_0', 'hosp_yn_1', 'hosp_yn_999',\n",
      "       'icu_yn_0', 'icu_yn_1', 'icu_yn_999', 'underlying_conditions_yn_0',\n",
      "       'underlying_conditions_yn_1', 'underlying_conditions_yn_999'],\n",
      "      dtype='object')\n",
      "\n",
      "Coeficients are: \n",
      " [-3.54885080e+00 -1.54251780e+00  6.87217331e-01  3.38404152e+00\n",
      "  8.79689805e-01 -6.97436126e-02  2.98133525e-01 -3.68809865e-01\n",
      " -1.40417229e+00  7.62053134e-01  2.05071650e-02  7.53355430e-02\n",
      "  6.85431242e-01 -7.58065955e-02 -2.03768155e-01 -1.36807433e-01\n",
      "  1.03760166e+00 -1.04121418e+00 -1.39297763e-01 -1.12219033e-03\n",
      " -1.49100622e+00  1.68251319e+00 -3.31926926e-01 -1.27406523e+00\n",
      "  1.58278473e+00 -4.49139450e-01 -6.51093520e-01  4.69660842e-01\n",
      "  4.10127250e-02]\n",
      "\n",
      "Intercept is: \n",
      " [-1.79439073]\n",
      "\n",
      "Features and coeficients: \n",
      " [('age_group_1', -3.54885080372022), ('age_group_2', -1.542517800031227), ('age_group_3', 0.6872173306666816), ('age_group_4', 3.3840415155167394), ('age_group_999', 0.8796898045727863), ('sex_Female', -0.069743612625712), ('sex_Male', 0.2981335247770216), ('sex_Missing', -0.3688098651463481), ('race_1', -1.4041722864766626), ('race_2', 0.7620531338747736), ('race_3', 0.020507164952720685), ('race_4', 0.07533554297206382), ('race_5', 0.6854312418647786), ('race_6', -0.0758065954690322), ('race_999', -0.20376815471377108), ('ethnicity_1', -0.13680743320836647), ('ethnicity_2', 1.0376016611228123), ('ethnicity_999', -1.041214180909698), ('current_status_Laboratory-confirmed case', -0.13929776266873986), ('current_status_Probable Case', -0.0011221903265408364), ('hosp_yn_0', -1.4910062168370632), ('hosp_yn_1', 1.6825131899230947), ('hosp_yn_999', -0.3319269260811359), ('icu_yn_0', -1.2740652326738067), ('icu_yn_1', 1.5827847298309083), ('icu_yn_999', -0.4491394501524762), ('underlying_conditions_yn_0', -0.6510935196981242), ('underlying_conditions_yn_1', 0.46966084170592914), ('underlying_conditions_yn_999', 0.04101272499714165)]\n"
     ]
    }
   ],
   "source": [
    "# Print the weights learned for each feature.\n",
    "print(\"\\nFeatures are: \\n\", X_train.columns)\n",
    "print(\"\\nCoeficients are: \\n\", multiple_logisticreg.coef_[0])\n",
    "print(\"\\nIntercept is: \\n\", multiple_logisticreg.intercept_)\n",
    "print(\"\\nFeatures and coeficients: \\n\", list(zip(X_train.columns, multiple_logisticreg.coef_[0])))"
   ]
  },
  {
   "attachments": {},
   "cell_type": "markdown",
   "id": "6db21f48",
   "metadata": {},
   "source": [
    "\n",
    "For both linear regression and logistic regression, the first step is to find the best-fit curve or hyperplane to describe the data\n",
    "- Linear regression is used to predict the relationship between continuous variables with a straight line that minimizes the mean squared error.\n",
    "\n",
    "- Logistic regression is used to predict the relationship between discrete variables with a curve that minimizes the difference between predicted and true values. For logistic regression, we pass the equation through a sigmoid function that produce output value between 0 to 1, which is in probability terms. Same as the previous linear model, thelogistic model then applies a threshold to this probability so that if is is >= 0.5 its cast to 1 and if it is <0.5 it is cast to 0. Logistic Regression models are not much impacted due to the presence of outliers because the sigmoid function tapers the outliers. (reference from https://medium.com/geekculture/essential-guide-to-handle-outliers-for-your-logistic-regression-model-63c97690a84d#:~:text=Logistic%20Regression%20models%20are%20not,model%20and%20lowering%20the%20performance.)\n",
    "\n",
    "- The Logistic regression formula takes the following form:\n",
    "    - $probability(target=1|descriptive\\_features)=logistic(w_0 + w_1 * feature_1 + w_2*feature_2 + ...+ w_n*feature_n)$\n",
    " \n",
    "- From the values above can see the calculated y-intercept is -1.794.\n",
    "    - This is the reference point, assuming all other coefficients are zero (when the record for the case is empty and all category are marked 0), where the value of 'y' is equal to -1.794.\n",
    "    - For our intercept which is a negative sign, then the probability of having the outcome will be less than 0.5. (reference https://quantifyinghealth.com/interpret-logistic-regression-intercept/)\n",
    "    \n",
    "Logistic regression can handle discrete or categorical outcomes and provides a probability estimate for each predicted outcome, making it easier to interpret results and make predictions. It is less sensitive to outliers than linear regression, which makes their impact on the model is minimal. In this case when comparing both the linear and logistic regression, the logistic regression is better for our problem domain here as all our features selected here are categorical (non-continuous). "
   ]
  },
  {
   "attachments": {},
   "cell_type": "markdown",
   "id": "955fd601",
   "metadata": {},
   "source": [
    "### 3.3  Evaluate the Metrics based on Training data\n",
    "\n",
    "- Here we will print the predicted target feature value for the first 10 training examples. \n",
    "- We will Print a few classification evaluation measures computed on the full training set.\n",
    "\n",
    "#### 3.3.1 Printing the predicted target feature value for the first 10 training examples"
   ]
  },
  {
   "cell_type": "code",
   "execution_count": 43,
   "id": "4597c169",
   "metadata": {},
   "outputs": [
    {
     "name": "stdout",
     "output_type": "stream",
     "text": [
      "\n",
      "Predictions with multiple linear regression: \n",
      "\n",
      "   death_yn  Predicted\n",
      "0         0          0\n",
      "1         1          1\n",
      "2         0          0\n",
      "3         0          0\n",
      "4         0          0\n",
      "5         1          0\n",
      "6         1          1\n",
      "7         0          0\n",
      "8         0          0\n",
      "9         0          0\n"
     ]
    }
   ],
   "source": [
    "# calculate the prediction and threshold the value. If >= 0.5 its true\n",
    "multiple_logisticreg_predictions_train = multiple_logisticreg.predict(X_train)\n",
    "\n",
    "print(\"\\nPredictions with multiple linear regression: \\n\")\n",
    "actual_vs_predicted_multiplelogisticreg = pd.concat([y_train, pd.DataFrame(multiple_logisticreg_predictions_train, columns=['Predicted'])], axis=1)\n",
    "print(actual_vs_predicted_multiplelogisticreg.head(10))"
   ]
  },
  {
   "attachments": {},
   "cell_type": "markdown",
   "id": "ed291ddd",
   "metadata": {},
   "source": [
    "#### 3.3.2 Evaluation Metrics"
   ]
  },
  {
   "cell_type": "code",
   "execution_count": 44,
   "id": "8eb366ef",
   "metadata": {},
   "outputs": [
    {
     "name": "stdout",
     "output_type": "stream",
     "text": [
      "==================== Train Data =======================\n",
      "Accuracy:  0.9089197458225465\n",
      "Confusion matrix: \n",
      " [[18591   965]\n",
      " [ 1357  4581]]\n",
      "Classification report:\n",
      "                precision    recall  f1-score   support\n",
      "\n",
      "           0       0.93      0.95      0.94     19556\n",
      "           1       0.83      0.77      0.80      5938\n",
      "\n",
      "    accuracy                           0.91     25494\n",
      "   macro avg       0.88      0.86      0.87     25494\n",
      "weighted avg       0.91      0.91      0.91     25494\n",
      "\n",
      "======================================================\n"
     ]
    }
   ],
   "source": [
    "# Some more evaluation metrics.\n",
    "print(\"==================== Train Data =======================\")\n",
    "print(\"Accuracy: \", metrics.accuracy_score(y_train, multiple_logisticreg_predictions_train))\n",
    "print(\"Confusion matrix: \\n\", metrics.confusion_matrix(y_train, multiple_logisticreg_predictions_train))\n",
    "print(\"Classification report:\\n \", metrics.classification_report(y_train, multiple_logisticreg_predictions_train))\n",
    "print(\"======================================================\")"
   ]
  },
  {
   "attachments": {},
   "cell_type": "markdown",
   "id": "d240eb18",
   "metadata": {},
   "source": [
    "#### 3.3.3 Interpretation of results( 1 = death, 0 = non-death)\n",
    "- Accuracy\n",
    "    - Accuracy is the percentage of samples properly classified by the classification model to the total number of samples. We have an accuracy of 90.89%.\n",
    "    \n",
    "- Precision - Precision is the percentage of samples for which the model actually predicts positive cases.\n",
    "    - Precision Positive is 0.83 - The percentage of predicted death values that actually did death.\n",
    "    - Precision Negative is 0.93 - The percentage of predicted non-death values that actually did non-death\n",
    "\n",
    "- Recall - Is the number correctly predicted positive over the total number actual positive\n",
    "    - Recall Positive is 0.77 - How many of the death cases were correctly predicted.\n",
    "    - Recall Negative is 0.95 - How many of the non-death cases were predicted correctly.\n",
    "\n",
    "- F1 Score - Is an a weighted average of Precision and recall\n",
    "    - F1 Score Positive is 0.80\n",
    "    - F1 Score Negative is 0.94\n",
    "  \n",
    "<b>Summary</b>\n",
    "- Theses values seem reasonable. \n",
    "- Slightly higher accuracy than linear regression model.\n",
    "- The logistic model is also a better at predicting the negative class.\n",
    "- This makes sense as the model has more negative data to learn from - it is the majority class(non-death)."
   ]
  },
  {
   "attachments": {},
   "cell_type": "markdown",
   "id": "42e29d08",
   "metadata": {},
   "source": [
    "### 3.4  Evaluation based on Test Set\n",
    "- We will using classification evaluation measures on the hold-out (30% examples) test set\n",
    "- Compare these results with the evaluation results obtained on the training (70%) dataset. Also compare these results with a cross-validated model.\n",
    "- We will discuss findings based on these measures"
   ]
  },
  {
   "attachments": {},
   "cell_type": "markdown",
   "id": "7cd18d7f",
   "metadata": {},
   "source": [
    "#### 3.4.1 Printing the predicted target feature value for the first 10 test data"
   ]
  },
  {
   "cell_type": "code",
   "execution_count": 45,
   "id": "c111eb06",
   "metadata": {},
   "outputs": [
    {
     "name": "stdout",
     "output_type": "stream",
     "text": [
      "\n",
      "Predictions with multiple linear regression: \n",
      "\n",
      "   death_yn  Predicted\n",
      "0         0          0\n",
      "1         0          0\n",
      "2         0          0\n",
      "3         1          0\n",
      "4         0          0\n",
      "5         0          0\n",
      "6         0          0\n",
      "7         0          0\n",
      "8         0          0\n",
      "9         0          0\n"
     ]
    }
   ],
   "source": [
    "# calculate the prediction and threshold the value. If >= 0.5 its true\n",
    "multiple_logisticreg_predictions_test = multiple_logisticreg.predict(X_test)\n",
    "\n",
    "print(\"\\nPredictions with multiple linear regression: \\n\")\n",
    "actual_vs_predicted_multiplelogisticreg = pd.concat([y_test, pd.DataFrame(multiple_logisticreg_predictions_test, columns=['Predicted'])], axis=1)\n",
    "print(actual_vs_predicted_multiplelogisticreg.head(10))"
   ]
  },
  {
   "attachments": {},
   "cell_type": "markdown",
   "id": "236621cb",
   "metadata": {},
   "source": [
    "#### 3.3.2 Evaluation Metrics \n",
    "(on test data and printing out metrics on training dataset for comparison)"
   ]
  },
  {
   "cell_type": "code",
   "execution_count": 46,
   "id": "ab1185ae",
   "metadata": {},
   "outputs": [
    {
     "name": "stdout",
     "output_type": "stream",
     "text": [
      "==================== Test Data =======================\n",
      "Accuracy:  0.9104969341996888\n",
      "Confusion matrix: \n",
      " [[7936  404]\n",
      " [ 574 2013]]\n",
      "Classification report:\n",
      "                precision    recall  f1-score   support\n",
      "\n",
      "           0       0.93      0.95      0.94      8340\n",
      "           1       0.83      0.78      0.80      2587\n",
      "\n",
      "    accuracy                           0.91     10927\n",
      "   macro avg       0.88      0.86      0.87     10927\n",
      "weighted avg       0.91      0.91      0.91     10927\n",
      "\n",
      "==================== Train Data =======================\n",
      "Accuracy:  0.9089197458225465\n",
      "Confusion matrix: \n",
      " [[18591   965]\n",
      " [ 1357  4581]]\n",
      "Classification report:\n",
      "                precision    recall  f1-score   support\n",
      "\n",
      "           0       0.93      0.95      0.94     19556\n",
      "           1       0.83      0.77      0.80      5938\n",
      "\n",
      "    accuracy                           0.91     25494\n",
      "   macro avg       0.88      0.86      0.87     25494\n",
      "weighted avg       0.91      0.91      0.91     25494\n",
      "\n",
      "======================================================\n"
     ]
    }
   ],
   "source": [
    "# Some more evaluation metrics.\n",
    "print(\"==================== Test Data =======================\")\n",
    "print(\"Accuracy: \", metrics.accuracy_score(y_test, multiple_logisticreg_predictions_test))\n",
    "print(\"Confusion matrix: \\n\", metrics.confusion_matrix(y_test, multiple_logisticreg_predictions_test))\n",
    "print(\"Classification report:\\n \", metrics.classification_report(y_test, multiple_logisticreg_predictions_test))\n",
    "print(\"==================== Train Data =======================\")\n",
    "print(\"Accuracy: \", metrics.accuracy_score(y_train, multiple_logisticreg_predictions_train))\n",
    "print(\"Confusion matrix: \\n\", metrics.confusion_matrix(y_train, multiple_logisticreg_predictions_train))\n",
    "print(\"Classification report:\\n \", metrics.classification_report(y_train, multiple_logisticreg_predictions_train))\n",
    "print(\"======================================================\")"
   ]
  },
  {
   "attachments": {},
   "cell_type": "markdown",
   "id": "7262c326",
   "metadata": {},
   "source": [
    "#### 3.4.3 Interpretation of test results and comparison with training results( 1 = death, 0 = non-death) \n",
    "\n",
    "- Accuracy\n",
    "    - The accuracy of the test data is marginally higher 91.04% vs 90.89%. \n",
    "- Precision\n",
    "    - The precision score for predicting the positive case has remains unchanged at 83%.\n",
    "    - The precision score for predicting the negative case has remains unchanged at 93%.\n",
    "- Recall\n",
    "    - The recall score for predicting the positive case has increased from 77% to 78%.\n",
    "    - The recall score for predicting the negative case has remains unchanged at 95%.\n",
    "- F1 Score\n",
    "    - The f1 score for predicting the positive case has remains unchanged at 80%.\n",
    "    - The f1 score for predicting the negative case has remains unchanged at 94%.\n",
    "    \n",
    "**Summary**\n",
    "- The accuracy of the test data increased slightly from the previous result of 90.89% to 91.04%.\n",
    "- The model shows promising overall performance on the test data, but some variance in predicting both positive and negative categories suggests the need for further investigation and fine-tuning.\n",
    "- This highlights the need for further model evaluation and comparison, which can be achieved through the use of cross-validation"
   ]
  },
  {
   "attachments": {},
   "cell_type": "markdown",
   "id": "76c10ce8",
   "metadata": {},
   "source": [
    "### 3.5 Cross Validation"
   ]
  },
  {
   "cell_type": "code",
   "execution_count": 47,
   "id": "15852363",
   "metadata": {},
   "outputs": [],
   "source": [
    "def cross_val_LogReg_DF(X,y):\n",
    "    \"\"\"Function to perform cross validation and store results \n",
    "    in dataframe. Cross validation looks at accuracy, precision, \n",
    "    recall, f1. Returns a dataframe with results\"\"\"\n",
    "\n",
    "    logRegResults = {}\n",
    "    # metrics to test against\n",
    "    test_metrics = ['accuracy','precision','recall', 'f1']\n",
    "\n",
    "    for metric in test_metrics:\n",
    "        # generate test results\n",
    "        result = cross_val_score(LogisticRegression(), X, y, scoring=metric, cv=10)\n",
    "        # store result in dict\n",
    "        logRegResults[metric] = result.mean()\n",
    "        \n",
    "    # create dataframe with results\n",
    "    LogRegDF = pd.DataFrame.from_dict(logRegResults, orient='index', columns=['Logistic_Regression'])\n",
    "    \n",
    "    return LogRegDF"
   ]
  },
  {
   "attachments": {},
   "cell_type": "markdown",
   "id": "7fd66d8a",
   "metadata": {},
   "source": [
    "Preform 10 fold cross validation using cross_val_LogReg_DF function\n",
    "- Results summarised below"
   ]
  },
  {
   "cell_type": "code",
   "execution_count": 48,
   "id": "a6be655e",
   "metadata": {},
   "outputs": [
    {
     "name": "stdout",
     "output_type": "stream",
     "text": [
      "Mean results from 10 fold cross validation are:\n"
     ]
    },
    {
     "data": {
      "text/html": [
       "<div>\n",
       "<style scoped>\n",
       "    .dataframe tbody tr th:only-of-type {\n",
       "        vertical-align: middle;\n",
       "    }\n",
       "\n",
       "    .dataframe tbody tr th {\n",
       "        vertical-align: top;\n",
       "    }\n",
       "\n",
       "    .dataframe thead th {\n",
       "        text-align: right;\n",
       "    }\n",
       "</style>\n",
       "<table border=\"1\" class=\"dataframe\">\n",
       "  <thead>\n",
       "    <tr style=\"text-align: right;\">\n",
       "      <th></th>\n",
       "      <th>Logistic_Regression</th>\n",
       "    </tr>\n",
       "  </thead>\n",
       "  <tbody>\n",
       "    <tr>\n",
       "      <th>accuracy</th>\n",
       "      <td>0.909036</td>\n",
       "    </tr>\n",
       "    <tr>\n",
       "      <th>precision</th>\n",
       "      <td>0.824854</td>\n",
       "    </tr>\n",
       "    <tr>\n",
       "      <th>recall</th>\n",
       "      <td>0.776418</td>\n",
       "    </tr>\n",
       "    <tr>\n",
       "      <th>f1</th>\n",
       "      <td>0.799792</td>\n",
       "    </tr>\n",
       "  </tbody>\n",
       "</table>\n",
       "</div>"
      ],
      "text/plain": [
       "           Logistic_Regression\n",
       "accuracy              0.909036\n",
       "precision             0.824854\n",
       "recall                0.776418\n",
       "f1                    0.799792"
      ]
     },
     "execution_count": 48,
     "metadata": {},
     "output_type": "execute_result"
    }
   ],
   "source": [
    "logRegDF = cross_val_LogReg_DF(X,y)\n",
    "print(f\"Mean results from 10 fold cross validation are:\")\n",
    "logRegDF"
   ]
  },
  {
   "attachments": {},
   "cell_type": "markdown",
   "id": "b10205f7",
   "metadata": {},
   "source": [
    "These results are marginally lower than previous results. This is reasonable. Cross-validation assesses the model's performance by employing various subsets of data as training and test sets. This may produce slightly poorer results than single training and test sets, but it can increase the model's generalization."
   ]
  },
  {
   "attachments": {},
   "cell_type": "markdown",
   "id": "bc2a461f",
   "metadata": {},
   "source": [
    "## Part 4: Random Forest Model"
   ]
  },
  {
   "attachments": {},
   "cell_type": "markdown",
   "id": "06687a57",
   "metadata": {},
   "source": [
    "### 4.1 Training a Random Forest Model\n",
    "A random forest model will now be trained on our test data based on the descriptive features selected from part one. In our case, all features are descriptive, thus all features are selected. We will use the RandomForestClassifier() function. "
   ]
  },
  {
   "cell_type": "code",
   "execution_count": 49,
   "id": "0a2705cf",
   "metadata": {},
   "outputs": [
    {
     "data": {
      "text/html": [
       "<style>#sk-container-id-1 {color: black;background-color: white;}#sk-container-id-1 pre{padding: 0;}#sk-container-id-1 div.sk-toggleable {background-color: white;}#sk-container-id-1 label.sk-toggleable__label {cursor: pointer;display: block;width: 100%;margin-bottom: 0;padding: 0.3em;box-sizing: border-box;text-align: center;}#sk-container-id-1 label.sk-toggleable__label-arrow:before {content: \"▸\";float: left;margin-right: 0.25em;color: #696969;}#sk-container-id-1 label.sk-toggleable__label-arrow:hover:before {color: black;}#sk-container-id-1 div.sk-estimator:hover label.sk-toggleable__label-arrow:before {color: black;}#sk-container-id-1 div.sk-toggleable__content {max-height: 0;max-width: 0;overflow: hidden;text-align: left;background-color: #f0f8ff;}#sk-container-id-1 div.sk-toggleable__content pre {margin: 0.2em;color: black;border-radius: 0.25em;background-color: #f0f8ff;}#sk-container-id-1 input.sk-toggleable__control:checked~div.sk-toggleable__content {max-height: 200px;max-width: 100%;overflow: auto;}#sk-container-id-1 input.sk-toggleable__control:checked~label.sk-toggleable__label-arrow:before {content: \"▾\";}#sk-container-id-1 div.sk-estimator input.sk-toggleable__control:checked~label.sk-toggleable__label {background-color: #d4ebff;}#sk-container-id-1 div.sk-label input.sk-toggleable__control:checked~label.sk-toggleable__label {background-color: #d4ebff;}#sk-container-id-1 input.sk-hidden--visually {border: 0;clip: rect(1px 1px 1px 1px);clip: rect(1px, 1px, 1px, 1px);height: 1px;margin: -1px;overflow: hidden;padding: 0;position: absolute;width: 1px;}#sk-container-id-1 div.sk-estimator {font-family: monospace;background-color: #f0f8ff;border: 1px dotted black;border-radius: 0.25em;box-sizing: border-box;margin-bottom: 0.5em;}#sk-container-id-1 div.sk-estimator:hover {background-color: #d4ebff;}#sk-container-id-1 div.sk-parallel-item::after {content: \"\";width: 100%;border-bottom: 1px solid gray;flex-grow: 1;}#sk-container-id-1 div.sk-label:hover label.sk-toggleable__label {background-color: #d4ebff;}#sk-container-id-1 div.sk-serial::before {content: \"\";position: absolute;border-left: 1px solid gray;box-sizing: border-box;top: 0;bottom: 0;left: 50%;z-index: 0;}#sk-container-id-1 div.sk-serial {display: flex;flex-direction: column;align-items: center;background-color: white;padding-right: 0.2em;padding-left: 0.2em;position: relative;}#sk-container-id-1 div.sk-item {position: relative;z-index: 1;}#sk-container-id-1 div.sk-parallel {display: flex;align-items: stretch;justify-content: center;background-color: white;position: relative;}#sk-container-id-1 div.sk-item::before, #sk-container-id-1 div.sk-parallel-item::before {content: \"\";position: absolute;border-left: 1px solid gray;box-sizing: border-box;top: 0;bottom: 0;left: 50%;z-index: -1;}#sk-container-id-1 div.sk-parallel-item {display: flex;flex-direction: column;z-index: 1;position: relative;background-color: white;}#sk-container-id-1 div.sk-parallel-item:first-child::after {align-self: flex-end;width: 50%;}#sk-container-id-1 div.sk-parallel-item:last-child::after {align-self: flex-start;width: 50%;}#sk-container-id-1 div.sk-parallel-item:only-child::after {width: 0;}#sk-container-id-1 div.sk-dashed-wrapped {border: 1px dashed gray;margin: 0 0.4em 0.5em 0.4em;box-sizing: border-box;padding-bottom: 0.4em;background-color: white;}#sk-container-id-1 div.sk-label label {font-family: monospace;font-weight: bold;display: inline-block;line-height: 1.2em;}#sk-container-id-1 div.sk-label-container {text-align: center;}#sk-container-id-1 div.sk-container {/* jupyter's `normalize.less` sets `[hidden] { display: none; }` but bootstrap.min.css set `[hidden] { display: none !important; }` so we also need the `!important` here to be able to override the default hidden behavior on the sphinx rendered scikit-learn.org. See: https://github.com/scikit-learn/scikit-learn/issues/21755 */display: inline-block !important;position: relative;}#sk-container-id-1 div.sk-text-repr-fallback {display: none;}</style><div id=\"sk-container-id-1\" class=\"sk-top-container\"><div class=\"sk-text-repr-fallback\"><pre>RandomForestClassifier(oob_score=True, random_state=1)</pre><b>In a Jupyter environment, please rerun this cell to show the HTML representation or trust the notebook. <br />On GitHub, the HTML representation is unable to render, please try loading this page with nbviewer.org.</b></div><div class=\"sk-container\" hidden><div class=\"sk-item\"><div class=\"sk-estimator sk-toggleable\"><input class=\"sk-toggleable__control sk-hidden--visually\" id=\"sk-estimator-id-1\" type=\"checkbox\" checked><label for=\"sk-estimator-id-1\" class=\"sk-toggleable__label sk-toggleable__label-arrow\">RandomForestClassifier</label><div class=\"sk-toggleable__content\"><pre>RandomForestClassifier(oob_score=True, random_state=1)</pre></div></div></div></div></div>"
      ],
      "text/plain": [
       "RandomForestClassifier(oob_score=True, random_state=1)"
      ]
     },
     "execution_count": 49,
     "metadata": {},
     "output_type": "execute_result"
    }
   ],
   "source": [
    "rfc = RandomForestClassifier(n_estimators=100, oob_score=True, random_state=1)\n",
    "rfc.fit(X_train, y_train)"
   ]
  },
  {
   "attachments": {},
   "cell_type": "markdown",
   "id": "8b5741ba",
   "metadata": {},
   "source": [
    "### 4.2 Interpreting the Random Forest model\n",
    "We will now try to understand how this random forest model works\n",
    "- A random forest is made up of a collection of decision trees\n",
    "- Decision tree\n",
    "    - A decision tree is a set of if-then-else rules based on splitting the data based on specific features until no split is possible/ until the maximum depth is reached\n",
    "    - The decision on which feature to split on is based on the information gain (Gini index). \n",
    "    - The tree will always split on the feature that gives the highest information gain\n",
    "    - The feature with the highest information gain will sit at the root of each decision tree\n",
    "    - Each decision tree will be a single prediction\n",
    "- Random Forest \n",
    "    - The random forest is made up of a number of decision trees, and the output is the  majority output of all decision trees combined\n",
    "    - The random forest will rank the features based on the importance of features in terms of information gain"
   ]
  },
  {
   "attachments": {},
   "cell_type": "markdown",
   "id": "43438ef3",
   "metadata": {},
   "source": [
    "####  4.2.1  Example: Train Decision tree\n",
    "We will train 2 decision trees, with the same test data to see how a decision tree work\n",
    "- One with max_depth=3 and the other max_depth=6\n",
    "- Max depth determines how deep a decision tree can go before it must give an answer"
   ]
  },
  {
   "cell_type": "code",
   "execution_count": 50,
   "id": "3ca06c10",
   "metadata": {},
   "outputs": [
    {
     "name": "stdout",
     "output_type": "stream",
     "text": [
      "Max depth 3: \n",
      " DecisionTreeClassifier(max_depth=3, random_state=1)\n",
      "Max depth 6: \n",
      " DecisionTreeClassifier(max_depth=6, random_state=1)\n"
     ]
    }
   ],
   "source": [
    "dtc3 = DecisionTreeClassifier(max_depth=3, random_state=1)\n",
    "dtc6 = DecisionTreeClassifier(max_depth=6, random_state=1)\n",
    "dtc3.fit(X_train, y_train)\n",
    "dtc6.fit(X_train, y_train)\n",
    "print(\"Max depth 3: \\n\",dtc3)\n",
    "print(\"Max depth 6: \\n\",dtc6)"
   ]
  },
  {
   "attachments": {},
   "cell_type": "markdown",
   "id": "da6ca5a9",
   "metadata": {},
   "source": [
    "####  4.2.2  Example: Displaying Decision tree"
   ]
  },
  {
   "cell_type": "code",
   "execution_count": 51,
   "id": "38d88894",
   "metadata": {},
   "outputs": [],
   "source": [
    "# create a Graphviz png\n",
    "with open(\"DecisionTree3.dot\", 'w') as f1:\n",
    "    f1 = export_graphviz(dtc3, out_file=f1, feature_names=X_train.columns)\n",
    "\n",
    "with open(\"DecisionTree6.dot\", 'w') as f2:\n",
    "    f2 = export_graphviz(dtc6, out_file=f2, feature_names=X_train.columns)\n",
    "\n",
    "!dot -Tpng DecisionTree3.dot -o DecisionTree3.png\n",
    "!dot -Tpng DecisionTree6.dot -o DecisionTree6.png"
   ]
  },
  {
   "attachments": {},
   "cell_type": "markdown",
   "id": "6de41034",
   "metadata": {},
   "source": [
    "We can see below the decision tree with maximum depth 3: \n",
    "- We can see the root is age_group_4 ，= 0.5 - This splits the data best i.e. has the highest information gain\n",
    "- For each split the the model selects the next best feature, and continues until it reaches a leaf node where the data cannot be split anymore\n",
    "- The output of this is the prediction"
   ]
  },
  {
   "attachments": {},
   "cell_type": "markdown",
   "id": "b676bae1",
   "metadata": {},
   "source": [
    "<img src=\"DecisionTree3.png\">"
   ]
  },
  {
   "attachments": {},
   "cell_type": "markdown",
   "id": "9bb06afb",
   "metadata": {},
   "source": [
    "Below shows visualisation of a decision tree with maxdepth=6 shows how complicated this model becomes as the maximum depth increases. A Random forests has 100 decision trees by default (based on the scikit-learn.org documentation). Each decision tree is given a slightly different view of the data to model."
   ]
  },
  {
   "attachments": {},
   "cell_type": "markdown",
   "id": "81320ab2",
   "metadata": {},
   "source": [
    "<img src=\"DecisionTree6.png\">"
   ]
  },
  {
   "attachments": {},
   "cell_type": "markdown",
   "id": "f6ad8dd2",
   "metadata": {},
   "source": [
    "#### 4.2.3 Interpretation of the Random Forest Model\n",
    "A random forest will keep track of the importance of features, and we can see the below dataframe that shows the feature importance ranking. The more important features are the features that the random forest has identified as having higher information gain.<br>\n",
    "This list is the combined result of the 100 decision trees that make up the random forest model. This will help us in our model optimisation process to determine which are the best features to keep and which features could be dropped."
   ]
  },
  {
   "cell_type": "code",
   "execution_count": 52,
   "id": "b86fa5c8",
   "metadata": {},
   "outputs": [
    {
     "data": {
      "text/html": [
       "<div>\n",
       "<style scoped>\n",
       "    .dataframe tbody tr th:only-of-type {\n",
       "        vertical-align: middle;\n",
       "    }\n",
       "\n",
       "    .dataframe tbody tr th {\n",
       "        vertical-align: top;\n",
       "    }\n",
       "\n",
       "    .dataframe thead th {\n",
       "        text-align: right;\n",
       "    }\n",
       "</style>\n",
       "<table border=\"1\" class=\"dataframe\">\n",
       "  <thead>\n",
       "    <tr style=\"text-align: right;\">\n",
       "      <th></th>\n",
       "      <th>feature</th>\n",
       "      <th>importance</th>\n",
       "    </tr>\n",
       "  </thead>\n",
       "  <tbody>\n",
       "    <tr>\n",
       "      <th>3</th>\n",
       "      <td>age_group_4</td>\n",
       "      <td>3.582727e-01</td>\n",
       "    </tr>\n",
       "    <tr>\n",
       "      <th>21</th>\n",
       "      <td>hosp_yn_1</td>\n",
       "      <td>2.518092e-01</td>\n",
       "    </tr>\n",
       "    <tr>\n",
       "      <th>1</th>\n",
       "      <td>age_group_2</td>\n",
       "      <td>1.067476e-01</td>\n",
       "    </tr>\n",
       "    <tr>\n",
       "      <th>20</th>\n",
       "      <td>hosp_yn_0</td>\n",
       "      <td>6.656099e-02</td>\n",
       "    </tr>\n",
       "    <tr>\n",
       "      <th>0</th>\n",
       "      <td>age_group_1</td>\n",
       "      <td>3.007029e-02</td>\n",
       "    </tr>\n",
       "    <tr>\n",
       "      <th>22</th>\n",
       "      <td>hosp_yn_999</td>\n",
       "      <td>2.725904e-02</td>\n",
       "    </tr>\n",
       "    <tr>\n",
       "      <th>2</th>\n",
       "      <td>age_group_3</td>\n",
       "      <td>2.446647e-02</td>\n",
       "    </tr>\n",
       "    <tr>\n",
       "      <th>17</th>\n",
       "      <td>ethnicity_999</td>\n",
       "      <td>2.292460e-02</td>\n",
       "    </tr>\n",
       "    <tr>\n",
       "      <th>24</th>\n",
       "      <td>icu_yn_1</td>\n",
       "      <td>2.232054e-02</td>\n",
       "    </tr>\n",
       "    <tr>\n",
       "      <th>15</th>\n",
       "      <td>ethnicity_1</td>\n",
       "      <td>1.073008e-02</td>\n",
       "    </tr>\n",
       "    <tr>\n",
       "      <th>14</th>\n",
       "      <td>race_999</td>\n",
       "      <td>9.913060e-03</td>\n",
       "    </tr>\n",
       "    <tr>\n",
       "      <th>10</th>\n",
       "      <td>race_3</td>\n",
       "      <td>8.864638e-03</td>\n",
       "    </tr>\n",
       "    <tr>\n",
       "      <th>25</th>\n",
       "      <td>icu_yn_999</td>\n",
       "      <td>7.449884e-03</td>\n",
       "    </tr>\n",
       "    <tr>\n",
       "      <th>16</th>\n",
       "      <td>ethnicity_2</td>\n",
       "      <td>7.060228e-03</td>\n",
       "    </tr>\n",
       "    <tr>\n",
       "      <th>27</th>\n",
       "      <td>underlying_conditions_yn_1</td>\n",
       "      <td>6.339266e-03</td>\n",
       "    </tr>\n",
       "    <tr>\n",
       "      <th>23</th>\n",
       "      <td>icu_yn_0</td>\n",
       "      <td>6.278070e-03</td>\n",
       "    </tr>\n",
       "    <tr>\n",
       "      <th>6</th>\n",
       "      <td>sex_Male</td>\n",
       "      <td>5.780263e-03</td>\n",
       "    </tr>\n",
       "    <tr>\n",
       "      <th>28</th>\n",
       "      <td>underlying_conditions_yn_999</td>\n",
       "      <td>5.228767e-03</td>\n",
       "    </tr>\n",
       "    <tr>\n",
       "      <th>5</th>\n",
       "      <td>sex_Female</td>\n",
       "      <td>5.166040e-03</td>\n",
       "    </tr>\n",
       "    <tr>\n",
       "      <th>19</th>\n",
       "      <td>current_status_Probable Case</td>\n",
       "      <td>3.600905e-03</td>\n",
       "    </tr>\n",
       "    <tr>\n",
       "      <th>18</th>\n",
       "      <td>current_status_Laboratory-confirmed case</td>\n",
       "      <td>3.416292e-03</td>\n",
       "    </tr>\n",
       "    <tr>\n",
       "      <th>11</th>\n",
       "      <td>race_4</td>\n",
       "      <td>2.906497e-03</td>\n",
       "    </tr>\n",
       "    <tr>\n",
       "      <th>7</th>\n",
       "      <td>sex_Missing</td>\n",
       "      <td>2.024604e-03</td>\n",
       "    </tr>\n",
       "    <tr>\n",
       "      <th>9</th>\n",
       "      <td>race_2</td>\n",
       "      <td>1.926155e-03</td>\n",
       "    </tr>\n",
       "    <tr>\n",
       "      <th>8</th>\n",
       "      <td>race_1</td>\n",
       "      <td>1.219192e-03</td>\n",
       "    </tr>\n",
       "    <tr>\n",
       "      <th>4</th>\n",
       "      <td>age_group_999</td>\n",
       "      <td>8.324797e-04</td>\n",
       "    </tr>\n",
       "    <tr>\n",
       "      <th>12</th>\n",
       "      <td>race_5</td>\n",
       "      <td>7.293390e-04</td>\n",
       "    </tr>\n",
       "    <tr>\n",
       "      <th>26</th>\n",
       "      <td>underlying_conditions_yn_0</td>\n",
       "      <td>1.024013e-04</td>\n",
       "    </tr>\n",
       "    <tr>\n",
       "      <th>13</th>\n",
       "      <td>race_6</td>\n",
       "      <td>5.207192e-07</td>\n",
       "    </tr>\n",
       "  </tbody>\n",
       "</table>\n",
       "</div>"
      ],
      "text/plain": [
       "                                     feature    importance\n",
       "3                                age_group_4  3.582727e-01\n",
       "21                                 hosp_yn_1  2.518092e-01\n",
       "1                                age_group_2  1.067476e-01\n",
       "20                                 hosp_yn_0  6.656099e-02\n",
       "0                                age_group_1  3.007029e-02\n",
       "22                               hosp_yn_999  2.725904e-02\n",
       "2                                age_group_3  2.446647e-02\n",
       "17                             ethnicity_999  2.292460e-02\n",
       "24                                  icu_yn_1  2.232054e-02\n",
       "15                               ethnicity_1  1.073008e-02\n",
       "14                                  race_999  9.913060e-03\n",
       "10                                    race_3  8.864638e-03\n",
       "25                                icu_yn_999  7.449884e-03\n",
       "16                               ethnicity_2  7.060228e-03\n",
       "27                underlying_conditions_yn_1  6.339266e-03\n",
       "23                                  icu_yn_0  6.278070e-03\n",
       "6                                   sex_Male  5.780263e-03\n",
       "28              underlying_conditions_yn_999  5.228767e-03\n",
       "5                                 sex_Female  5.166040e-03\n",
       "19              current_status_Probable Case  3.600905e-03\n",
       "18  current_status_Laboratory-confirmed case  3.416292e-03\n",
       "11                                    race_4  2.906497e-03\n",
       "7                                sex_Missing  2.024604e-03\n",
       "9                                     race_2  1.926155e-03\n",
       "8                                     race_1  1.219192e-03\n",
       "4                              age_group_999  8.324797e-04\n",
       "12                                    race_5  7.293390e-04\n",
       "26                underlying_conditions_yn_0  1.024013e-04\n",
       "13                                    race_6  5.207192e-07"
      ]
     },
     "execution_count": 52,
     "metadata": {},
     "output_type": "execute_result"
    }
   ],
   "source": [
    "importance = pd.DataFrame({'feature': X_train.columns, 'importance':rfc.feature_importances_})\n",
    "importance.sort_values('importance', ascending=False)"
   ]
  },
  {
   "attachments": {},
   "cell_type": "markdown",
   "id": "ca9f7fce",
   "metadata": {},
   "source": [
    "A graph is plot to visualise the importance ranking:"
   ]
  },
  {
   "cell_type": "code",
   "execution_count": 53,
   "id": "c83dbea6",
   "metadata": {},
   "outputs": [
    {
     "data": {
      "text/plain": [
       "Text(0.5, 0, 'Random Forest Feature Importance')"
      ]
     },
     "execution_count": 53,
     "metadata": {},
     "output_type": "execute_result"
    },
    {
     "data": {
      "image/png": "[encoded data removed]",
      "text/plain": [
       "<Figure size 640x480 with 1 Axes>"
      ]
     },
     "metadata": {},
     "output_type": "display_data"
    }
   ],
   "source": [
    "sorted_idx = rfc.feature_importances_.argsort()\n",
    "plt.barh(X_train.columns[sorted_idx], rfc.feature_importances_[sorted_idx])\n",
    "plt.xlabel(\"Random Forest Feature Importance\")"
   ]
  },
  {
   "attachments": {},
   "cell_type": "markdown",
   "id": "2d3f9a6c",
   "metadata": {},
   "source": [
    "We can see that the two features age_group, hosp_yn has high ranking in feature importance."
   ]
  },
  {
   "attachments": {},
   "cell_type": "markdown",
   "id": "ba02ad60",
   "metadata": {},
   "source": [
    "### 4.3 Evaluation using same Train Set \n",
    "we will use the first 100 Training Examples"
   ]
  },
  {
   "attachments": {},
   "cell_type": "markdown",
   "id": "a1f49f71",
   "metadata": {},
   "source": [
    "#### 4.3.1 Printing the Predicted Target Feature Value and Predicted Class"
   ]
  },
  {
   "cell_type": "code",
   "execution_count": 54,
   "id": "21570625",
   "metadata": {},
   "outputs": [
    {
     "data": {
      "text/html": [
       "<div>\n",
       "<style scoped>\n",
       "    .dataframe tbody tr th:only-of-type {\n",
       "        vertical-align: middle;\n",
       "    }\n",
       "\n",
       "    .dataframe tbody tr th {\n",
       "        vertical-align: top;\n",
       "    }\n",
       "\n",
       "    .dataframe thead th {\n",
       "        text-align: right;\n",
       "    }\n",
       "</style>\n",
       "<table border=\"1\" class=\"dataframe\">\n",
       "  <thead>\n",
       "    <tr style=\"text-align: right;\">\n",
       "      <th></th>\n",
       "      <th>ActualClass</th>\n",
       "      <th>PredictedClass</th>\n",
       "    </tr>\n",
       "  </thead>\n",
       "  <tbody>\n",
       "    <tr>\n",
       "      <th>0</th>\n",
       "      <td>0</td>\n",
       "      <td>0</td>\n",
       "    </tr>\n",
       "    <tr>\n",
       "      <th>1</th>\n",
       "      <td>1</td>\n",
       "      <td>1</td>\n",
       "    </tr>\n",
       "    <tr>\n",
       "      <th>2</th>\n",
       "      <td>0</td>\n",
       "      <td>0</td>\n",
       "    </tr>\n",
       "    <tr>\n",
       "      <th>3</th>\n",
       "      <td>0</td>\n",
       "      <td>0</td>\n",
       "    </tr>\n",
       "    <tr>\n",
       "      <th>4</th>\n",
       "      <td>0</td>\n",
       "      <td>0</td>\n",
       "    </tr>\n",
       "    <tr>\n",
       "      <th>...</th>\n",
       "      <td>...</td>\n",
       "      <td>...</td>\n",
       "    </tr>\n",
       "    <tr>\n",
       "      <th>95</th>\n",
       "      <td>0</td>\n",
       "      <td>0</td>\n",
       "    </tr>\n",
       "    <tr>\n",
       "      <th>96</th>\n",
       "      <td>0</td>\n",
       "      <td>0</td>\n",
       "    </tr>\n",
       "    <tr>\n",
       "      <th>97</th>\n",
       "      <td>0</td>\n",
       "      <td>0</td>\n",
       "    </tr>\n",
       "    <tr>\n",
       "      <th>98</th>\n",
       "      <td>0</td>\n",
       "      <td>0</td>\n",
       "    </tr>\n",
       "    <tr>\n",
       "      <th>99</th>\n",
       "      <td>0</td>\n",
       "      <td>0</td>\n",
       "    </tr>\n",
       "  </tbody>\n",
       "</table>\n",
       "<p>100 rows × 2 columns</p>\n",
       "</div>"
      ],
      "text/plain": [
       "    ActualClass  PredictedClass\n",
       "0             0               0\n",
       "1             1               1\n",
       "2             0               0\n",
       "3             0               0\n",
       "4             0               0\n",
       "..          ...             ...\n",
       "95            0               0\n",
       "96            0               0\n",
       "97            0               0\n",
       "98            0               0\n",
       "99            0               0\n",
       "\n",
       "[100 rows x 2 columns]"
      ]
     },
     "execution_count": 54,
     "metadata": {},
     "output_type": "execute_result"
    }
   ],
   "source": [
    "# Predicted class labels for all examples, \n",
    "# using the trained model, same sample used for training and test\n",
    "\n",
    "rfc_predictions_train = rfc.predict(X_train)\n",
    "df_true_vs_rfc_predicted = pd.DataFrame({'ActualClass': y_train, 'PredictedClass': rfc_predictions_train})\n",
    "df_true_vs_rfc_predicted.head(100)"
   ]
  },
  {
   "attachments": {},
   "cell_type": "markdown",
   "id": "d9bcd8be",
   "metadata": {},
   "source": [
    "#### 4.3.2 Evaluation based on Training Set"
   ]
  },
  {
   "cell_type": "code",
   "execution_count": 55,
   "id": "9ccccce3",
   "metadata": {},
   "outputs": [
    {
     "name": "stdout",
     "output_type": "stream",
     "text": [
      "==================== Train Data =======================\n",
      "Accuracy:  0.9155487565701734\n",
      "Confusion matrix: \n",
      " [[18535  1021]\n",
      " [ 1132  4806]]\n",
      "Classification report:\n",
      "                precision    recall  f1-score   support\n",
      "\n",
      "           0       0.94      0.95      0.95     19556\n",
      "           1       0.82      0.81      0.82      5938\n",
      "\n",
      "    accuracy                           0.92     25494\n",
      "   macro avg       0.88      0.88      0.88     25494\n",
      "weighted avg       0.92      0.92      0.92     25494\n",
      "\n"
     ]
    }
   ],
   "source": [
    "print(\"==================== Train Data =======================\")\n",
    "print(\"Accuracy: \", metrics.accuracy_score(y_train, rfc_predictions_train))\n",
    "print(\"Confusion matrix: \\n\", metrics.confusion_matrix(y_train, rfc_predictions_train))\n",
    "print(\"Classification report:\\n \", metrics.classification_report(y_train, rfc_predictions_train))"
   ]
  },
  {
   "attachments": {},
   "cell_type": "markdown",
   "id": "e4ec8ee8",
   "metadata": {},
   "source": [
    "<b>Observation and Discussion: </b> <br><br>\n",
    "There is a high accuracy as the model has learnt the result on the same test set. There might be possibility of overfitting, which we will examine below."
   ]
  },
  {
   "attachments": {},
   "cell_type": "markdown",
   "id": "d63eeef5",
   "metadata": {},
   "source": [
    "### 4.4 Evaluation using Test Set\n",
    "we will evaluate the model using classification evaluation measures on the hold-out (30% examples) test set, and them compare the results from the training data. In addition the results will also be compared from a cross-validated model, which is a new model trained and evaluated using cross-validation on the full dataset."
   ]
  },
  {
   "attachments": {},
   "cell_type": "markdown",
   "id": "aa225092",
   "metadata": {},
   "source": [
    "#### 4.4.1 Printing the Predicted Target Feature Value and Predicted Class on test dataset:"
   ]
  },
  {
   "cell_type": "code",
   "execution_count": 56,
   "id": "84e62e7e",
   "metadata": {},
   "outputs": [
    {
     "data": {
      "text/html": [
       "<div>\n",
       "<style scoped>\n",
       "    .dataframe tbody tr th:only-of-type {\n",
       "        vertical-align: middle;\n",
       "    }\n",
       "\n",
       "    .dataframe tbody tr th {\n",
       "        vertical-align: top;\n",
       "    }\n",
       "\n",
       "    .dataframe thead th {\n",
       "        text-align: right;\n",
       "    }\n",
       "</style>\n",
       "<table border=\"1\" class=\"dataframe\">\n",
       "  <thead>\n",
       "    <tr style=\"text-align: right;\">\n",
       "      <th></th>\n",
       "      <th>ActualClass</th>\n",
       "      <th>PredictedClass</th>\n",
       "    </tr>\n",
       "  </thead>\n",
       "  <tbody>\n",
       "    <tr>\n",
       "      <th>0</th>\n",
       "      <td>0</td>\n",
       "      <td>0</td>\n",
       "    </tr>\n",
       "    <tr>\n",
       "      <th>1</th>\n",
       "      <td>0</td>\n",
       "      <td>0</td>\n",
       "    </tr>\n",
       "    <tr>\n",
       "      <th>2</th>\n",
       "      <td>0</td>\n",
       "      <td>0</td>\n",
       "    </tr>\n",
       "    <tr>\n",
       "      <th>3</th>\n",
       "      <td>1</td>\n",
       "      <td>0</td>\n",
       "    </tr>\n",
       "    <tr>\n",
       "      <th>4</th>\n",
       "      <td>0</td>\n",
       "      <td>0</td>\n",
       "    </tr>\n",
       "    <tr>\n",
       "      <th>5</th>\n",
       "      <td>0</td>\n",
       "      <td>0</td>\n",
       "    </tr>\n",
       "    <tr>\n",
       "      <th>6</th>\n",
       "      <td>0</td>\n",
       "      <td>0</td>\n",
       "    </tr>\n",
       "    <tr>\n",
       "      <th>7</th>\n",
       "      <td>0</td>\n",
       "      <td>0</td>\n",
       "    </tr>\n",
       "    <tr>\n",
       "      <th>8</th>\n",
       "      <td>0</td>\n",
       "      <td>1</td>\n",
       "    </tr>\n",
       "    <tr>\n",
       "      <th>9</th>\n",
       "      <td>0</td>\n",
       "      <td>1</td>\n",
       "    </tr>\n",
       "    <tr>\n",
       "      <th>10</th>\n",
       "      <td>0</td>\n",
       "      <td>0</td>\n",
       "    </tr>\n",
       "    <tr>\n",
       "      <th>11</th>\n",
       "      <td>0</td>\n",
       "      <td>0</td>\n",
       "    </tr>\n",
       "    <tr>\n",
       "      <th>12</th>\n",
       "      <td>0</td>\n",
       "      <td>0</td>\n",
       "    </tr>\n",
       "    <tr>\n",
       "      <th>13</th>\n",
       "      <td>1</td>\n",
       "      <td>1</td>\n",
       "    </tr>\n",
       "    <tr>\n",
       "      <th>14</th>\n",
       "      <td>0</td>\n",
       "      <td>0</td>\n",
       "    </tr>\n",
       "    <tr>\n",
       "      <th>15</th>\n",
       "      <td>0</td>\n",
       "      <td>0</td>\n",
       "    </tr>\n",
       "    <tr>\n",
       "      <th>16</th>\n",
       "      <td>0</td>\n",
       "      <td>0</td>\n",
       "    </tr>\n",
       "    <tr>\n",
       "      <th>17</th>\n",
       "      <td>0</td>\n",
       "      <td>0</td>\n",
       "    </tr>\n",
       "    <tr>\n",
       "      <th>18</th>\n",
       "      <td>0</td>\n",
       "      <td>0</td>\n",
       "    </tr>\n",
       "    <tr>\n",
       "      <th>19</th>\n",
       "      <td>0</td>\n",
       "      <td>0</td>\n",
       "    </tr>\n",
       "  </tbody>\n",
       "</table>\n",
       "</div>"
      ],
      "text/plain": [
       "    ActualClass  PredictedClass\n",
       "0             0               0\n",
       "1             0               0\n",
       "2             0               0\n",
       "3             1               0\n",
       "4             0               0\n",
       "5             0               0\n",
       "6             0               0\n",
       "7             0               0\n",
       "8             0               1\n",
       "9             0               1\n",
       "10            0               0\n",
       "11            0               0\n",
       "12            0               0\n",
       "13            1               1\n",
       "14            0               0\n",
       "15            0               0\n",
       "16            0               0\n",
       "17            0               0\n",
       "18            0               0\n",
       "19            0               0"
      ]
     },
     "execution_count": 56,
     "metadata": {},
     "output_type": "execute_result"
    }
   ],
   "source": [
    "rfc_predictions_test = rfc.predict(X_test)\n",
    "df_true_vs_rfc_predicted_test = pd.DataFrame({'ActualClass': y_test, 'PredictedClass': rfc_predictions_test})\n",
    "df_true_vs_rfc_predicted_test.head(20)"
   ]
  },
  {
   "attachments": {},
   "cell_type": "markdown",
   "id": "62d7e54b",
   "metadata": {},
   "source": [
    "#### 4.4.2 Evaluation metrics based on test data"
   ]
  },
  {
   "cell_type": "code",
   "execution_count": 57,
   "id": "1164d87c",
   "metadata": {},
   "outputs": [
    {
     "name": "stdout",
     "output_type": "stream",
     "text": [
      "********************** Test Data **********************\n",
      "Accuracy:  0.9126933284524572\n",
      "Confusion matrix: \n",
      " [[7910  430]\n",
      " [ 524 2063]]\n",
      "Classification report:\n",
      "                precision    recall  f1-score   support\n",
      "\n",
      "           0       0.94      0.95      0.94      8340\n",
      "           1       0.83      0.80      0.81      2587\n",
      "\n",
      "    accuracy                           0.91     10927\n",
      "   macro avg       0.88      0.87      0.88     10927\n",
      "weighted avg       0.91      0.91      0.91     10927\n",
      "\n",
      "==================== Train Data =======================\n",
      "Accuracy:  0.9155487565701734\n",
      "Confusion matrix: \n",
      " [[18535  1021]\n",
      " [ 1132  4806]]\n",
      "Classification report:\n",
      "                precision    recall  f1-score   support\n",
      "\n",
      "           0       0.94      0.95      0.95     19556\n",
      "           1       0.82      0.81      0.82      5938\n",
      "\n",
      "    accuracy                           0.92     25494\n",
      "   macro avg       0.88      0.88      0.88     25494\n",
      "weighted avg       0.92      0.92      0.92     25494\n",
      "\n"
     ]
    }
   ],
   "source": [
    "print(\"********************** Test Data **********************\")\n",
    "print(\"Accuracy: \", metrics.accuracy_score(y_test, rfc_predictions_test))\n",
    "print(\"Confusion matrix: \\n\", metrics.confusion_matrix(y_test, rfc_predictions_test))\n",
    "print(\"Classification report:\\n \", metrics.classification_report(y_test, rfc_predictions_test))\n",
    "\n",
    "\n",
    "print(\"==================== Train Data =======================\")\n",
    "print(\"Accuracy: \", metrics.accuracy_score(y_train, rfc_predictions_train))\n",
    "print(\"Confusion matrix: \\n\", metrics.confusion_matrix(y_train, rfc_predictions_train))\n",
    "print(\"Classification report:\\n \", metrics.classification_report(y_train, rfc_predictions_train))"
   ]
  },
  {
   "cell_type": "code",
   "execution_count": 58,
   "id": "83a12048",
   "metadata": {},
   "outputs": [
    {
     "data": {
      "text/plain": [
       "<sklearn.metrics._plot.confusion_matrix.ConfusionMatrixDisplay at 0x7fc15a2598e0>"
      ]
     },
     "execution_count": 58,
     "metadata": {},
     "output_type": "execute_result"
    },
    {
     "data": {
      "image/png": "[encoded data removed]",
      "text/plain": [
       "<Figure size 640x480 with 2 Axes>"
      ]
     },
     "metadata": {},
     "output_type": "display_data"
    }
   ],
   "source": [
    "#A visualisation of the confusion matrix for the test data\n",
    "ConfusionMatrixDisplay(confusion_matrix(y_test, rfc_predictions_test)).plot()"
   ]
  },
  {
   "cell_type": "code",
   "execution_count": 59,
   "id": "20f76f16",
   "metadata": {},
   "outputs": [
    {
     "data": {
      "text/plain": [
       "<sklearn.metrics._plot.confusion_matrix.ConfusionMatrixDisplay at 0x7fc17ab8d160>"
      ]
     },
     "execution_count": 59,
     "metadata": {},
     "output_type": "execute_result"
    },
    {
     "data": {
      "image/png": "[encoded data removed]",
      "text/plain": [
       "<Figure size 640x480 with 2 Axes>"
      ]
     },
     "metadata": {},
     "output_type": "display_data"
    }
   ],
   "source": [
    "#A visualisation of the confusion matrix for the train data\n",
    "ConfusionMatrixDisplay(confusion_matrix(y_train, rfc_predictions_train)).plot()\n"
   ]
  },
  {
   "attachments": {},
   "cell_type": "markdown",
   "id": "c9113207",
   "metadata": {},
   "source": [
    "<b>Observation and Discussion: </b> <br><br>\n",
    "\n",
    "Interpretation of test result and comparison with training results: (1 = Death = Positive, 0 = Non-death = Negative)\n",
    "- <b>Confusion matrix</b> is shown in the format where <br><br>[0][0] = True Negative, is where predicted non-death is actual non-death\n",
    "<br>[1][1] = True Positive, is where the predicted death is actual death; <br>\n",
    "[0][1] = False Positive, is where predicted death is actual non-death; <br>\n",
    "[1][0] = False Negative, is where predicted non-death is actually death.<br>From the confusion matrix above, both True Positive and True Negative value are higher than false positive and false negative, meaning the the model is giving high percentatge of accurate prediction.<br><br>\n",
    "- <b>Precision</b> means the percentage of correct positive predictions relative to total positive predictions. In this case, for both the train and test data, out of all the cases that the model predicted would have death, 83% (test)/ 82% (train) actually did.\n",
    "- <b>Recall</b> In this case, for both the train and test data, out of all the cases that actually have death, 80% (test)/ 81% (train) actually did. \n",
    "- <b>F1 score</b> is a weighted harmonic mean of precision and recall. The closer to 1, the better the model. Both for test and train dataset validation, the f1 score is about 0.8 which is quite close to 1, meaning that this is a relatively good model.\n",
    "- <b>Support</b> simply shows that how many cases belonged to each outcome (death/ no-death) in the dataaset.\n",
    "<br>\n",
    "<br>\n",
    "- The accuracy for the 30% test data (out-of-sample data) is pretty much similar to the model result for the train data (70% of the data).\n",
    "- The scores seem reasonable and are in line with the other model test results, which means the model has high accuracy, this could mean that the model is not overfitting as the accuracy are consistent.\n",
    "\n",
    "<br><br> reference from https://www.statology.org/sklearn-classification-report/, https://www.jcchouinard.com/confusion-matrix-in-scikit-learn/"
   ]
  },
  {
   "attachments": {},
   "cell_type": "markdown",
   "id": "54fb0d66",
   "metadata": {},
   "source": [
    "#### 4.4.3 Evaluation with Cross Validation\n",
    "Performing cross valudation and store the result for later evaluation uses.\n"
   ]
  },
  {
   "cell_type": "code",
   "execution_count": 60,
   "id": "8d6d634f",
   "metadata": {},
   "outputs": [],
   "source": [
    "#this cross validation function is reference from example answer for COMP47350 Assignment2\n",
    "def cross_val_RandomForest_DF(X,y, depth=None, estimators=100):\n",
    "    \"\"\"Function to perform cross validation and store results \n",
    "    in dataframe. Cross validation looks at accuracy, precision, \n",
    "    recall, f1. Returns a dataframe with results\"\"\"\n",
    "\n",
    "    # store results in dict\n",
    "    RandomForestResults = {}\n",
    "    # metrics to test against\n",
    "    test_metrics = ['accuracy','precision','recall', 'f1']\n",
    "\n",
    "    for metric in test_metrics:\n",
    "        # generate test results\n",
    "        result = cross_val_score(RandomForestClassifier(n_estimators=estimators, max_features='auto', oob_score=True, random_state=1, max_depth=depth), X, y, scoring=metric, cv=10)\n",
    "        # store result in dict\n",
    "        RandomForestResults[metric] = result.mean()\n",
    "    \n",
    "    # create dataframe with results\n",
    "    RandomForestDF = pd.DataFrame.from_dict(RandomForestResults, orient='index', columns=['Random_Forests'])\n",
    "\n",
    "    return RandomForestDF"
   ]
  },
  {
   "attachments": {},
   "cell_type": "markdown",
   "id": "7147e4f3",
   "metadata": {},
   "source": [
    "Cross Validate the Random Forest Model"
   ]
  },
  {
   "cell_type": "code",
   "execution_count": 61,
   "id": "ad88fc0c",
   "metadata": {},
   "outputs": [
    {
     "name": "stdout",
     "output_type": "stream",
     "text": [
      "Mean results from 10 fold cross validation are:\n"
     ]
    },
    {
     "data": {
      "text/html": [
       "<div>\n",
       "<style scoped>\n",
       "    .dataframe tbody tr th:only-of-type {\n",
       "        vertical-align: middle;\n",
       "    }\n",
       "\n",
       "    .dataframe tbody tr th {\n",
       "        vertical-align: top;\n",
       "    }\n",
       "\n",
       "    .dataframe thead th {\n",
       "        text-align: right;\n",
       "    }\n",
       "</style>\n",
       "<table border=\"1\" class=\"dataframe\">\n",
       "  <thead>\n",
       "    <tr style=\"text-align: right;\">\n",
       "      <th></th>\n",
       "      <th>Random_Forests</th>\n",
       "    </tr>\n",
       "  </thead>\n",
       "  <tbody>\n",
       "    <tr>\n",
       "      <th>accuracy</th>\n",
       "      <td>0.910903</td>\n",
       "    </tr>\n",
       "    <tr>\n",
       "      <th>precision</th>\n",
       "      <td>0.819009</td>\n",
       "    </tr>\n",
       "    <tr>\n",
       "      <th>recall</th>\n",
       "      <td>0.795188</td>\n",
       "    </tr>\n",
       "    <tr>\n",
       "      <th>f1</th>\n",
       "      <td>0.806840</td>\n",
       "    </tr>\n",
       "  </tbody>\n",
       "</table>\n",
       "</div>"
      ],
      "text/plain": [
       "           Random_Forests\n",
       "accuracy         0.910903\n",
       "precision        0.819009\n",
       "recall           0.795188\n",
       "f1               0.806840"
      ]
     },
     "execution_count": 61,
     "metadata": {},
     "output_type": "execute_result"
    }
   ],
   "source": [
    "RandomForestDF = cross_val_RandomForest_DF(X,y)\n",
    "print(f\"Mean results from 10 fold cross validation are:\")\n",
    "RandomForestDF"
   ]
  },
  {
   "attachments": {},
   "cell_type": "markdown",
   "id": "be620893",
   "metadata": {},
   "source": [
    "<b>Observation and Discussion: </b> <br><br>\n",
    "\n",
    "- The accuracy obtained from the cross validation result is the same as the result from evaluation with train and test dataset, with approx 91% accuracy.\n",
    "- <b>Precision</b> is pretty similar to the model validating with train/test data, with approximately 80%. \n",
    "- <b>Recall</b> is pretty similar to the model validating with train/test data, with approximately 80%. \n",
    "- For <b>F1 score</b> the closer to 1, the better the model. This is also consistent with the train/test data validation, meaning that this is a relatively good model.\n",
    "- In summary, three different validation provides consistent evaluation report of the mode, proving that the model is not overfitting/ underfitting."
   ]
  },
  {
   "attachments": {},
   "cell_type": "markdown",
   "id": "e3f1f694",
   "metadata": {},
   "source": [
    "#### 4.4.4 Evaluation with OOB Score\n",
    "A OOB Score (Out-of-Bag Score) is computed as the number of correctly predicted rows from the OOB sample, which is data that are not used in the training model, and would provide an unbiased estimate of the model's performance. (source: https://www.geeksforgeeks.org/oob-errors-for-random-forests-in-scikit-learn/). It is used as an additional measure and should be line with the cross validation results\n"
   ]
  },
  {
   "cell_type": "code",
   "execution_count": 62,
   "id": "886aea73",
   "metadata": {},
   "outputs": [
    {
     "name": "stdout",
     "output_type": "stream",
     "text": [
      "OOB error: 0.9099788185455401\n"
     ]
    }
   ],
   "source": [
    "# compute the out-of-bag classification accuracy\n",
    "print(\"OOB error:\", rfc.oob_score_)"
   ]
  },
  {
   "attachments": {},
   "cell_type": "markdown",
   "id": "2608d488",
   "metadata": {},
   "source": [
    "<b>Observation and Discussion: </b> <br><br>\n",
    "\n",
    "The OOB score above shows 0.9, giving an accuracy very similar but lower to the previous validation. This shows that the accuracy of our previous model is consistent and high. This extra score supports the consistency on evaluation report of the model, proving that the model is not overfitting/ underfitting."
   ]
  },
  {
   "attachments": {},
   "cell_type": "markdown",
   "id": "328b0130",
   "metadata": {},
   "source": [
    "## Part 5: Improving Predictive Models"
   ]
  },
  {
   "attachments": {},
   "cell_type": "markdown",
   "id": "4165c8be",
   "metadata": {},
   "source": [
    "### 5.1 Better Performing Model for Predicting the Target Feature\n",
    "Recall the accuracy for the model below, all of them have a high accuracy of over 90% and their difference is +/- 1%:"
   ]
  },
  {
   "cell_type": "code",
   "execution_count": 63,
   "id": "9ed4c09e",
   "metadata": {},
   "outputs": [
    {
     "data": {
      "text/html": [
       "<div>\n",
       "<style scoped>\n",
       "    .dataframe tbody tr th:only-of-type {\n",
       "        vertical-align: middle;\n",
       "    }\n",
       "\n",
       "    .dataframe tbody tr th {\n",
       "        vertical-align: top;\n",
       "    }\n",
       "\n",
       "    .dataframe thead th {\n",
       "        text-align: right;\n",
       "    }\n",
       "</style>\n",
       "<table border=\"1\" class=\"dataframe\">\n",
       "  <thead>\n",
       "    <tr style=\"text-align: right;\">\n",
       "      <th></th>\n",
       "      <th>Linear_Regression</th>\n",
       "      <th>Logistic_Regression</th>\n",
       "      <th>Random_Forests</th>\n",
       "    </tr>\n",
       "  </thead>\n",
       "  <tbody>\n",
       "    <tr>\n",
       "      <th>accuracy</th>\n",
       "      <td>0.906964</td>\n",
       "      <td>0.909036</td>\n",
       "      <td>0.910903</td>\n",
       "    </tr>\n",
       "    <tr>\n",
       "      <th>precision</th>\n",
       "      <td>0.808917</td>\n",
       "      <td>0.824854</td>\n",
       "      <td>0.819009</td>\n",
       "    </tr>\n",
       "    <tr>\n",
       "      <th>recall</th>\n",
       "      <td>0.787534</td>\n",
       "      <td>0.776418</td>\n",
       "      <td>0.795188</td>\n",
       "    </tr>\n",
       "    <tr>\n",
       "      <th>f1</th>\n",
       "      <td>0.797883</td>\n",
       "      <td>0.799792</td>\n",
       "      <td>0.806840</td>\n",
       "    </tr>\n",
       "  </tbody>\n",
       "</table>\n",
       "</div>"
      ],
      "text/plain": [
       "           Linear_Regression  Logistic_Regression  Random_Forests\n",
       "accuracy            0.906964             0.909036        0.910903\n",
       "precision           0.808917             0.824854        0.819009\n",
       "recall              0.787534             0.776418        0.795188\n",
       "f1                  0.797883             0.799792        0.806840"
      ]
     },
     "execution_count": 63,
     "metadata": {},
     "output_type": "execute_result"
    }
   ],
   "source": [
    "ResultsCompare = pd.concat([linRegDF, logRegDF, RandomForestDF], axis=1)\n",
    "ResultsCompare"
   ]
  },
  {
   "attachments": {},
   "cell_type": "markdown",
   "id": "4092a34f",
   "metadata": {},
   "source": [
    "### 5.2 Is the model more accurate than a simple model that always predicts the majority class\n",
    "To explore this, we will compare our results above to a simple model which predicts for the majority class. First we need to find the majority class from the test dtaset."
   ]
  },
  {
   "cell_type": "code",
   "execution_count": 64,
   "id": "8775c787",
   "metadata": {},
   "outputs": [
    {
     "name": "stdout",
     "output_type": "stream",
     "text": [
      "From original dataset: \t\tCount 10927\n",
      "Total number of death:\t 2587\t23.68%\n",
      "Total number of non-death:\t 8340\t76.32%\n"
     ]
    }
   ],
   "source": [
    "death_count = y_test[y_test == 1].count()\n",
    "nondeath_count = y_test[y_test == 0].count()\n",
    "total = death_count + nondeath_count\n",
    "print(f'From original dataset: \\t\\tCount {total}')\n",
    "print(f'Total number of death:\\t {death_count}\\t{round(death_count/len(y_test)*100,2)}%')\n",
    "print(f'Total number of non-death:\\t {nondeath_count}\\t{round(nondeath_count/len(y_test)*100,2)}%')"
   ]
  },
  {
   "attachments": {},
   "cell_type": "markdown",
   "id": "49765c0a",
   "metadata": {},
   "source": [
    "The majority class is 0, which is non-death. We will now generate scores for predicting the majority class:"
   ]
  },
  {
   "cell_type": "code",
   "execution_count": 65,
   "id": "24dfe79e",
   "metadata": {},
   "outputs": [
    {
     "name": "stdout",
     "output_type": "stream",
     "text": [
      "Accuracy:  0.7632470028370092\n",
      "Confusion matrix: \n",
      " [[8340    0]\n",
      " [2587    0]]\n",
      "Classification report:\n",
      "                precision    recall  f1-score   support\n",
      "\n",
      "           0       0.76      1.00      0.87      8340\n",
      "           1       0.00      0.00      0.00      2587\n",
      "\n",
      "    accuracy                           0.76     10927\n",
      "   macro avg       0.38      0.50      0.43     10927\n",
      "weighted avg       0.58      0.76      0.66     10927\n",
      "\n"
     ]
    }
   ],
   "source": [
    "# generate array of 10927 zeros (length of test dataset)\n",
    "majority = np.zeros(10927)\n",
    "\n",
    "# create dataframe \n",
    "df_majorityClass = pd.DataFrame(majority, columns=['prediction'])\n",
    "\n",
    "# calculate scores of simple prediction vs actual on the majority class\n",
    "print(\"Accuracy: \", metrics.accuracy_score(y_test, df_majorityClass))\n",
    "print(\"Confusion matrix: \\n\", metrics.confusion_matrix(y_test, df_majorityClass))\n",
    "print(\"Classification report:\\n \", metrics.classification_report(y_test, df_majorityClass))"
   ]
  },
  {
   "attachments": {},
   "cell_type": "markdown",
   "id": "09d7151f",
   "metadata": {},
   "source": [
    "Interpretation of the Evaluation Metrics for Simple Prediction for the Majority Class:<br><br>\n",
    "- As the model only predicts non-death (majority-class), for predicting death this simple model fails completely.\n",
    "- For predicting non-death, there is a 0.76 accuracy of the model. The model performs but worse than the three model trained above (linear regression, logistic regression, random forest)."
   ]
  },
  {
   "attachments": {},
   "cell_type": "markdown",
   "id": "ac25c777",
   "metadata": {},
   "source": [
    "### 5.3 Compare Model Performance using Different Features Subsets \n",
    "\n",
    "#### 5.3.1 All features\n",
    "- We will now repeat the tests using all original features"
   ]
  },
  {
   "cell_type": "code",
   "execution_count": 66,
   "id": "75321a0a",
   "metadata": {},
   "outputs": [
    {
     "name": "stdout",
     "output_type": "stream",
     "text": [
      "number of features incl dummies:  1389\n"
     ]
    }
   ],
   "source": [
    "# dataframe with all features = original dataframe (preserved at Part1)\n",
    "\n",
    "#As there is a datetime object in the original dataframe (case_month), we need to change the datetime data into categorical datatype to fit into the models.\n",
    "df['case_month'] = df['case_month'].astype('category')\n",
    "\n",
    "#creating dummies\n",
    "df_all = pd.get_dummies(df)\n",
    "\n",
    "# set X,y\n",
    "y = df_all[\"death_yn\"]\n",
    "X = df_all.drop([\"death_yn\"], axis = 1)\n",
    "print(\"number of features incl dummies: \", len(X.columns))"
   ]
  },
  {
   "attachments": {},
   "cell_type": "markdown",
   "id": "629f84de",
   "metadata": {},
   "source": [
    "There is a exceptionally high feature numbers due to there are some columns in the original dataframe that is logically not suitable to be used to train the model (eg case month, state code etc.). For optimising the model running time, we will categorise case_month into their respective year (only 3 years worth of data, in my opinion it is too less to make a monthly analysis, thus we chose yearly as the unit)."
   ]
  },
  {
   "cell_type": "code",
   "execution_count": 67,
   "id": "3474c535",
   "metadata": {},
   "outputs": [],
   "source": [
    "# #change the datetime format into a string format\n",
    "df['case_year'] = df['case_month'].dt.strftime(\"%Y\")\n",
    "df['case_year'] = df['case_year'].astype('category')"
   ]
  },
  {
   "cell_type": "code",
   "execution_count": 68,
   "id": "cb4f8e7b",
   "metadata": {},
   "outputs": [],
   "source": [
    "df.drop('case_month',inplace=True, axis=1)"
   ]
  },
  {
   "cell_type": "code",
   "execution_count": 69,
   "id": "62c88ec3",
   "metadata": {},
   "outputs": [
    {
     "name": "stdout",
     "output_type": "stream",
     "text": [
      "number of features incl dummies:  1357\n"
     ]
    }
   ],
   "source": [
    "#creating dummies\n",
    "df_all = pd.get_dummies(df)\n",
    "\n",
    "# set X,y\n",
    "y = df_all[\"death_yn\"]\n",
    "X = df_all.drop([\"death_yn\"], axis = 1)\n",
    "print(\"number of features incl dummies: \", len(X.columns))"
   ]
  },
  {
   "attachments": {},
   "cell_type": "markdown",
   "id": "614716e6",
   "metadata": {},
   "source": [
    "We can see that the dummy features reduced to 1357 (from 1389). There is still a large number of columns present. We will explore the unique data entry for each category to see what can be done to reduce the number of frequency, if we want to use all feature. "
   ]
  },
  {
   "cell_type": "code",
   "execution_count": 70,
   "id": "a82c6057",
   "metadata": {},
   "outputs": [
    {
     "data": {
      "text/plain": [
       "county_fips_code            category\n",
       "age_group                   category\n",
       "sex                         category\n",
       "race                        category\n",
       "ethnicity                   category\n",
       "current_status              category\n",
       "hosp_yn                     category\n",
       "icu_yn                      category\n",
       "death_yn                       int64\n",
       "underlying_conditions_yn    category\n",
       "case_year                   category\n",
       "dtype: object"
      ]
     },
     "execution_count": 70,
     "metadata": {},
     "output_type": "execute_result"
    }
   ],
   "source": [
    "df.dtypes"
   ]
  },
  {
   "cell_type": "code",
   "execution_count": 71,
   "id": "971a8a81",
   "metadata": {},
   "outputs": [
    {
     "data": {
      "text/html": [
       "<div>\n",
       "<style scoped>\n",
       "    .dataframe tbody tr th:only-of-type {\n",
       "        vertical-align: middle;\n",
       "    }\n",
       "\n",
       "    .dataframe tbody tr th {\n",
       "        vertical-align: top;\n",
       "    }\n",
       "\n",
       "    .dataframe thead th {\n",
       "        text-align: right;\n",
       "    }\n",
       "</style>\n",
       "<table border=\"1\" class=\"dataframe\">\n",
       "  <thead>\n",
       "    <tr style=\"text-align: right;\">\n",
       "      <th></th>\n",
       "      <th>count</th>\n",
       "      <th>unique</th>\n",
       "      <th>top</th>\n",
       "      <th>freq</th>\n",
       "    </tr>\n",
       "  </thead>\n",
       "  <tbody>\n",
       "    <tr>\n",
       "      <th>county_fips_code</th>\n",
       "      <td>34214.0</td>\n",
       "      <td>1325.0</td>\n",
       "      <td>12086.0</td>\n",
       "      <td>648.0</td>\n",
       "    </tr>\n",
       "    <tr>\n",
       "      <th>age_group</th>\n",
       "      <td>36421</td>\n",
       "      <td>5</td>\n",
       "      <td>2</td>\n",
       "      <td>13978</td>\n",
       "    </tr>\n",
       "    <tr>\n",
       "      <th>sex</th>\n",
       "      <td>36421</td>\n",
       "      <td>3</td>\n",
       "      <td>Female</td>\n",
       "      <td>18398</td>\n",
       "    </tr>\n",
       "    <tr>\n",
       "      <th>race</th>\n",
       "      <td>36421</td>\n",
       "      <td>7</td>\n",
       "      <td>3</td>\n",
       "      <td>22524</td>\n",
       "    </tr>\n",
       "    <tr>\n",
       "      <th>ethnicity</th>\n",
       "      <td>36421</td>\n",
       "      <td>3</td>\n",
       "      <td>1</td>\n",
       "      <td>21980</td>\n",
       "    </tr>\n",
       "    <tr>\n",
       "      <th>current_status</th>\n",
       "      <td>36421</td>\n",
       "      <td>2</td>\n",
       "      <td>Laboratory-confirmed case</td>\n",
       "      <td>30745</td>\n",
       "    </tr>\n",
       "    <tr>\n",
       "      <th>hosp_yn</th>\n",
       "      <td>36421</td>\n",
       "      <td>3</td>\n",
       "      <td>0</td>\n",
       "      <td>18587</td>\n",
       "    </tr>\n",
       "    <tr>\n",
       "      <th>icu_yn</th>\n",
       "      <td>36421</td>\n",
       "      <td>3</td>\n",
       "      <td>999</td>\n",
       "      <td>33205</td>\n",
       "    </tr>\n",
       "    <tr>\n",
       "      <th>underlying_conditions_yn</th>\n",
       "      <td>36421</td>\n",
       "      <td>3</td>\n",
       "      <td>999</td>\n",
       "      <td>32962</td>\n",
       "    </tr>\n",
       "    <tr>\n",
       "      <th>case_year</th>\n",
       "      <td>36421</td>\n",
       "      <td>3</td>\n",
       "      <td>2021</td>\n",
       "      <td>14265</td>\n",
       "    </tr>\n",
       "  </tbody>\n",
       "</table>\n",
       "</div>"
      ],
      "text/plain": [
       "                            count  unique                        top   freq\n",
       "county_fips_code          34214.0  1325.0                    12086.0  648.0\n",
       "age_group                   36421       5                          2  13978\n",
       "sex                         36421       3                     Female  18398\n",
       "race                        36421       7                          3  22524\n",
       "ethnicity                   36421       3                          1  21980\n",
       "current_status              36421       2  Laboratory-confirmed case  30745\n",
       "hosp_yn                     36421       3                          0  18587\n",
       "icu_yn                      36421       3                        999  33205\n",
       "underlying_conditions_yn    36421       3                        999  32962\n",
       "case_year                   36421       3                       2021  14265"
      ]
     },
     "execution_count": 71,
     "metadata": {},
     "output_type": "execute_result"
    }
   ],
   "source": [
    "# look at descriptive stats for categorical features only\n",
    "features = df.select_dtypes(['category']).columns\n",
    "df_table = df[features].describe().T\n",
    "df_table"
   ]
  },
  {
   "attachments": {},
   "cell_type": "markdown",
   "id": "25d0d157",
   "metadata": {},
   "source": [
    "\n",
    "From above, we can see that county_fips_code is taking 1325 unique features, which will produce 1325 unique dummies columns. We could not do much in reducing the state_fips_code. The major difference between using this dataset with all features is that there is a case year and state present. In our previous selected feature subset, these two time and location is not considered. We will see how the model performs differently with all features below.\n",
    "**Note: The calculation below may take some time**"
   ]
  },
  {
   "cell_type": "code",
   "execution_count": 72,
   "id": "b85a5a50",
   "metadata": {},
   "outputs": [],
   "source": [
    "# calculate Linear regression, logistic regression, random forest results again using all features\n",
    "linRegDF = cross_val_LinReg_DF(X,y)"
   ]
  },
  {
   "cell_type": "code",
   "execution_count": 73,
   "id": "71db2b6b",
   "metadata": {},
   "outputs": [],
   "source": [
    "logRegDF = cross_val_LogReg_DF(X,y)"
   ]
  },
  {
   "cell_type": "code",
   "execution_count": 74,
   "id": "f1f2360d",
   "metadata": {},
   "outputs": [],
   "source": [
    "RandomForestDF = cross_val_RandomForest_DF(X,y)"
   ]
  },
  {
   "cell_type": "code",
   "execution_count": 75,
   "id": "e4c2b0bf",
   "metadata": {},
   "outputs": [
    {
     "data": {
      "text/html": [
       "<div>\n",
       "<style scoped>\n",
       "    .dataframe tbody tr th:only-of-type {\n",
       "        vertical-align: middle;\n",
       "    }\n",
       "\n",
       "    .dataframe tbody tr th {\n",
       "        vertical-align: top;\n",
       "    }\n",
       "\n",
       "    .dataframe thead th {\n",
       "        text-align: right;\n",
       "    }\n",
       "</style>\n",
       "<table border=\"1\" class=\"dataframe\">\n",
       "  <thead>\n",
       "    <tr style=\"text-align: right;\">\n",
       "      <th></th>\n",
       "      <th>Linear_Regression</th>\n",
       "      <th>Logistic_Regression</th>\n",
       "      <th>Random_Forests</th>\n",
       "    </tr>\n",
       "  </thead>\n",
       "  <tbody>\n",
       "    <tr>\n",
       "      <th>accuracy</th>\n",
       "      <td>0.937302</td>\n",
       "      <td>0.939403</td>\n",
       "      <td>0.922847</td>\n",
       "    </tr>\n",
       "    <tr>\n",
       "      <th>precision</th>\n",
       "      <td>0.883611</td>\n",
       "      <td>0.874212</td>\n",
       "      <td>0.803100</td>\n",
       "    </tr>\n",
       "    <tr>\n",
       "      <th>recall</th>\n",
       "      <td>0.842207</td>\n",
       "      <td>0.865804</td>\n",
       "      <td>0.888562</td>\n",
       "    </tr>\n",
       "    <tr>\n",
       "      <th>f1</th>\n",
       "      <td>0.862344</td>\n",
       "      <td>0.869930</td>\n",
       "      <td>0.843600</td>\n",
       "    </tr>\n",
       "  </tbody>\n",
       "</table>\n",
       "</div>"
      ],
      "text/plain": [
       "           Linear_Regression  Logistic_Regression  Random_Forests\n",
       "accuracy            0.937302             0.939403        0.922847\n",
       "precision           0.883611             0.874212        0.803100\n",
       "recall              0.842207             0.865804        0.888562\n",
       "f1                  0.862344             0.869930        0.843600"
      ]
     },
     "execution_count": 75,
     "metadata": {},
     "output_type": "execute_result"
    }
   ],
   "source": [
    "# merge all 3 models into dataframe\n",
    "ResultsDF_allFeatures = pd.concat([linRegDF, logRegDF, RandomForestDF], axis=1)\n",
    "ResultsDF_allFeatures"
   ]
  },
  {
   "attachments": {},
   "cell_type": "markdown",
   "id": "c8a72a95",
   "metadata": {},
   "source": [
    "The dataframe with all features available is ready, and we will generate new set of evaluation results based on all the features."
   ]
  },
  {
   "attachments": {},
   "cell_type": "markdown",
   "id": "2a0cb1c3",
   "metadata": {},
   "source": [
    "### 5.3.3 Comparison of Feature Set"
   ]
  },
  {
   "cell_type": "code",
   "execution_count": 76,
   "id": "5914b4bc",
   "metadata": {},
   "outputs": [
    {
     "name": "stdout",
     "output_type": "stream",
     "text": [
      "\n",
      "Scores using all features:\n",
      "===================================================================\n",
      "           Linear_Regression  Logistic_Regression  Random_Forests\n",
      "accuracy            0.937302             0.939403        0.922847\n",
      "precision           0.883611             0.874212        0.803100\n",
      "recall              0.842207             0.865804        0.888562\n",
      "f1                  0.862344             0.869930        0.843600\n",
      "\n",
      "Scores using selected features:\n",
      "===================================================================\n",
      "           Linear_Regression  Logistic_Regression  Random_Forests\n",
      "accuracy            0.906964             0.909036        0.910903\n",
      "precision           0.808917             0.824854        0.819009\n",
      "recall              0.787534             0.776418        0.795188\n",
      "f1                  0.797883             0.799792        0.806840\n"
     ]
    }
   ],
   "source": [
    "print(\"\\nScores using all features:\")\n",
    "print(\"===================================================================\")\n",
    "print(ResultsDF_allFeatures)\n",
    "print(\"\\nScores using selected features:\")\n",
    "print(\"===================================================================\")\n",
    "print(ResultsCompare)"
   ]
  },
  {
   "attachments": {},
   "cell_type": "markdown",
   "id": "9bf70608",
   "metadata": {},
   "source": [
    "#### Observation and Discussion:\n",
    "\n",
    "When using all features, the accuracy increased by about 2-3%. However, it took much longer time to train the model and thus the model became more complex. When using only selected features, the features number drop from 1357 to 29 columns only, which increases the performance efficiency of the model in terms of saving computing power. In this case, there is sufficnent reason to support only training the model with selected features subset in practical. However, since it is for exploration and obversation for this project purpose, we will continue to optimised the model using all the features."
   ]
  },
  {
   "attachments": {},
   "cell_type": "markdown",
   "id": "4a3ec922",
   "metadata": {},
   "source": [
    "### 5.4 Further optimisations\n",
    "- There are two possible options for optimizing the linear and logistic regression models\n",
    "    - Deriving new features - All of the derived features proposed in Homework1 performed poorly, and there are not much derived feature that would be useful in understanding the problem domain, and so additional features will not be proposed.\n",
    "    - Further reviewing the existing features to find the best combination - As all of our features are categorical not much relevant feature that could be derived <br><br>\n",
    "- We will therefore focus in the random forest model to see what optimization is possible. We will look at the following:\n",
    "    1. Find best performing Max_Depth of decision tree while keeping accuracy high - to reduce potential for overfitting and speed up model \n",
    "    2. Find lowest number estimators while keeping accuracy high- reduce unnecessary estimators as will slow down the model\n",
    "    3. Find best performing list of features ranked by feature importance - As we know there are many feature that add little the the model. Removing them will help generalise the model"
   ]
  },
  {
   "attachments": {},
   "cell_type": "markdown",
   "id": "ea5fc030",
   "metadata": {},
   "source": [
    "#### 5.4.1 Optimise Max Depth\n",
    "**Note: This calculation may take some time**"
   ]
  },
  {
   "cell_type": "code",
   "execution_count": 77,
   "id": "1ef86ee4",
   "metadata": {},
   "outputs": [
    {
     "data": {
      "text/html": [
       "<div>\n",
       "<style scoped>\n",
       "    .dataframe tbody tr th:only-of-type {\n",
       "        vertical-align: middle;\n",
       "    }\n",
       "\n",
       "    .dataframe tbody tr th {\n",
       "        vertical-align: top;\n",
       "    }\n",
       "\n",
       "    .dataframe thead th {\n",
       "        text-align: right;\n",
       "    }\n",
       "</style>\n",
       "<table border=\"1\" class=\"dataframe\">\n",
       "  <thead>\n",
       "    <tr style=\"text-align: right;\">\n",
       "      <th></th>\n",
       "      <th>depth=1</th>\n",
       "      <th>depth=2</th>\n",
       "      <th>depth=3</th>\n",
       "      <th>depth=4</th>\n",
       "      <th>depth=5</th>\n",
       "      <th>depth=6</th>\n",
       "      <th>depth=7</th>\n",
       "      <th>depth=8</th>\n",
       "      <th>depth=9</th>\n",
       "      <th>depth=10</th>\n",
       "      <th>no_max_depth</th>\n",
       "    </tr>\n",
       "  </thead>\n",
       "  <tbody>\n",
       "    <tr>\n",
       "      <th>accuracy</th>\n",
       "      <td>0.765932</td>\n",
       "      <td>0.765932</td>\n",
       "      <td>0.765932</td>\n",
       "      <td>0.770517</td>\n",
       "      <td>0.782818</td>\n",
       "      <td>0.797973</td>\n",
       "      <td>0.815024</td>\n",
       "      <td>0.839214</td>\n",
       "      <td>0.860438</td>\n",
       "      <td>0.870240</td>\n",
       "      <td>0.922847</td>\n",
       "    </tr>\n",
       "    <tr>\n",
       "      <th>precision</th>\n",
       "      <td>0.000000</td>\n",
       "      <td>0.000000</td>\n",
       "      <td>0.000000</td>\n",
       "      <td>1.000000</td>\n",
       "      <td>0.990897</td>\n",
       "      <td>0.974548</td>\n",
       "      <td>0.964432</td>\n",
       "      <td>0.945252</td>\n",
       "      <td>0.938864</td>\n",
       "      <td>0.931884</td>\n",
       "      <td>0.803100</td>\n",
       "    </tr>\n",
       "    <tr>\n",
       "      <th>recall</th>\n",
       "      <td>0.000000</td>\n",
       "      <td>0.000000</td>\n",
       "      <td>0.000000</td>\n",
       "      <td>0.019585</td>\n",
       "      <td>0.072836</td>\n",
       "      <td>0.141093</td>\n",
       "      <td>0.218047</td>\n",
       "      <td>0.332416</td>\n",
       "      <td>0.432006</td>\n",
       "      <td>0.480814</td>\n",
       "      <td>0.888562</td>\n",
       "    </tr>\n",
       "    <tr>\n",
       "      <th>f1</th>\n",
       "      <td>0.000000</td>\n",
       "      <td>0.000000</td>\n",
       "      <td>0.000000</td>\n",
       "      <td>0.038117</td>\n",
       "      <td>0.134839</td>\n",
       "      <td>0.243843</td>\n",
       "      <td>0.353798</td>\n",
       "      <td>0.490576</td>\n",
       "      <td>0.590737</td>\n",
       "      <td>0.633987</td>\n",
       "      <td>0.843600</td>\n",
       "    </tr>\n",
       "  </tbody>\n",
       "</table>\n",
       "</div>"
      ],
      "text/plain": [
       "            depth=1   depth=2   depth=3   depth=4   depth=5   depth=6  \\\n",
       "accuracy   0.765932  0.765932  0.765932  0.770517  0.782818  0.797973   \n",
       "precision  0.000000  0.000000  0.000000  1.000000  0.990897  0.974548   \n",
       "recall     0.000000  0.000000  0.000000  0.019585  0.072836  0.141093   \n",
       "f1         0.000000  0.000000  0.000000  0.038117  0.134839  0.243843   \n",
       "\n",
       "            depth=7   depth=8   depth=9  depth=10  no_max_depth  \n",
       "accuracy   0.815024  0.839214  0.860438  0.870240      0.922847  \n",
       "precision  0.964432  0.945252  0.938864  0.931884      0.803100  \n",
       "recall     0.218047  0.332416  0.432006  0.480814      0.888562  \n",
       "f1         0.353798  0.490576  0.590737  0.633987      0.843600  "
      ]
     },
     "execution_count": 77,
     "metadata": {},
     "output_type": "execute_result"
    }
   ],
   "source": [
    "# setup dataframe, we will use dataframe with selected feature subsets\n",
    "df_cop2 = pd.get_dummies(df)\n",
    "# y is the target\n",
    "y = df_cop2[\"death_yn\"]\n",
    "# X is everything else\n",
    "X = df_cop2.drop([\"death_yn\"],axis=1)\n",
    "\n",
    "# initialised empty daraframe\n",
    "RandomForest_Depth = pd.DataFrame()\n",
    "\n",
    "# calculate cross val score incrementing max depth by 1 each iteration\n",
    "# append results to dataframe\n",
    "for i in range(1,11):\n",
    "    df1 = cross_val_RandomForest_DF(X,y,i)\n",
    "    df1.rename(columns={'Random_Forests':f'depth={i}'}, inplace=True)\n",
    "    RandomForest_Depth = pd.concat([RandomForest_Depth, df1], axis=1)\n",
    "\n",
    "# same calculation but use no max depth this time\n",
    "no_max_depth = cross_val_RandomForest_DF(X,y)\n",
    "no_max_depth.rename(columns={'Random_Forests':f'no_max_depth'}, inplace=True)\n",
    "RandomForest_Depth = pd.concat([RandomForest_Depth, no_max_depth], axis=1)\n",
    "RandomForest_Depth"
   ]
  },
  {
   "attachments": {},
   "cell_type": "markdown",
   "id": "f6fa1113",
   "metadata": {},
   "source": [
    "<b>Observation and Discussion</b>\n",
    "\n",
    "From the result above, there is no obvious depth value that shows the optimised accuracy for max depth until 10, and we will not explore further due to the hugh computing time required. For this project purpose, we will continue to use max_depth=None will significantly increase the model size. max_depth = none is the default max depth for the random forest model (https://scikit-learn.org/stable/modules/generated/sklearn.ensemble.RandomForestClassifier.html)."
   ]
  },
  {
   "attachments": {},
   "cell_type": "markdown",
   "id": "7ad7c8b3",
   "metadata": {},
   "source": [
    "#### 5.4.2 Optimise Number of Estimators\n",
    "we will repeat steps in 5.4.1, but this thime the varying variable will be the number of estimators. The number estimators means the number of of trees in the forest.<br>**Note: This calculation may take some time**"
   ]
  },
  {
   "cell_type": "code",
   "execution_count": 78,
   "id": "bee96c21",
   "metadata": {},
   "outputs": [
    {
     "data": {
      "text/html": [
       "<div>\n",
       "<style scoped>\n",
       "    .dataframe tbody tr th:only-of-type {\n",
       "        vertical-align: middle;\n",
       "    }\n",
       "\n",
       "    .dataframe tbody tr th {\n",
       "        vertical-align: top;\n",
       "    }\n",
       "\n",
       "    .dataframe thead th {\n",
       "        text-align: right;\n",
       "    }\n",
       "</style>\n",
       "<table border=\"1\" class=\"dataframe\">\n",
       "  <thead>\n",
       "    <tr style=\"text-align: right;\">\n",
       "      <th></th>\n",
       "      <th>estimators=1</th>\n",
       "      <th>estimators=2</th>\n",
       "      <th>estimators=4</th>\n",
       "      <th>estimators=8</th>\n",
       "      <th>estimators=16</th>\n",
       "      <th>estimators=32</th>\n",
       "      <th>estimators=64</th>\n",
       "      <th>estimators=100</th>\n",
       "      <th>estimators=200</th>\n",
       "    </tr>\n",
       "  </thead>\n",
       "  <tbody>\n",
       "    <tr>\n",
       "      <th>accuracy</th>\n",
       "      <td>0.908762</td>\n",
       "      <td>0.914033</td>\n",
       "      <td>0.917740</td>\n",
       "      <td>0.920843</td>\n",
       "      <td>0.921721</td>\n",
       "      <td>0.922133</td>\n",
       "      <td>0.922600</td>\n",
       "      <td>0.922847</td>\n",
       "      <td>0.922737</td>\n",
       "    </tr>\n",
       "    <tr>\n",
       "      <th>precision</th>\n",
       "      <td>0.783942</td>\n",
       "      <td>0.815453</td>\n",
       "      <td>0.805853</td>\n",
       "      <td>0.805312</td>\n",
       "      <td>0.802909</td>\n",
       "      <td>0.802119</td>\n",
       "      <td>0.802606</td>\n",
       "      <td>0.803100</td>\n",
       "      <td>0.802539</td>\n",
       "    </tr>\n",
       "    <tr>\n",
       "      <th>recall</th>\n",
       "      <td>0.842806</td>\n",
       "      <td>0.818174</td>\n",
       "      <td>0.854896</td>\n",
       "      <td>0.873314</td>\n",
       "      <td>0.882697</td>\n",
       "      <td>0.886450</td>\n",
       "      <td>0.888210</td>\n",
       "      <td>0.888562</td>\n",
       "      <td>0.888914</td>\n",
       "    </tr>\n",
       "    <tr>\n",
       "      <th>f1</th>\n",
       "      <td>0.812138</td>\n",
       "      <td>0.816659</td>\n",
       "      <td>0.829554</td>\n",
       "      <td>0.837845</td>\n",
       "      <td>0.840801</td>\n",
       "      <td>0.842085</td>\n",
       "      <td>0.843142</td>\n",
       "      <td>0.843600</td>\n",
       "      <td>0.843459</td>\n",
       "    </tr>\n",
       "  </tbody>\n",
       "</table>\n",
       "</div>"
      ],
      "text/plain": [
       "           estimators=1  estimators=2  estimators=4  estimators=8  \\\n",
       "accuracy       0.908762      0.914033      0.917740      0.920843   \n",
       "precision      0.783942      0.815453      0.805853      0.805312   \n",
       "recall         0.842806      0.818174      0.854896      0.873314   \n",
       "f1             0.812138      0.816659      0.829554      0.837845   \n",
       "\n",
       "           estimators=16  estimators=32  estimators=64  estimators=100  \\\n",
       "accuracy        0.921721       0.922133       0.922600        0.922847   \n",
       "precision       0.802909       0.802119       0.802606        0.803100   \n",
       "recall          0.882697       0.886450       0.888210        0.888562   \n",
       "f1              0.840801       0.842085       0.843142        0.843600   \n",
       "\n",
       "           estimators=200  \n",
       "accuracy         0.922737  \n",
       "precision        0.802539  \n",
       "recall           0.888914  \n",
       "f1               0.843459  "
      ]
     },
     "execution_count": 78,
     "metadata": {},
     "output_type": "execute_result"
    }
   ],
   "source": [
    "# initialised empty dataframe\n",
    "RandomForest_Estimators = pd.DataFrame()\n",
    "\n",
    "n_estimators = [1, 2, 4, 8, 16, 32, 64, 100, 200]\n",
    "\n",
    "for item in n_estimators:\n",
    "    df1 = cross_val_RandomForest_DF(X,y,estimators=item)\n",
    "    df1.rename(columns={'Random_Forests':f'estimators={item}'}, inplace=True)\n",
    "    RandomForest_Estimators = pd.concat([RandomForest_Estimators, df1], axis=1)\n",
    "\n",
    "RandomForest_Estimators"
   ]
  },
  {
   "attachments": {},
   "cell_type": "markdown",
   "id": "30773654",
   "metadata": {},
   "source": [
    "<b>Observation and Discussion</b>\n",
    "\n",
    "We can see that at estimator = 100, the model accuracy is at the max, and then starts to decrease gradually as the estimators increases.  The number estimators means the number of of trees in the forest (https://scikit-learn.org/stable/modules/generated/sklearn.ensemble.RandomForestClassifier.html). The default estimator of the model is 100. From here, we can conclude using the default estimator can slightly optimise the model. "
   ]
  },
  {
   "attachments": {},
   "cell_type": "markdown",
   "id": "c664c47f",
   "metadata": {},
   "source": [
    "#### 5.4.3 Optimise Number of Features"
   ]
  },
  {
   "attachments": {},
   "cell_type": "markdown",
   "id": "9b20cdfe",
   "metadata": {},
   "source": [
    "First calculate feature order of importance using the selected features (already set up at part 5.3.1)"
   ]
  },
  {
   "cell_type": "code",
   "execution_count": 79,
   "id": "7892fa2d",
   "metadata": {},
   "outputs": [
    {
     "data": {
      "text/html": [
       "<div>\n",
       "<style scoped>\n",
       "    .dataframe tbody tr th:only-of-type {\n",
       "        vertical-align: middle;\n",
       "    }\n",
       "\n",
       "    .dataframe tbody tr th {\n",
       "        vertical-align: top;\n",
       "    }\n",
       "\n",
       "    .dataframe thead th {\n",
       "        text-align: right;\n",
       "    }\n",
       "</style>\n",
       "<table border=\"1\" class=\"dataframe\">\n",
       "  <thead>\n",
       "    <tr style=\"text-align: right;\">\n",
       "      <th></th>\n",
       "      <th>importance</th>\n",
       "    </tr>\n",
       "    <tr>\n",
       "      <th>feature</th>\n",
       "      <th></th>\n",
       "    </tr>\n",
       "  </thead>\n",
       "  <tbody>\n",
       "    <tr>\n",
       "      <th>age_group_4</th>\n",
       "      <td>0.196655</td>\n",
       "    </tr>\n",
       "    <tr>\n",
       "      <th>hosp_yn_1</th>\n",
       "      <td>0.128711</td>\n",
       "    </tr>\n",
       "    <tr>\n",
       "      <th>age_group_2</th>\n",
       "      <td>0.071268</td>\n",
       "    </tr>\n",
       "    <tr>\n",
       "      <th>hosp_yn_0</th>\n",
       "      <td>0.066208</td>\n",
       "    </tr>\n",
       "    <tr>\n",
       "      <th>age_group_1</th>\n",
       "      <td>0.026717</td>\n",
       "    </tr>\n",
       "    <tr>\n",
       "      <th>...</th>\n",
       "      <td>...</td>\n",
       "    </tr>\n",
       "    <tr>\n",
       "      <th>county_fips_code_26035.0</th>\n",
       "      <td>0.000000</td>\n",
       "    </tr>\n",
       "    <tr>\n",
       "      <th>county_fips_code_47123.0</th>\n",
       "      <td>0.000000</td>\n",
       "    </tr>\n",
       "    <tr>\n",
       "      <th>county_fips_code_47103.0</th>\n",
       "      <td>0.000000</td>\n",
       "    </tr>\n",
       "    <tr>\n",
       "      <th>county_fips_code_26051.0</th>\n",
       "      <td>0.000000</td>\n",
       "    </tr>\n",
       "    <tr>\n",
       "      <th>county_fips_code_1001.0</th>\n",
       "      <td>0.000000</td>\n",
       "    </tr>\n",
       "  </tbody>\n",
       "</table>\n",
       "<p>1357 rows × 1 columns</p>\n",
       "</div>"
      ],
      "text/plain": [
       "                          importance\n",
       "feature                             \n",
       "age_group_4                 0.196655\n",
       "hosp_yn_1                   0.128711\n",
       "age_group_2                 0.071268\n",
       "hosp_yn_0                   0.066208\n",
       "age_group_1                 0.026717\n",
       "...                              ...\n",
       "county_fips_code_26035.0    0.000000\n",
       "county_fips_code_47123.0    0.000000\n",
       "county_fips_code_47103.0    0.000000\n",
       "county_fips_code_26051.0    0.000000\n",
       "county_fips_code_1001.0     0.000000\n",
       "\n",
       "[1357 rows x 1 columns]"
      ]
     },
     "execution_count": 79,
     "metadata": {},
     "output_type": "execute_result"
    }
   ],
   "source": [
    "X_train, X_test, y_train, y_test = train_test_split(X, y, random_state=1 , test_size=0.3)\n",
    "\n",
    "# Train RF with result following the optimised estimator obtained method at part 5.4.2\n",
    "rfc = RandomForestClassifier(max_features='auto', oob_score=True, random_state=1)\n",
    "rfc.fit(X_train, y_train)\n",
    "importance = pd.DataFrame({'feature': X_train.columns, 'importance':rfc.feature_importances_})\n",
    "importance.sort_values('importance', ascending=False, inplace=True)\n",
    "importance.set_index('feature', inplace=True)\n",
    "importance"
   ]
  },
  {
   "attachments": {},
   "cell_type": "markdown",
   "id": "5f32d9da",
   "metadata": {},
   "source": [
    "we will find a suitable point to cut down the features, in this case we will find features that has importance > 0.01."
   ]
  },
  {
   "cell_type": "code",
   "execution_count": 80,
   "id": "43c10904",
   "metadata": {},
   "outputs": [
    {
     "data": {
      "text/html": [
       "<div>\n",
       "<style scoped>\n",
       "    .dataframe tbody tr th:only-of-type {\n",
       "        vertical-align: middle;\n",
       "    }\n",
       "\n",
       "    .dataframe tbody tr th {\n",
       "        vertical-align: top;\n",
       "    }\n",
       "\n",
       "    .dataframe thead th {\n",
       "        text-align: right;\n",
       "    }\n",
       "</style>\n",
       "<table border=\"1\" class=\"dataframe\">\n",
       "  <thead>\n",
       "    <tr style=\"text-align: right;\">\n",
       "      <th></th>\n",
       "      <th>importance</th>\n",
       "    </tr>\n",
       "    <tr>\n",
       "      <th>feature</th>\n",
       "      <th></th>\n",
       "    </tr>\n",
       "  </thead>\n",
       "  <tbody>\n",
       "    <tr>\n",
       "      <th>age_group_4</th>\n",
       "      <td>0.196655</td>\n",
       "    </tr>\n",
       "    <tr>\n",
       "      <th>hosp_yn_1</th>\n",
       "      <td>0.128711</td>\n",
       "    </tr>\n",
       "    <tr>\n",
       "      <th>age_group_2</th>\n",
       "      <td>0.071268</td>\n",
       "    </tr>\n",
       "    <tr>\n",
       "      <th>hosp_yn_0</th>\n",
       "      <td>0.066208</td>\n",
       "    </tr>\n",
       "    <tr>\n",
       "      <th>age_group_1</th>\n",
       "      <td>0.026717</td>\n",
       "    </tr>\n",
       "    <tr>\n",
       "      <th>case_year_2020</th>\n",
       "      <td>0.024428</td>\n",
       "    </tr>\n",
       "    <tr>\n",
       "      <th>hosp_yn_999</th>\n",
       "      <td>0.021631</td>\n",
       "    </tr>\n",
       "    <tr>\n",
       "      <th>age_group_3</th>\n",
       "      <td>0.019724</td>\n",
       "    </tr>\n",
       "    <tr>\n",
       "      <th>icu_yn_1</th>\n",
       "      <td>0.018925</td>\n",
       "    </tr>\n",
       "    <tr>\n",
       "      <th>case_year_2022</th>\n",
       "      <td>0.016726</td>\n",
       "    </tr>\n",
       "    <tr>\n",
       "      <th>county_fips_code_6037.0</th>\n",
       "      <td>0.015710</td>\n",
       "    </tr>\n",
       "    <tr>\n",
       "      <th>ethnicity_999</th>\n",
       "      <td>0.014628</td>\n",
       "    </tr>\n",
       "    <tr>\n",
       "      <th>race_3</th>\n",
       "      <td>0.009961</td>\n",
       "    </tr>\n",
       "    <tr>\n",
       "      <th>ethnicity_1</th>\n",
       "      <td>0.008273</td>\n",
       "    </tr>\n",
       "    <tr>\n",
       "      <th>case_year_2021</th>\n",
       "      <td>0.008140</td>\n",
       "    </tr>\n",
       "  </tbody>\n",
       "</table>\n",
       "</div>"
      ],
      "text/plain": [
       "                         importance\n",
       "feature                            \n",
       "age_group_4                0.196655\n",
       "hosp_yn_1                  0.128711\n",
       "age_group_2                0.071268\n",
       "hosp_yn_0                  0.066208\n",
       "age_group_1                0.026717\n",
       "case_year_2020             0.024428\n",
       "hosp_yn_999                0.021631\n",
       "age_group_3                0.019724\n",
       "icu_yn_1                   0.018925\n",
       "case_year_2022             0.016726\n",
       "county_fips_code_6037.0    0.015710\n",
       "ethnicity_999              0.014628\n",
       "race_3                     0.009961\n",
       "ethnicity_1                0.008273\n",
       "case_year_2021             0.008140"
      ]
     },
     "execution_count": 80,
     "metadata": {},
     "output_type": "execute_result"
    }
   ],
   "source": [
    "importance.head(15)"
   ]
  },
  {
   "cell_type": "code",
   "execution_count": 81,
   "id": "edf8ff2c",
   "metadata": {},
   "outputs": [],
   "source": [
    "#saving the importance ranking into a csv file\n",
    "importance.to_csv('importance.csv')"
   ]
  },
  {
   "attachments": {},
   "cell_type": "markdown",
   "id": "b87b776b",
   "metadata": {},
   "source": [
    "Next, we calculate the optimum number of features. There are 1357 features including the dummies features. There are unexpected importance here such as case year and county fips code, which means that datetime and location might play an important role in contributing to the predictions. We will only calculate the top 13 features as their importance are > 0.01. \n",
    "\n",
    "**Note: This calculation may take some time**"
   ]
  },
  {
   "cell_type": "code",
   "execution_count": 82,
   "id": "e481e62e",
   "metadata": {},
   "outputs": [
    {
     "data": {
      "text/html": [
       "<div>\n",
       "<style scoped>\n",
       "    .dataframe tbody tr th:only-of-type {\n",
       "        vertical-align: middle;\n",
       "    }\n",
       "\n",
       "    .dataframe tbody tr th {\n",
       "        vertical-align: top;\n",
       "    }\n",
       "\n",
       "    .dataframe thead th {\n",
       "        text-align: right;\n",
       "    }\n",
       "</style>\n",
       "<table border=\"1\" class=\"dataframe\">\n",
       "  <thead>\n",
       "    <tr style=\"text-align: right;\">\n",
       "      <th></th>\n",
       "      <th>features=1</th>\n",
       "      <th>features=2</th>\n",
       "      <th>features=3</th>\n",
       "      <th>features=4</th>\n",
       "      <th>features=5</th>\n",
       "      <th>features=6</th>\n",
       "      <th>features=7</th>\n",
       "      <th>features=8</th>\n",
       "      <th>features=9</th>\n",
       "      <th>features=10</th>\n",
       "      <th>features=11</th>\n",
       "      <th>features=12</th>\n",
       "      <th>features=13</th>\n",
       "    </tr>\n",
       "  </thead>\n",
       "  <tbody>\n",
       "    <tr>\n",
       "      <th>accuracy</th>\n",
       "      <td>0.873205</td>\n",
       "      <td>0.875127</td>\n",
       "      <td>0.879630</td>\n",
       "      <td>0.900415</td>\n",
       "      <td>0.901595</td>\n",
       "      <td>0.907581</td>\n",
       "      <td>0.907581</td>\n",
       "      <td>0.907718</td>\n",
       "      <td>0.908762</td>\n",
       "      <td>0.916944</td>\n",
       "      <td>0.918866</td>\n",
       "      <td>0.922380</td>\n",
       "      <td>0.921941</td>\n",
       "    </tr>\n",
       "    <tr>\n",
       "      <th>precision</th>\n",
       "      <td>0.676202</td>\n",
       "      <td>0.660748</td>\n",
       "      <td>0.672952</td>\n",
       "      <td>0.777389</td>\n",
       "      <td>0.781142</td>\n",
       "      <td>0.755652</td>\n",
       "      <td>0.755652</td>\n",
       "      <td>0.756688</td>\n",
       "      <td>0.757247</td>\n",
       "      <td>0.804690</td>\n",
       "      <td>0.806202</td>\n",
       "      <td>0.831042</td>\n",
       "      <td>0.833352</td>\n",
       "    </tr>\n",
       "    <tr>\n",
       "      <th>recall</th>\n",
       "      <td>0.880001</td>\n",
       "      <td>0.959764</td>\n",
       "      <td>0.946040</td>\n",
       "      <td>0.805279</td>\n",
       "      <td>0.805279</td>\n",
       "      <td>0.894546</td>\n",
       "      <td>0.894546</td>\n",
       "      <td>0.893022</td>\n",
       "      <td>0.898300</td>\n",
       "      <td>0.852083</td>\n",
       "      <td>0.860294</td>\n",
       "      <td>0.839059</td>\n",
       "      <td>0.833194</td>\n",
       "    </tr>\n",
       "    <tr>\n",
       "      <th>f1</th>\n",
       "      <td>0.764685</td>\n",
       "      <td>0.782604</td>\n",
       "      <td>0.786381</td>\n",
       "      <td>0.791034</td>\n",
       "      <td>0.792984</td>\n",
       "      <td>0.819226</td>\n",
       "      <td>0.819226</td>\n",
       "      <td>0.819194</td>\n",
       "      <td>0.821735</td>\n",
       "      <td>0.827676</td>\n",
       "      <td>0.832342</td>\n",
       "      <td>0.835010</td>\n",
       "      <td>0.833245</td>\n",
       "    </tr>\n",
       "  </tbody>\n",
       "</table>\n",
       "</div>"
      ],
      "text/plain": [
       "           features=1  features=2  features=3  features=4  features=5  \\\n",
       "accuracy     0.873205    0.875127    0.879630    0.900415    0.901595   \n",
       "precision    0.676202    0.660748    0.672952    0.777389    0.781142   \n",
       "recall       0.880001    0.959764    0.946040    0.805279    0.805279   \n",
       "f1           0.764685    0.782604    0.786381    0.791034    0.792984   \n",
       "\n",
       "           features=6  features=7  features=8  features=9  features=10  \\\n",
       "accuracy     0.907581    0.907581    0.907718    0.908762     0.916944   \n",
       "precision    0.755652    0.755652    0.756688    0.757247     0.804690   \n",
       "recall       0.894546    0.894546    0.893022    0.898300     0.852083   \n",
       "f1           0.819226    0.819226    0.819194    0.821735     0.827676   \n",
       "\n",
       "           features=11  features=12  features=13  \n",
       "accuracy      0.918866     0.922380     0.921941  \n",
       "precision     0.806202     0.831042     0.833352  \n",
       "recall        0.860294     0.839059     0.833194  \n",
       "f1            0.832342     0.835010     0.833245  "
      ]
     },
     "execution_count": 82,
     "metadata": {},
     "output_type": "execute_result"
    }
   ],
   "source": [
    "# set up empty list to store features\n",
    "list_features = []\n",
    "\n",
    "# set up empty dataframe to store results\n",
    "RandomForest_Features = pd.DataFrame()\n",
    "count=0\n",
    "\n",
    "# loop over 'importance' dataframe adding 1 feature per loop (will be the next most important feature)\n",
    "# each loop calculates the score for the current number of features in the list_features\n",
    "# Each loop appends result to RandomForest_Features dataframe\n",
    "for index, row in importance.iterrows():\n",
    "    # only calculate the top 13 features to keep runtime down (features that importance greater than 0.01)\n",
    "    if count <= 12:\n",
    "        list_features.append(index)\n",
    "        X = df_all[list_features]\n",
    "        df1 = cross_val_RandomForest_DF(X,y) #using the optimum depth obtained from part 5.4.1\n",
    "        df1.rename(columns={'Random_Forests':f'features={len(list_features)}'}, inplace=True)\n",
    "        RandomForest_Features = pd.concat([RandomForest_Features, df1], axis=1)\n",
    "        count+=1\n",
    "    else:\n",
    "        break\n",
    "\n",
    "# to display all columns    \n",
    "RandomForest_Features  "
   ]
  },
  {
   "attachments": {},
   "cell_type": "markdown",
   "id": "a9e8afd6",
   "metadata": {},
   "source": [
    "From the analysis above, we can see that the accuracy max when features = 13. This means that for the features selected with importance > 0.01 most of them contributed to the accuracy of the model, especially age_group and hosp_yn (age and hospitalisation status).<br><br> We can see that at feature = 12, the model achieved the highest accuracy of 92.2%. In this case, we can trim the features to 12. age_group_4 has the highest importance in the random forest model. We can now define the list of optimum features."
   ]
  },
  {
   "cell_type": "code",
   "execution_count": 83,
   "id": "e9cba7d5",
   "metadata": {},
   "outputs": [],
   "source": [
    "# set list of optimum features\n",
    "optimum_features = list_features[0:12]"
   ]
  },
  {
   "attachments": {},
   "cell_type": "markdown",
   "id": "dac4c5da",
   "metadata": {},
   "source": [
    "### 5.5  Final Review Performance of All Model\n",
    "We will use the optimum_features selected in part5.4.3 to review the performance of all three models. For the random forest model, we will use max_depth of none and estimator of 100 obtained from previous parts (both of them are default, thus no need to insert them in the randomforest function)."
   ]
  },
  {
   "cell_type": "code",
   "execution_count": 84,
   "id": "e86d324f",
   "metadata": {},
   "outputs": [
    {
     "name": "stdout",
     "output_type": "stream",
     "text": [
      "Number of features:  12\n"
     ]
    },
    {
     "data": {
      "text/html": [
       "<div>\n",
       "<style scoped>\n",
       "    .dataframe tbody tr th:only-of-type {\n",
       "        vertical-align: middle;\n",
       "    }\n",
       "\n",
       "    .dataframe tbody tr th {\n",
       "        vertical-align: top;\n",
       "    }\n",
       "\n",
       "    .dataframe thead th {\n",
       "        text-align: right;\n",
       "    }\n",
       "</style>\n",
       "<table border=\"1\" class=\"dataframe\">\n",
       "  <thead>\n",
       "    <tr style=\"text-align: right;\">\n",
       "      <th></th>\n",
       "      <th>Linear_Regression</th>\n",
       "      <th>Logistic_Regression</th>\n",
       "      <th>Random_Forests</th>\n",
       "    </tr>\n",
       "  </thead>\n",
       "  <tbody>\n",
       "    <tr>\n",
       "      <th>accuracy</th>\n",
       "      <td>0.919173</td>\n",
       "      <td>0.921419</td>\n",
       "      <td>0.922380</td>\n",
       "    </tr>\n",
       "    <tr>\n",
       "      <th>precision</th>\n",
       "      <td>0.824380</td>\n",
       "      <td>0.833286</td>\n",
       "      <td>0.831042</td>\n",
       "    </tr>\n",
       "    <tr>\n",
       "      <th>recall</th>\n",
       "      <td>0.831926</td>\n",
       "      <td>0.830496</td>\n",
       "      <td>0.839059</td>\n",
       "    </tr>\n",
       "    <tr>\n",
       "      <th>f1</th>\n",
       "      <td>0.827581</td>\n",
       "      <td>0.831867</td>\n",
       "      <td>0.835010</td>\n",
       "    </tr>\n",
       "  </tbody>\n",
       "</table>\n",
       "</div>"
      ],
      "text/plain": [
       "           Linear_Regression  Logistic_Regression  Random_Forests\n",
       "accuracy            0.919173             0.921419        0.922380\n",
       "precision           0.824380             0.833286        0.831042\n",
       "recall              0.831926             0.830496        0.839059\n",
       "f1                  0.827581             0.831867        0.835010"
      ]
     },
     "execution_count": 84,
     "metadata": {},
     "output_type": "execute_result"
    }
   ],
   "source": [
    "df_optimum_features = pd.get_dummies(df_all)\n",
    "y = df_optimum_features[\"death_yn\"]\n",
    "X = df_optimum_features[optimum_features]\n",
    "print(\"Number of features: \", len(X.columns))\n",
    "\n",
    "# calculate Linear regression, logistic regression, random forest results again. In our case, the max depth and estimator is the same as the default one for the random forest.\n",
    "linRegDF = cross_val_LinReg_DF(X,y)\n",
    "logRegDF = cross_val_LogReg_DF(X,y)\n",
    "RandomForestDF = cross_val_RandomForest_DF(X,y)\n",
    "\n",
    "# merge all 3 models into dataframe\n",
    "ResultsDF_optimum_features = pd.concat([linRegDF, logRegDF, RandomForestDF], axis=1)\n",
    "ResultsDF_optimum_features"
   ]
  },
  {
   "cell_type": "code",
   "execution_count": 85,
   "id": "9bfb519b",
   "metadata": {},
   "outputs": [
    {
     "name": "stdout",
     "output_type": "stream",
     "text": [
      "\n",
      "Scores using all features: 1357  features (0 features dropped)\n",
      "===================================================================\n",
      "           Linear_Regression  Logistic_Regression  Random_Forests\n",
      "accuracy            0.937302             0.939403        0.922847\n",
      "precision           0.883611             0.874212        0.803100\n",
      "recall              0.842207             0.865804        0.888562\n",
      "f1                  0.862344             0.869930        0.843600\n",
      "\n",
      "Scores using subset of features: 29 Features\n",
      "===================================================================\n",
      "           Linear_Regression  Logistic_Regression  Random_Forests\n",
      "accuracy            0.906964             0.909036        0.910903\n",
      "precision           0.808917             0.824854        0.819009\n",
      "recall              0.787534             0.776418        0.795188\n",
      "f1                  0.797883             0.799792        0.806840\n",
      "\n",
      "Scores using optimum features: 12 Features\n",
      "===================================================================\n",
      "           Linear_Regression  Logistic_Regression  Random_Forests\n",
      "accuracy            0.919173             0.921419        0.922380\n",
      "precision           0.824380             0.833286        0.831042\n",
      "recall              0.831926             0.830496        0.839059\n",
      "f1                  0.827581             0.831867        0.835010\n"
     ]
    }
   ],
   "source": [
    "print(\"\\nScores using all features: 1357  features (0 features dropped)\")\n",
    "print(\"===================================================================\")\n",
    "print(ResultsDF_allFeatures)\n",
    "print(\"\\nScores using subset of features: 29 Features\")\n",
    "print(\"===================================================================\")\n",
    "print(ResultsCompare)\n",
    "print(\"\\nScores using optimum features: 12 Features\")\n",
    "print(\"===================================================================\")\n",
    "print(ResultsDF_optimum_features)"
   ]
  },
  {
   "attachments": {},
   "cell_type": "markdown",
   "id": "c3f726b0",
   "metadata": {},
   "source": [
    "<b>Observation and Discussion</b>\n",
    "\n",
    "From the comparison result above, we can see that the accuracy only varies slightly. In our optimised feature selection, the accuracy of random forest model and logistic regression is higher, as they are better models to solve classiifier prediction.Only using 12 features will save computing time and simplify the model (rather than using 1000+ features to train the model which is time and power consuming), which is a good decision to take in practical.<br>\n",
    "<br>\n",
    "For models only using optimised feature subset, the accuracy is still relatively high. It is not recommended to use linear regression as results could be skewed by valid outliers. In our all categorical-based features, logistic and random forest models perform almost the same, and both are good in performing classification prediction.  Random forest model would be a better model than logistic in theory as logistic is based on approximating/classifying the probability into only two outcome, 1 or 0. "
   ]
  },
  {
   "attachments": {},
   "cell_type": "markdown",
   "id": "2d2a72c9",
   "metadata": {},
   "source": [
    "### 5.6 Further work\n",
    "Additional evaluation measures could be preformed on each model that were outside the scope of this homework:\n",
    "- Reducing the dataset into two dimensions and plotting out the decision boundary to visualise how the decisions are. However, in our case the data amaount is too large and not convenient is displaying the decision boundary. (reference https://medium.com/analytics-vidhya/decision-boundary-for-classifiers-an-introduction-cc67c6d3da0e)\n",
    "- ROC Curve - ROC stands for receiver operating characteristic and the graph is plotted against TPR (true positive rate) and FPR (false positive rate) for various threshold values. The higher the area under ROC curve the higher its numerical value the better. (reference https://towardsdatascience.com/various-ways-to-evaluate-a-machine-learning-models-performance-230449055f15)\n",
    "\n",
    "- For the problem domain itself, having additional information and knowledge about the circumstance would be useful and could completely change the model prediction. For example, in this dataset we assume that all variant of the covid cases are the same. In actual recorded example, death rate fot different covid-19 variants varies (https://pubmed.ncbi.nlm.nih.gov/36056540/). Symptoms of cases could also be categorised differently to differentiate the severity of symptoms (such as light coughing, high fever, nausea etc.), which would also affect the model prediction. Thus, it is important to work together with an expert in the field of the problem domain in order to understand and produce work that matches the problem as closly as possible.\n",
    "\n",
    "- An approach that we take in training our model is categorise \"missing\" as a data category as there is a signicant missing value present throughout the dataset. We include missing in conducting the prediction, thus interpretation of the prediction result should be done also in consideration of our missing category. Further work that could be done is to explore onto how to handle missing data and see its effect on the model prediction."
   ]
  },
  {
   "attachments": {},
   "cell_type": "markdown",
   "id": "bee674b7",
   "metadata": {},
   "source": [
    "### 5.7 Summary\n",
    "- 3 predictive models have been evaluated in this notebook, namely linear regression, logistic regression and random forest model. Both three model gives \n",
    "- The majority of the features in the dataset have been found to have little impact on the target, with importance less than 0.01.\n",
    "- The biggest effect is finding the optimised list of features (only 12 features out of all) as this can be applied to all models, and this optimised features reduced the running time of the model without affecting its accuracy. \n",
    "- The logistic and random forest models preform almost the same +/-1% and both could be used. \n",
    "- The logistic model is more lightweight and will be faster to retain, however provides marginally lower accuracy as it is based on approximating/classifying the probability into only two outcome, 1 or 0. \n",
    "- Random Forest Model would be the best model to predict dataset that consists of mostly category feature, like the dataset in our problem domain here.\n",
    "\n",
    "\n",
    "#### Recommendations: \n",
    "1. For further extension of the project, We could re-evaluate each model on the **whole** dataset suing additional evaluation measures outliner in part 5.6.\n",
    "2. An important explanary document to state how the model works, what is its limitation should be set out. We need to identify the limitation of the models, or listing out all of the assumptions of the models (such as case virus variant constant, the model will not be too accurate if predicting with year other than 2020, 2021, 2022 (cause only 3 years 2020, 2021, 2022 fed) etc.)"
   ]
  }
 ],
 "metadata": {
  "kernelspec": {
   "display_name": "comp47350py38",
   "language": "python",
   "name": "python3"
  },
  "language_info": {
   "codemirror_mode": {
    "name": "ipython",
    "version": 3
   },
   "file_extension": ".py",
   "mimetype": "text/x-python",
   "name": "python",
   "nbconvert_exporter": "python",
   "pygments_lexer": "ipython3",
   "version": "3.8.16"
  }
 },
 "nbformat": 4,
 "nbformat_minor": 5
}
